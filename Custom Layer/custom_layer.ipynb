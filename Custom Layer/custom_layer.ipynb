{
 "cells": [
  {
   "cell_type": "code",
   "execution_count": 1,
   "metadata": {},
   "outputs": [
    {
     "name": "stderr",
     "output_type": "stream",
     "text": [
      "c:\\Users\\hosma\\anaconda3\\envs\\machineLearning\\lib\\site-packages\\tqdm\\auto.py:22: TqdmWarning: IProgress not found. Please update jupyter and ipywidgets. See https://ipywidgets.readthedocs.io/en/stable/user_install.html\n",
      "  from .autonotebook import tqdm as notebook_tqdm\n"
     ]
    }
   ],
   "source": [
    "import keras \n",
    "import tensorflow as tf\n",
    "from keras.layers import Layer \n",
    "from keras import Model \n",
    "from keras.losses import SparseCategoricalCrossentropy\n",
    "import tensorflow_datasets as tfds"
   ]
  },
  {
   "cell_type": "markdown",
   "metadata": {},
   "source": [
    "Data Process"
   ]
  },
  {
   "cell_type": "code",
   "execution_count": 2,
   "metadata": {},
   "outputs": [],
   "source": [
    "(train_set,test_set),ds_info = tfds.load('mnist',with_info=True, split=['train',\"test\"], shuffle_files=True,as_supervised=True)"
   ]
  },
  {
   "cell_type": "code",
   "execution_count": 3,
   "metadata": {},
   "outputs": [],
   "source": [
    "def normalize_image(image,label):\n",
    "    \n",
    "    image = tf.reshape(image,[image.shape[0]*image.shape[1]])\n",
    " \n",
    "    return tf.cast(image,tf.float32)/255.0,label"
   ]
  },
  {
   "cell_type": "code",
   "execution_count": 4,
   "metadata": {},
   "outputs": [],
   "source": [
    "AUTOTUNE = tf.data.experimental.AUTOTUNE\n",
    "BATCHSIZE = 64\n",
    "\n",
    "train_set = train_set.map(normalize_image, num_parallel_calls=AUTOTUNE)\n",
    "train_set = train_set.cache()\n",
    "train_set = train_set.shuffle(ds_info.splits[\"train\"].num_examples)\n",
    "train_set = train_set.batch(BATCHSIZE)\n",
    "train_set = train_set.prefetch(AUTOTUNE)\n",
    "\n",
    "test_set = test_set.map(normalize_image, num_parallel_calls=AUTOTUNE)\n",
    "test_set = test_set.batch(BATCHSIZE)\n",
    "test_set = test_set.prefetch(AUTOTUNE)"
   ]
  },
  {
   "cell_type": "markdown",
   "metadata": {},
   "source": [
    "Make Model"
   ]
  },
  {
   "cell_type": "code",
   "execution_count": 5,
   "metadata": {},
   "outputs": [],
   "source": [
    "class Relu(Layer):\n",
    "\n",
    "    def __init__(self,):\n",
    "\n",
    "        super(Relu, self).__init__()\n",
    "    \n",
    "    def call(self,x):\n",
    "        \n",
    "        return tf.math.maximum(x,0)\n",
    "       \n",
    "       \n",
    "        \n",
    "class Dense(Layer):\n",
    "\n",
    "    def __init__(self,units):\n",
    "        \n",
    "        super(Dense, self).__init__()\n",
    "        self.units = units\n",
    "\n",
    "    \n",
    "    def build(self,input_shape):\n",
    "       \n",
    "        self.w = self.add_weight(name=\"w\",shape=(input_shape[-1],self.units),initializer=\"random_normal\",trainable=True,)\n",
    "        \n",
    "        self.b = self.add_weight(name=\"b\",shape=(self.units,),initializer=\"random_normal\",trainable=True,)\n",
    "\n",
    "    def call(self,inputs):\n",
    "        return tf.matmul(inputs,self.w) + self.b"
   ]
  },
  {
   "cell_type": "code",
   "execution_count": 6,
   "metadata": {},
   "outputs": [],
   "source": [
    "class myModel(Model):\n",
    "\n",
    "    def __init__(self,number_of_classes = 10):\n",
    "\n",
    "        super(myModel, self).__init__()\n",
    "\n",
    "        self.dense1 = Dense(64)\n",
    "        self.dense2 = Dense(32)\n",
    "        self.classifier = Dense(number_of_classes)\n",
    "        self.relu = Relu()\n",
    "    \n",
    "    def call(self,x):\n",
    "\n",
    "        x = self.dense1(x)\n",
    "   \n",
    "        x = self.dense2(x)\n",
    "        x = self.relu(x)\n",
    "        x = self.classifier(x)\n",
    "    \n",
    "        return x\n"
   ]
  },
  {
   "cell_type": "code",
   "execution_count": 7,
   "metadata": {},
   "outputs": [],
   "source": [
    "model = myModel()\n",
    "\n",
    "model.compile(optimizer = \"adam\",loss=SparseCategoricalCrossentropy(from_logits=True),metrics=\"accuracy\")"
   ]
  },
  {
   "cell_type": "code",
   "execution_count": 8,
   "metadata": {},
   "outputs": [
    {
     "name": "stdout",
     "output_type": "stream",
     "text": [
      "Epoch 1/10\n",
      "938/938 - 11s - loss: 0.4590 - accuracy: 0.8688 - 11s/epoch - 12ms/step\n",
      "Epoch 2/10\n",
      "938/938 - 4s - loss: 0.2523 - accuracy: 0.9275 - 4s/epoch - 5ms/step\n",
      "Epoch 3/10\n",
      "938/938 - 4s - loss: 0.2118 - accuracy: 0.9379 - 4s/epoch - 5ms/step\n",
      "Epoch 4/10\n",
      "938/938 - 4s - loss: 0.1814 - accuracy: 0.9466 - 4s/epoch - 4ms/step\n",
      "Epoch 5/10\n",
      "938/938 - 4s - loss: 0.1590 - accuracy: 0.9522 - 4s/epoch - 4ms/step\n",
      "Epoch 6/10\n",
      "938/938 - 5s - loss: 0.1406 - accuracy: 0.9586 - 5s/epoch - 5ms/step\n",
      "Epoch 7/10\n",
      "938/938 - 6s - loss: 0.1265 - accuracy: 0.9612 - 6s/epoch - 6ms/step\n",
      "Epoch 8/10\n",
      "938/938 - 5s - loss: 0.1159 - accuracy: 0.9646 - 5s/epoch - 5ms/step\n",
      "Epoch 9/10\n",
      "938/938 - 5s - loss: 0.1075 - accuracy: 0.9671 - 5s/epoch - 5ms/step\n",
      "Epoch 10/10\n",
      "938/938 - 5s - loss: 0.1006 - accuracy: 0.9692 - 5s/epoch - 6ms/step\n"
     ]
    },
    {
     "data": {
      "text/plain": [
       "<keras.callbacks.History at 0x1eb8005b7f0>"
      ]
     },
     "execution_count": 8,
     "metadata": {},
     "output_type": "execute_result"
    }
   ],
   "source": [
    "model.fit(train_set,epochs=10,verbose=2)"
   ]
  },
  {
   "cell_type": "code",
   "execution_count": 9,
   "metadata": {},
   "outputs": [
    {
     "name": "stdout",
     "output_type": "stream",
     "text": [
      "157/157 - 1s - loss: 0.1318 - accuracy: 0.9604 - 1s/epoch - 9ms/step\n",
      "Test loss: 0.13176383078098297\n",
      "Test accuracy: 0.9603999853134155\n"
     ]
    }
   ],
   "source": [
    "score = model.evaluate(test_set,verbose=2)\n",
    "print('Test loss:', score[0]) \n",
    "print('Test accuracy:', score[1])"
   ]
  }
 ],
 "metadata": {
  "kernelspec": {
   "display_name": "Python 3.9.13 ('machineLearning')",
   "language": "python",
   "name": "python3"
  },
  "language_info": {
   "codemirror_mode": {
    "name": "ipython",
    "version": 3
   },
   "file_extension": ".py",
   "mimetype": "text/x-python",
   "name": "python",
   "nbconvert_exporter": "python",
   "pygments_lexer": "ipython3",
   "version": "3.9.13"
  },
  "orig_nbformat": 4,
  "vscode": {
   "interpreter": {
    "hash": "ba0bac22d9eb68f7f5a06ef2e353ac664856aa0e4acc18841217d9d0b0f1928e"
   }
  }
 },
 "nbformat": 4,
 "nbformat_minor": 2
}
