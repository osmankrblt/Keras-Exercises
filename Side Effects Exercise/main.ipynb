{
 "cells": [
  {
   "cell_type": "code",
   "execution_count": 1,
   "metadata": {
    "collapsed": true,
    "pycharm": {
     "name": "#%%\n"
    }
   },
   "outputs": [],
   "source": [
    "import itertools\n",
    "\n",
    "import numpy as np"
   ]
  },
  {
   "cell_type": "code",
   "execution_count": 2,
   "metadata": {
    "collapsed": false,
    "pycharm": {
     "name": "#%%\n"
    }
   },
   "outputs": [],
   "source": [
    "train_samples = []\n",
    "train_labels = []\n",
    "\n",
    "for i in range(100):\n",
    "    train_samples.append(np.random.randint(13,64))\n",
    "    train_labels.append(0)\n",
    "\n",
    "    train_samples.append(np.random.randint(65,100))\n",
    "    train_labels.append(1)\n",
    "\n",
    "\n",
    "for i in range(2000):\n",
    "    train_samples.append(np.random.randint(13,64))\n",
    "    train_labels.append(1)\n",
    "\n",
    "    train_samples.append(np.random.randint(65,100))\n",
    "    train_labels.append(0)"
   ]
  },
  {
   "cell_type": "code",
   "execution_count": 3,
   "metadata": {
    "collapsed": false,
    "pycharm": {
     "name": "#%%\n"
    }
   },
   "outputs": [
    {
     "data": {
      "text/plain": [
       "4200"
      ]
     },
     "execution_count": 3,
     "metadata": {},
     "output_type": "execute_result"
    }
   ],
   "source": [
    "len(train_samples)"
   ]
  },
  {
   "cell_type": "code",
   "execution_count": 4,
   "metadata": {
    "collapsed": false,
    "pycharm": {
     "name": "#%%\n"
    }
   },
   "outputs": [],
   "source": [
    "def shuffle(x,y):\n",
    "    temp_x=[]\n",
    "    temp_y=[]\n",
    "    if len(x) == len(y):\n",
    "        for i in range(len(x)):\n",
    "            k = np.random.randint(0,len(x))\n",
    "            temp_x.append(x[k])\n",
    "            temp_y.append(y[k])\n",
    "            x = np.delete(x, k)\n",
    "            y = np.delete(y, k)\n",
    "\n",
    "        return np.array(temp_x),np.array(temp_y)\n",
    "    else:\n",
    "        raise Exception(\"Arrays length didnt equal\")"
   ]
  },
  {
   "cell_type": "code",
   "execution_count": 5,
   "metadata": {
    "collapsed": false,
    "pycharm": {
     "name": "#%%\n"
    }
   },
   "outputs": [],
   "source": [
    "train_samples = np.array(train_samples)\n",
    "train_labels = np.array(train_labels)\n",
    "\n",
    "train_samples,train_labels = shuffle(train_samples,train_labels)"
   ]
  },
  {
   "cell_type": "code",
   "execution_count": 6,
   "metadata": {
    "collapsed": false,
    "pycharm": {
     "name": "#%%\n"
    }
   },
   "outputs": [
    {
     "data": {
      "text/plain": [
       "array([89, 26, 43, 69, 26])"
      ]
     },
     "execution_count": 6,
     "metadata": {},
     "output_type": "execute_result"
    }
   ],
   "source": [
    "train_samples[0:5]"
   ]
  },
  {
   "cell_type": "code",
   "execution_count": 7,
   "metadata": {
    "collapsed": false,
    "pycharm": {
     "name": "#%%\n"
    }
   },
   "outputs": [
    {
     "data": {
      "text/plain": [
       "array([0, 1, 1, 0, 1])"
      ]
     },
     "execution_count": 7,
     "metadata": {},
     "output_type": "execute_result"
    }
   ],
   "source": [
    "train_labels[0:5]"
   ]
  },
  {
   "cell_type": "code",
   "execution_count": 8,
   "metadata": {
    "collapsed": false,
    "pycharm": {
     "name": "#%%\n"
    }
   },
   "outputs": [
    {
     "data": {
      "text/plain": [
       "array([[0.88372093],\n",
       "       [0.15116279],\n",
       "       [0.34883721],\n",
       "       [0.65116279],\n",
       "       [0.15116279]])"
      ]
     },
     "execution_count": 8,
     "metadata": {},
     "output_type": "execute_result"
    }
   ],
   "source": [
    "from sklearn.preprocessing import MinMaxScaler\n",
    "\n",
    "scaler = MinMaxScaler(feature_range=(0,1))\n",
    "\n",
    "train_samples_scaled = scaler.fit_transform(train_samples.reshape(-1,1))\n",
    "train_samples_scaled[0:5]"
   ]
  },
  {
   "cell_type": "code",
   "execution_count": 9,
   "metadata": {
    "collapsed": false,
    "pycharm": {
     "name": "#%%\n"
    }
   },
   "outputs": [],
   "source": [
    "import keras\n",
    "from keras import Sequential\n",
    "from keras.layers import Dense,Dropout,BatchNormalization"
   ]
  },
  {
   "cell_type": "code",
   "execution_count": 10,
   "metadata": {
    "collapsed": false,
    "pycharm": {
     "name": "#%%\n"
    }
   },
   "outputs": [
    {
     "name": "stdout",
     "output_type": "stream",
     "text": [
      "[PhysicalDevice(name='/physical_device:CPU:0', device_type='CPU'), PhysicalDevice(name='/physical_device:GPU:0', device_type='GPU')]\n",
      "Num Gpu Devices 2\n"
     ]
    }
   ],
   "source": [
    "import tensorflow as tf\n",
    "\n",
    "devices  = tf.config.experimental.list_physical_devices()\n",
    "print(devices)\n",
    "print(\"Num Gpu Devices\",len(devices))\n",
    "tf.config.experimental.set_memory_growth(devices[1],True)"
   ]
  },
  {
   "cell_type": "code",
   "execution_count": 11,
   "metadata": {
    "collapsed": false,
    "pycharm": {
     "name": "#%%\n"
    }
   },
   "outputs": [],
   "source": [
    "model = Sequential()\n",
    "model.add(Dense(units=16,input_shape=(1,),activation=\"relu\"))\n",
    "model.add(BatchNormalization())\n",
    "model.add(Dense(units=32,activation=\"relu\"))\n",
    "model.add(BatchNormalization())\n",
    "model.add(Dense(units=16,activation=\"relu\"))\n",
    "model.add(BatchNormalization())\n",
    "model.add(Dense(units=2,activation=\"softmax\"))"
   ]
  },
  {
   "cell_type": "code",
   "execution_count": 12,
   "metadata": {
    "collapsed": false,
    "pycharm": {
     "name": "#%%\n"
    }
   },
   "outputs": [
    {
     "name": "stdout",
     "output_type": "stream",
     "text": [
      "Model: \"sequential\"\n",
      "_________________________________________________________________\n",
      " Layer (type)                Output Shape              Param #   \n",
      "=================================================================\n",
      " dense (Dense)               (None, 16)                32        \n",
      "                                                                 \n",
      " batch_normalization (BatchN  (None, 16)               64        \n",
      " ormalization)                                                   \n",
      "                                                                 \n",
      " dense_1 (Dense)             (None, 32)                544       \n",
      "                                                                 \n",
      " batch_normalization_1 (Batc  (None, 32)               128       \n",
      " hNormalization)                                                 \n",
      "                                                                 \n",
      " dense_2 (Dense)             (None, 16)                528       \n",
      "                                                                 \n",
      " batch_normalization_2 (Batc  (None, 16)               64        \n",
      " hNormalization)                                                 \n",
      "                                                                 \n",
      " dense_3 (Dense)             (None, 2)                 34        \n",
      "                                                                 \n",
      "=================================================================\n",
      "Total params: 1,394\n",
      "Trainable params: 1,266\n",
      "Non-trainable params: 128\n",
      "_________________________________________________________________\n"
     ]
    }
   ],
   "source": [
    "model.summary()"
   ]
  },
  {
   "cell_type": "code",
   "execution_count": 13,
   "metadata": {
    "collapsed": false,
    "pycharm": {
     "name": "#%%\n"
    }
   },
   "outputs": [],
   "source": [
    "from keras.optimizers import Adam\n",
    "\n",
    "model.compile(optimizer=Adam(learning_rate=0.00001),loss=\"sparse_categorical_crossentropy\",metrics=[\"accuracy\"])"
   ]
  },
  {
   "cell_type": "code",
   "execution_count": 14,
   "metadata": {
    "collapsed": false,
    "pycharm": {
     "name": "#%%\n"
    }
   },
   "outputs": [
    {
     "name": "stdout",
     "output_type": "stream",
     "text": [
      "Epoch 1/100\n",
      "8/8 - 3s - loss: 0.7387 - accuracy: 0.5405 - val_loss: 2.7561 - val_accuracy: 0.4595 - 3s/epoch - 333ms/step\n",
      "Epoch 2/100\n",
      "8/8 - 0s - loss: 0.7328 - accuracy: 0.5413 - val_loss: 2.0664 - val_accuracy: 0.4595 - 94ms/epoch - 12ms/step\n",
      "Epoch 3/100\n",
      "8/8 - 0s - loss: 0.7278 - accuracy: 0.5500 - val_loss: 1.7624 - val_accuracy: 0.4000 - 116ms/epoch - 15ms/step\n",
      "Epoch 4/100\n",
      "8/8 - 0s - loss: 0.7232 - accuracy: 0.5587 - val_loss: 1.5833 - val_accuracy: 0.3429 - 155ms/epoch - 19ms/step\n",
      "Epoch 5/100\n",
      "8/8 - 0s - loss: 0.7187 - accuracy: 0.5532 - val_loss: 1.4604 - val_accuracy: 0.2976 - 167ms/epoch - 21ms/step\n",
      "Epoch 6/100\n",
      "8/8 - 0s - loss: 0.7136 - accuracy: 0.5672 - val_loss: 1.3678 - val_accuracy: 0.2548 - 192ms/epoch - 24ms/step\n",
      "Epoch 7/100\n",
      "8/8 - 0s - loss: 0.7086 - accuracy: 0.5667 - val_loss: 1.2957 - val_accuracy: 0.2190 - 212ms/epoch - 26ms/step\n",
      "Epoch 8/100\n",
      "8/8 - 0s - loss: 0.7043 - accuracy: 0.5722 - val_loss: 1.2373 - val_accuracy: 0.1667 - 190ms/epoch - 24ms/step\n",
      "Epoch 9/100\n",
      "8/8 - 0s - loss: 0.6989 - accuracy: 0.5738 - val_loss: 1.1870 - val_accuracy: 0.1429 - 185ms/epoch - 23ms/step\n",
      "Epoch 10/100\n",
      "8/8 - 0s - loss: 0.6940 - accuracy: 0.5746 - val_loss: 1.1437 - val_accuracy: 0.1167 - 182ms/epoch - 23ms/step\n",
      "Epoch 11/100\n",
      "8/8 - 0s - loss: 0.6905 - accuracy: 0.5847 - val_loss: 1.1059 - val_accuracy: 0.0833 - 151ms/epoch - 19ms/step\n",
      "Epoch 12/100\n",
      "8/8 - 0s - loss: 0.6862 - accuracy: 0.5862 - val_loss: 1.0720 - val_accuracy: 0.0595 - 167ms/epoch - 21ms/step\n",
      "Epoch 13/100\n",
      "8/8 - 0s - loss: 0.6793 - accuracy: 0.5905 - val_loss: 1.0408 - val_accuracy: 0.0524 - 176ms/epoch - 22ms/step\n",
      "Epoch 14/100\n",
      "8/8 - 0s - loss: 0.6768 - accuracy: 0.5963 - val_loss: 1.0118 - val_accuracy: 0.0786 - 211ms/epoch - 26ms/step\n",
      "Epoch 15/100\n",
      "8/8 - 0s - loss: 0.6719 - accuracy: 0.6058 - val_loss: 0.9850 - val_accuracy: 0.1119 - 171ms/epoch - 21ms/step\n",
      "Epoch 16/100\n",
      "8/8 - 0s - loss: 0.6669 - accuracy: 0.6048 - val_loss: 0.9599 - val_accuracy: 0.1405 - 174ms/epoch - 22ms/step\n",
      "Epoch 17/100\n",
      "8/8 - 0s - loss: 0.6633 - accuracy: 0.6029 - val_loss: 0.9373 - val_accuracy: 0.1786 - 160ms/epoch - 20ms/step\n",
      "Epoch 18/100\n",
      "8/8 - 0s - loss: 0.6580 - accuracy: 0.6132 - val_loss: 0.9162 - val_accuracy: 0.2024 - 144ms/epoch - 18ms/step\n",
      "Epoch 19/100\n",
      "8/8 - 0s - loss: 0.6532 - accuracy: 0.6196 - val_loss: 0.8968 - val_accuracy: 0.2286 - 170ms/epoch - 21ms/step\n",
      "Epoch 20/100\n",
      "8/8 - 0s - loss: 0.6497 - accuracy: 0.6183 - val_loss: 0.8790 - val_accuracy: 0.2714 - 159ms/epoch - 20ms/step\n",
      "Epoch 21/100\n",
      "8/8 - 0s - loss: 0.6430 - accuracy: 0.6344 - val_loss: 0.8622 - val_accuracy: 0.2786 - 137ms/epoch - 17ms/step\n",
      "Epoch 22/100\n",
      "8/8 - 0s - loss: 0.6400 - accuracy: 0.6320 - val_loss: 0.8467 - val_accuracy: 0.3167 - 233ms/epoch - 29ms/step\n",
      "Epoch 23/100\n",
      "8/8 - 0s - loss: 0.6351 - accuracy: 0.6357 - val_loss: 0.8322 - val_accuracy: 0.3452 - 164ms/epoch - 21ms/step\n",
      "Epoch 24/100\n",
      "8/8 - 0s - loss: 0.6305 - accuracy: 0.6323 - val_loss: 0.8191 - val_accuracy: 0.3762 - 185ms/epoch - 23ms/step\n",
      "Epoch 25/100\n",
      "8/8 - 0s - loss: 0.6263 - accuracy: 0.6405 - val_loss: 0.8070 - val_accuracy: 0.3762 - 183ms/epoch - 23ms/step\n",
      "Epoch 26/100\n",
      "8/8 - 0s - loss: 0.6231 - accuracy: 0.6474 - val_loss: 0.7960 - val_accuracy: 0.3857 - 186ms/epoch - 23ms/step\n",
      "Epoch 27/100\n",
      "8/8 - 0s - loss: 0.6182 - accuracy: 0.6537 - val_loss: 0.7857 - val_accuracy: 0.4071 - 171ms/epoch - 21ms/step\n",
      "Epoch 28/100\n",
      "8/8 - 0s - loss: 0.6134 - accuracy: 0.6585 - val_loss: 0.7763 - val_accuracy: 0.4310 - 193ms/epoch - 24ms/step\n",
      "Epoch 29/100\n",
      "8/8 - 0s - loss: 0.6095 - accuracy: 0.6598 - val_loss: 0.7677 - val_accuracy: 0.4429 - 203ms/epoch - 25ms/step\n",
      "Epoch 30/100\n",
      "8/8 - 0s - loss: 0.6051 - accuracy: 0.6669 - val_loss: 0.7597 - val_accuracy: 0.4524 - 164ms/epoch - 21ms/step\n",
      "Epoch 31/100\n",
      "8/8 - 0s - loss: 0.6016 - accuracy: 0.6643 - val_loss: 0.7524 - val_accuracy: 0.4524 - 142ms/epoch - 18ms/step\n",
      "Epoch 32/100\n",
      "8/8 - 0s - loss: 0.5978 - accuracy: 0.6698 - val_loss: 0.7454 - val_accuracy: 0.4548 - 135ms/epoch - 17ms/step\n",
      "Epoch 33/100\n",
      "8/8 - 0s - loss: 0.5930 - accuracy: 0.6775 - val_loss: 0.7390 - val_accuracy: 0.4643 - 106ms/epoch - 13ms/step\n",
      "Epoch 34/100\n",
      "8/8 - 0s - loss: 0.5903 - accuracy: 0.6796 - val_loss: 0.7333 - val_accuracy: 0.4738 - 132ms/epoch - 17ms/step\n",
      "Epoch 35/100\n",
      "8/8 - 0s - loss: 0.5850 - accuracy: 0.6886 - val_loss: 0.7276 - val_accuracy: 0.4738 - 112ms/epoch - 14ms/step\n",
      "Epoch 36/100\n",
      "8/8 - 0s - loss: 0.5807 - accuracy: 0.6952 - val_loss: 0.7223 - val_accuracy: 0.4976 - 116ms/epoch - 15ms/step\n",
      "Epoch 37/100\n",
      "8/8 - 0s - loss: 0.5779 - accuracy: 0.6939 - val_loss: 0.7174 - val_accuracy: 0.4976 - 109ms/epoch - 14ms/step\n",
      "Epoch 38/100\n",
      "8/8 - 0s - loss: 0.5745 - accuracy: 0.7029 - val_loss: 0.7124 - val_accuracy: 0.5167 - 98ms/epoch - 12ms/step\n",
      "Epoch 39/100\n",
      "8/8 - 0s - loss: 0.5706 - accuracy: 0.7032 - val_loss: 0.7079 - val_accuracy: 0.5167 - 103ms/epoch - 13ms/step\n",
      "Epoch 40/100\n",
      "8/8 - 0s - loss: 0.5687 - accuracy: 0.7063 - val_loss: 0.7032 - val_accuracy: 0.5167 - 100ms/epoch - 12ms/step\n",
      "Epoch 41/100\n",
      "8/8 - 0s - loss: 0.5638 - accuracy: 0.7132 - val_loss: 0.6988 - val_accuracy: 0.5262 - 113ms/epoch - 14ms/step\n",
      "Epoch 42/100\n",
      "8/8 - 0s - loss: 0.5614 - accuracy: 0.7190 - val_loss: 0.6948 - val_accuracy: 0.5262 - 103ms/epoch - 13ms/step\n",
      "Epoch 43/100\n",
      "8/8 - 0s - loss: 0.5584 - accuracy: 0.7153 - val_loss: 0.6907 - val_accuracy: 0.5262 - 120ms/epoch - 15ms/step\n",
      "Epoch 44/100\n",
      "8/8 - 0s - loss: 0.5540 - accuracy: 0.7198 - val_loss: 0.6865 - val_accuracy: 0.5262 - 105ms/epoch - 13ms/step\n",
      "Epoch 45/100\n",
      "8/8 - 0s - loss: 0.5533 - accuracy: 0.7167 - val_loss: 0.6824 - val_accuracy: 0.5286 - 105ms/epoch - 13ms/step\n",
      "Epoch 46/100\n",
      "8/8 - 0s - loss: 0.5495 - accuracy: 0.7315 - val_loss: 0.6786 - val_accuracy: 0.5286 - 107ms/epoch - 13ms/step\n",
      "Epoch 47/100\n",
      "8/8 - 0s - loss: 0.5453 - accuracy: 0.7376 - val_loss: 0.6743 - val_accuracy: 0.5405 - 112ms/epoch - 14ms/step\n",
      "Epoch 48/100\n",
      "8/8 - 0s - loss: 0.5422 - accuracy: 0.7341 - val_loss: 0.6702 - val_accuracy: 0.5476 - 104ms/epoch - 13ms/step\n",
      "Epoch 49/100\n",
      "8/8 - 0s - loss: 0.5390 - accuracy: 0.7447 - val_loss: 0.6660 - val_accuracy: 0.5476 - 102ms/epoch - 13ms/step\n",
      "Epoch 50/100\n",
      "8/8 - 0s - loss: 0.5372 - accuracy: 0.7444 - val_loss: 0.6615 - val_accuracy: 0.5476 - 102ms/epoch - 13ms/step\n",
      "Epoch 51/100\n",
      "8/8 - 0s - loss: 0.5344 - accuracy: 0.7415 - val_loss: 0.6570 - val_accuracy: 0.5571 - 102ms/epoch - 13ms/step\n",
      "Epoch 52/100\n",
      "8/8 - 0s - loss: 0.5308 - accuracy: 0.7553 - val_loss: 0.6523 - val_accuracy: 0.5571 - 101ms/epoch - 13ms/step\n",
      "Epoch 53/100\n",
      "8/8 - 0s - loss: 0.5280 - accuracy: 0.7548 - val_loss: 0.6474 - val_accuracy: 0.5571 - 104ms/epoch - 13ms/step\n",
      "Epoch 54/100\n",
      "8/8 - 0s - loss: 0.5245 - accuracy: 0.7577 - val_loss: 0.6424 - val_accuracy: 0.5595 - 111ms/epoch - 14ms/step\n",
      "Epoch 55/100\n",
      "8/8 - 0s - loss: 0.5228 - accuracy: 0.7667 - val_loss: 0.6374 - val_accuracy: 0.5595 - 101ms/epoch - 13ms/step\n",
      "Epoch 56/100\n",
      "8/8 - 0s - loss: 0.5191 - accuracy: 0.7616 - val_loss: 0.6325 - val_accuracy: 0.5595 - 98ms/epoch - 12ms/step\n",
      "Epoch 57/100\n",
      "8/8 - 0s - loss: 0.5146 - accuracy: 0.7762 - val_loss: 0.6271 - val_accuracy: 0.5595 - 122ms/epoch - 15ms/step\n",
      "Epoch 58/100\n",
      "8/8 - 0s - loss: 0.5122 - accuracy: 0.7712 - val_loss: 0.6218 - val_accuracy: 0.5690 - 104ms/epoch - 13ms/step\n",
      "Epoch 59/100\n",
      "8/8 - 0s - loss: 0.5090 - accuracy: 0.7844 - val_loss: 0.6165 - val_accuracy: 0.5690 - 100ms/epoch - 13ms/step\n",
      "Epoch 60/100\n",
      "8/8 - 0s - loss: 0.5071 - accuracy: 0.7807 - val_loss: 0.6110 - val_accuracy: 0.5905 - 102ms/epoch - 13ms/step\n",
      "Epoch 61/100\n",
      "8/8 - 0s - loss: 0.5032 - accuracy: 0.7892 - val_loss: 0.6061 - val_accuracy: 0.6071 - 122ms/epoch - 15ms/step\n",
      "Epoch 62/100\n",
      "8/8 - 0s - loss: 0.4988 - accuracy: 0.7910 - val_loss: 0.6014 - val_accuracy: 0.6286 - 131ms/epoch - 16ms/step\n",
      "Epoch 63/100\n",
      "8/8 - 0s - loss: 0.4960 - accuracy: 0.7960 - val_loss: 0.5967 - val_accuracy: 0.6405 - 129ms/epoch - 16ms/step\n",
      "Epoch 64/100\n",
      "8/8 - 0s - loss: 0.4929 - accuracy: 0.8034 - val_loss: 0.5923 - val_accuracy: 0.6548 - 121ms/epoch - 15ms/step\n",
      "Epoch 65/100\n",
      "8/8 - 0s - loss: 0.4902 - accuracy: 0.8032 - val_loss: 0.5882 - val_accuracy: 0.6762 - 123ms/epoch - 15ms/step\n",
      "Epoch 66/100\n",
      "8/8 - 0s - loss: 0.4866 - accuracy: 0.8079 - val_loss: 0.5840 - val_accuracy: 0.6929 - 193ms/epoch - 24ms/step\n",
      "Epoch 67/100\n",
      "8/8 - 0s - loss: 0.4829 - accuracy: 0.8130 - val_loss: 0.5800 - val_accuracy: 0.6929 - 161ms/epoch - 20ms/step\n",
      "Epoch 68/100\n",
      "8/8 - 0s - loss: 0.4809 - accuracy: 0.8119 - val_loss: 0.5761 - val_accuracy: 0.7000 - 136ms/epoch - 17ms/step\n",
      "Epoch 69/100\n",
      "8/8 - 0s - loss: 0.4744 - accuracy: 0.8413 - val_loss: 0.5724 - val_accuracy: 0.7095 - 137ms/epoch - 17ms/step\n",
      "Epoch 70/100\n",
      "8/8 - 0s - loss: 0.4728 - accuracy: 0.8392 - val_loss: 0.5687 - val_accuracy: 0.7095 - 118ms/epoch - 15ms/step\n",
      "Epoch 71/100\n",
      "8/8 - 0s - loss: 0.4687 - accuracy: 0.8418 - val_loss: 0.5650 - val_accuracy: 0.7262 - 112ms/epoch - 14ms/step\n",
      "Epoch 72/100\n",
      "8/8 - 0s - loss: 0.4667 - accuracy: 0.8545 - val_loss: 0.5615 - val_accuracy: 0.7405 - 125ms/epoch - 16ms/step\n",
      "Epoch 73/100\n",
      "8/8 - 0s - loss: 0.4614 - accuracy: 0.8603 - val_loss: 0.5580 - val_accuracy: 0.7405 - 103ms/epoch - 13ms/step\n",
      "Epoch 74/100\n",
      "8/8 - 0s - loss: 0.4579 - accuracy: 0.8683 - val_loss: 0.5541 - val_accuracy: 0.7381 - 113ms/epoch - 14ms/step\n",
      "Epoch 75/100\n",
      "8/8 - 0s - loss: 0.4550 - accuracy: 0.8775 - val_loss: 0.5502 - val_accuracy: 0.7429 - 101ms/epoch - 13ms/step\n",
      "Epoch 76/100\n",
      "8/8 - 0s - loss: 0.4525 - accuracy: 0.8741 - val_loss: 0.5461 - val_accuracy: 0.7429 - 107ms/epoch - 13ms/step\n",
      "Epoch 77/100\n",
      "8/8 - 0s - loss: 0.4515 - accuracy: 0.8722 - val_loss: 0.5418 - val_accuracy: 0.7500 - 110ms/epoch - 14ms/step\n",
      "Epoch 78/100\n",
      "8/8 - 0s - loss: 0.4466 - accuracy: 0.8947 - val_loss: 0.5377 - val_accuracy: 0.7500 - 117ms/epoch - 15ms/step\n",
      "Epoch 79/100\n",
      "8/8 - 0s - loss: 0.4442 - accuracy: 0.8878 - val_loss: 0.5336 - val_accuracy: 0.7500 - 110ms/epoch - 14ms/step\n",
      "Epoch 80/100\n",
      "8/8 - 0s - loss: 0.4420 - accuracy: 0.8960 - val_loss: 0.5295 - val_accuracy: 0.7500 - 112ms/epoch - 14ms/step\n",
      "Epoch 81/100\n",
      "8/8 - 0s - loss: 0.4401 - accuracy: 0.8958 - val_loss: 0.5256 - val_accuracy: 0.7738 - 100ms/epoch - 12ms/step\n",
      "Epoch 82/100\n",
      "8/8 - 0s - loss: 0.4385 - accuracy: 0.8976 - val_loss: 0.5217 - val_accuracy: 0.7905 - 98ms/epoch - 12ms/step\n",
      "Epoch 83/100\n",
      "8/8 - 0s - loss: 0.4347 - accuracy: 0.9021 - val_loss: 0.5179 - val_accuracy: 0.7905 - 96ms/epoch - 12ms/step\n",
      "Epoch 84/100\n",
      "8/8 - 0s - loss: 0.4334 - accuracy: 0.8971 - val_loss: 0.5142 - val_accuracy: 0.7929 - 105ms/epoch - 13ms/step\n",
      "Epoch 85/100\n",
      "8/8 - 0s - loss: 0.4308 - accuracy: 0.9074 - val_loss: 0.5106 - val_accuracy: 0.7976 - 107ms/epoch - 13ms/step\n",
      "Epoch 86/100\n",
      "8/8 - 0s - loss: 0.4296 - accuracy: 0.8997 - val_loss: 0.5069 - val_accuracy: 0.7976 - 110ms/epoch - 14ms/step\n",
      "Epoch 87/100\n",
      "8/8 - 0s - loss: 0.4279 - accuracy: 0.8979 - val_loss: 0.5034 - val_accuracy: 0.8048 - 150ms/epoch - 19ms/step\n",
      "Epoch 88/100\n",
      "8/8 - 0s - loss: 0.4254 - accuracy: 0.9050 - val_loss: 0.5000 - val_accuracy: 0.8143 - 133ms/epoch - 17ms/step\n",
      "Epoch 89/100\n",
      "8/8 - 0s - loss: 0.4236 - accuracy: 0.9063 - val_loss: 0.4966 - val_accuracy: 0.8214 - 146ms/epoch - 18ms/step\n",
      "Epoch 90/100\n",
      "8/8 - 0s - loss: 0.4205 - accuracy: 0.9122 - val_loss: 0.4933 - val_accuracy: 0.8381 - 120ms/epoch - 15ms/step\n",
      "Epoch 91/100\n",
      "8/8 - 0s - loss: 0.4200 - accuracy: 0.9103 - val_loss: 0.4899 - val_accuracy: 0.8476 - 116ms/epoch - 15ms/step\n",
      "Epoch 92/100\n",
      "8/8 - 0s - loss: 0.4164 - accuracy: 0.9122 - val_loss: 0.4870 - val_accuracy: 0.8476 - 120ms/epoch - 15ms/step\n",
      "Epoch 93/100\n",
      "8/8 - 0s - loss: 0.4148 - accuracy: 0.9130 - val_loss: 0.4839 - val_accuracy: 0.8619 - 117ms/epoch - 15ms/step\n",
      "Epoch 94/100\n",
      "8/8 - 0s - loss: 0.4151 - accuracy: 0.9095 - val_loss: 0.4810 - val_accuracy: 0.8619 - 143ms/epoch - 18ms/step\n",
      "Epoch 95/100\n",
      "8/8 - 0s - loss: 0.4115 - accuracy: 0.9164 - val_loss: 0.4778 - val_accuracy: 0.8619 - 143ms/epoch - 18ms/step\n",
      "Epoch 96/100\n",
      "8/8 - 0s - loss: 0.4101 - accuracy: 0.9183 - val_loss: 0.4748 - val_accuracy: 0.8619 - 118ms/epoch - 15ms/step\n",
      "Epoch 97/100\n",
      "8/8 - 0s - loss: 0.4079 - accuracy: 0.9209 - val_loss: 0.4720 - val_accuracy: 0.8619 - 103ms/epoch - 13ms/step\n",
      "Epoch 98/100\n",
      "8/8 - 0s - loss: 0.4063 - accuracy: 0.9204 - val_loss: 0.4691 - val_accuracy: 0.8619 - 127ms/epoch - 16ms/step\n",
      "Epoch 99/100\n",
      "8/8 - 0s - loss: 0.4061 - accuracy: 0.9151 - val_loss: 0.4664 - val_accuracy: 0.8619 - 108ms/epoch - 13ms/step\n",
      "Epoch 100/100\n",
      "8/8 - 0s - loss: 0.4031 - accuracy: 0.9217 - val_loss: 0.4638 - val_accuracy: 0.8619 - 121ms/epoch - 15ms/step\n"
     ]
    },
    {
     "data": {
      "text/plain": [
       "<keras.callbacks.History at 0x239206a12e0>"
      ]
     },
     "execution_count": 14,
     "metadata": {},
     "output_type": "execute_result"
    }
   ],
   "source": [
    "model.fit(x=train_samples,y=train_labels,batch_size=500,epochs=100,validation_split=0.1,shuffle=True,verbose=2)"
   ]
  },
  {
   "cell_type": "code",
   "execution_count": 15,
   "metadata": {
    "collapsed": false,
    "pycharm": {
     "name": "#%%\n"
    }
   },
   "outputs": [],
   "source": [
    " ## Predict"
   ]
  },
  {
   "cell_type": "code",
   "execution_count": 16,
   "metadata": {
    "collapsed": false,
    "pycharm": {
     "name": "#%%\n"
    }
   },
   "outputs": [
    {
     "data": {
      "text/plain": [
       "array([[0.93023256],\n",
       "       [0.12790698],\n",
       "       [0.44186047],\n",
       "       [0.43023256],\n",
       "       [0.86046512]])"
      ]
     },
     "execution_count": 16,
     "metadata": {},
     "output_type": "execute_result"
    }
   ],
   "source": [
    "test_samples = []\n",
    "test_labels = []\n",
    "\n",
    "for i in range(10):\n",
    "    test_samples.append(np.random.randint(13, 64))\n",
    "    test_labels.append(0)\n",
    "\n",
    "    test_samples.append(np.random.randint(65, 100))\n",
    "    test_labels.append(1)\n",
    "\n",
    "for i in range(200):\n",
    "    test_samples.append(np.random.randint(13, 64))\n",
    "    test_labels.append(1)\n",
    "\n",
    "    test_samples.append(np.random.randint(65, 100))\n",
    "    test_labels.append(0)\n",
    "\n",
    "\n",
    "def shuffle(x, y):\n",
    "    temp_x = []\n",
    "    temp_y = []\n",
    "    if len(x) == len(y):\n",
    "        for i in range(len(x)):\n",
    "            k = np.random.randint(0, len(x))\n",
    "            temp_x.append(x[k])\n",
    "            temp_y.append(y[k])\n",
    "            x = np.delete(x, k)\n",
    "            y = np.delete(y, k)\n",
    "\n",
    "        return np.array(temp_x), np.array(temp_y)\n",
    "    else:\n",
    "        raise Exception(\"Arrays length didnt equal\")\n",
    "\n",
    "\n",
    "test_samples = np.array(test_samples)\n",
    "test_labels = np.array(test_labels)\n",
    "\n",
    "test_samples, test_labels = shuffle(test_samples, test_labels)\n",
    "from sklearn.preprocessing import MinMaxScaler\n",
    "\n",
    "scaler = MinMaxScaler(feature_range=(0, 1))\n",
    "\n",
    "test_samples_scaled = scaler.fit_transform(test_samples.reshape(-1, 1))\n",
    "test_samples_scaled[0:5]"
   ]
  },
  {
   "cell_type": "code",
   "execution_count": 17,
   "metadata": {
    "collapsed": false,
    "pycharm": {
     "name": "#%%\n"
    }
   },
   "outputs": [
    {
     "data": {
      "text/plain": [
       "array([[0.01998722, 0.98001283],\n",
       "       [0.01829088, 0.9817091 ],\n",
       "       [0.01893715, 0.9810628 ],\n",
       "       [0.01891283, 0.98108715],\n",
       "       [0.01983381, 0.98016614],\n",
       "       [0.0200129 , 0.9799871 ],\n",
       "       [0.0198848 , 0.9801152 ],\n",
       "       [0.01928104, 0.980719  ],\n",
       "       [0.01903478, 0.9809652 ],\n",
       "       [0.01848011, 0.98151994],\n",
       "       [0.01848011, 0.98151994],\n",
       "       [0.01935551, 0.9806444 ],\n",
       "       [0.01973216, 0.9802679 ],\n",
       "       [0.01958064, 0.98041934],\n",
       "       [0.01901035, 0.98098963],\n",
       "       [0.01908382, 0.9809162 ],\n",
       "       [0.01815026, 0.98184973],\n",
       "       [0.01869525, 0.98130476],\n",
       "       [0.0191329 , 0.9808671 ],\n",
       "       [0.01848011, 0.98151994],\n",
       "       [0.01896153, 0.9810385 ],\n",
       "       [0.01963102, 0.98036903],\n",
       "       [0.01940532, 0.9805947 ],\n",
       "       [0.01908382, 0.9809162 ],\n",
       "       [0.01808035, 0.9819196 ],\n",
       "       [0.01993595, 0.98006403],\n",
       "       [0.01993595, 0.98006403],\n",
       "       [0.01822046, 0.9817795 ],\n",
       "       [0.01905928, 0.98094076],\n",
       "       [0.01965627, 0.9803437 ],\n",
       "       [0.01829088, 0.9817091 ],\n",
       "       [0.01903478, 0.9809652 ],\n",
       "       [0.01815026, 0.98184973],\n",
       "       [0.01893715, 0.9810628 ],\n",
       "       [0.01940532, 0.9805947 ],\n",
       "       [0.0187675 , 0.9812325 ],\n",
       "       [0.01918215, 0.9808178 ],\n",
       "       [0.01950531, 0.98049474],\n",
       "       [0.02006438, 0.97993565],\n",
       "       [0.01991033, 0.98008966],\n",
       "       [0.01918215, 0.9808178 ],\n",
       "       [0.01903478, 0.9809652 ],\n",
       "       [0.0197829 , 0.9802171 ],\n",
       "       [0.01975749, 0.98024255],\n",
       "       [0.01855153, 0.9814485 ],\n",
       "       [0.01955549, 0.98044455],\n",
       "       [0.01855153, 0.9814485 ],\n",
       "       [0.0180571 , 0.98194295],\n",
       "       [0.01810361, 0.9818964 ],\n",
       "       [0.02009016, 0.9799098 ],\n",
       "       [0.01965627, 0.9803437 ],\n",
       "       [0.01950531, 0.98049474],\n",
       "       [0.0197829 , 0.9802171 ],\n",
       "       [0.01940532, 0.9805947 ],\n",
       "       [0.0200129 , 0.9799871 ],\n",
       "       [0.01810361, 0.9818964 ],\n",
       "       [0.01975749, 0.98024255],\n",
       "       [0.01998722, 0.98001283],\n",
       "       [0.01888854, 0.98111147],\n",
       "       [0.0185277 , 0.98147225],\n",
       "       [0.01808035, 0.9819196 ],\n",
       "       [0.0187675 , 0.9812325 ],\n",
       "       [0.01943028, 0.9805697 ],\n",
       "       [0.01833804, 0.981662  ],\n",
       "       [0.01901035, 0.98098963],\n",
       "       [0.0197829 , 0.9802171 ],\n",
       "       [0.01864721, 0.98135287],\n",
       "       [0.01965627, 0.9803437 ],\n",
       "       [0.01810361, 0.9818964 ],\n",
       "       [0.01983381, 0.98016614],\n",
       "       [0.0198848 , 0.9801152 ],\n",
       "       [0.01826739, 0.98173267],\n",
       "       [0.01815026, 0.98184973],\n",
       "       [0.01943028, 0.9805697 ],\n",
       "       [0.01901035, 0.98098963],\n",
       "       [0.01862326, 0.9813767 ],\n",
       "       [0.01963102, 0.98036903],\n",
       "       [0.01965627, 0.9803437 ],\n",
       "       [0.01928104, 0.980719  ],\n",
       "       [0.01975749, 0.98024255],\n",
       "       [0.01867122, 0.9813287 ],\n",
       "       [0.02003863, 0.97996134],\n",
       "       [0.01850388, 0.98149616],\n",
       "       [0.02014181, 0.97985816],\n",
       "       [0.01953037, 0.98046964],\n",
       "       [0.0180571 , 0.98194295],\n",
       "       [0.01953037, 0.98046964],\n",
       "       [0.01819703, 0.98180294],\n",
       "       [0.0198593 , 0.98014075],\n",
       "       [0.01838526, 0.98161477],\n",
       "       [0.01965627, 0.9803437 ],\n",
       "       [0.01958064, 0.98041934],\n",
       "       [0.01855153, 0.9814485 ],\n",
       "       [0.01850388, 0.98149616],\n",
       "       [0.02003863, 0.97996134],\n",
       "       [0.02006438, 0.97993565],\n",
       "       [0.01893715, 0.9810628 ],\n",
       "       [0.01935551, 0.9806444 ],\n",
       "       [0.0198593 , 0.98014075],\n",
       "       [0.01915753, 0.9808425 ],\n",
       "       [0.01884003, 0.98116   ],\n",
       "       [0.0200129 , 0.9799871 ],\n",
       "       [0.0198848 , 0.9801152 ],\n",
       "       [0.01901035, 0.98098963],\n",
       "       [0.01910835, 0.98089164],\n",
       "       [0.01903478, 0.9809652 ],\n",
       "       [0.01884003, 0.98116   ],\n",
       "       [0.01948027, 0.9805197 ],\n",
       "       [0.01833804, 0.981662  ],\n",
       "       [0.0198848 , 0.9801152 ],\n",
       "       [0.01886427, 0.98113567],\n",
       "       [0.01996156, 0.98003846],\n",
       "       [0.02003863, 0.97996134],\n",
       "       [0.01833804, 0.981662  ],\n",
       "       [0.01829088, 0.9817091 ],\n",
       "       [0.01812692, 0.9818731 ],\n",
       "       [0.01845635, 0.98154366],\n",
       "       [0.01973216, 0.9802679 ],\n",
       "       [0.01953037, 0.98046964],\n",
       "       [0.02011596, 0.979884  ],\n",
       "       [0.01850388, 0.98149616],\n",
       "       [0.01938037, 0.98061967],\n",
       "       [0.01829088, 0.9817091 ],\n",
       "       [0.01824389, 0.9817561 ],\n",
       "       [0.0187675 , 0.9812325 ],\n",
       "       [0.01943028, 0.9805697 ],\n",
       "       [0.01915753, 0.9808425 ],\n",
       "       [0.01953037, 0.98046964],\n",
       "       [0.01905928, 0.98094076],\n",
       "       [0.01940532, 0.9805947 ],\n",
       "       [0.01864721, 0.98135287],\n",
       "       [0.01935551, 0.9806444 ],\n",
       "       [0.01867122, 0.9813287 ],\n",
       "       [0.01943028, 0.9805697 ],\n",
       "       [0.01928104, 0.980719  ],\n",
       "       [0.01803416, 0.98196584],\n",
       "       [0.01910835, 0.98089164],\n",
       "       [0.01933064, 0.9806693 ],\n",
       "       [0.01905928, 0.98094076],\n",
       "       [0.01963102, 0.98036903],\n",
       "       [0.01955549, 0.98044455],\n",
       "       [0.01963102, 0.98036903],\n",
       "       [0.01948027, 0.9805197 ],\n",
       "       [0.01983381, 0.98016614],\n",
       "       [0.0185754 , 0.98142457],\n",
       "       [0.01874337, 0.98125666],\n",
       "       [0.01848011, 0.98151994],\n",
       "       [0.01840894, 0.981591  ],\n",
       "       [0.01943028, 0.9805697 ],\n",
       "       [0.01958064, 0.98041934],\n",
       "       [0.01901035, 0.98098963],\n",
       "       [0.01893715, 0.9810628 ],\n",
       "       [0.01938037, 0.98061967],\n",
       "       [0.01953037, 0.98046964],\n",
       "       [0.01826739, 0.98173267],\n",
       "       [0.01893715, 0.9810628 ],\n",
       "       [0.02011596, 0.979884  ],\n",
       "       [0.01991033, 0.98008966],\n",
       "       [0.0185277 , 0.98147225],\n",
       "       [0.02006438, 0.97993565],\n",
       "       [0.01867122, 0.9813287 ],\n",
       "       [0.01838526, 0.98161477],\n",
       "       [0.01938037, 0.98061967],\n",
       "       [0.01840894, 0.981591  ],\n",
       "       [0.0198848 , 0.9801152 ],\n",
       "       [0.0197829 , 0.9802171 ],\n",
       "       [0.01998722, 0.98001283],\n",
       "       [0.01843265, 0.9815673 ],\n",
       "       [0.01843265, 0.9815673 ],\n",
       "       [0.01831444, 0.9816855 ],\n",
       "       [0.01833804, 0.981662  ],\n",
       "       [0.01886427, 0.98113567],\n",
       "       [0.01965627, 0.9803437 ],\n",
       "       [0.01950531, 0.98049474],\n",
       "       [0.01881581, 0.98118424],\n",
       "       [0.01983381, 0.98016614],\n",
       "       [0.01822046, 0.9817795 ],\n",
       "       [0.01970684, 0.9802932 ],\n",
       "       [0.01923152, 0.9807685 ],\n",
       "       [0.01815026, 0.98184973],\n",
       "       [0.01893715, 0.9810628 ],\n",
       "       [0.02011596, 0.979884  ],\n",
       "       [0.0191329 , 0.9808671 ],\n",
       "       [0.01848011, 0.98151994],\n",
       "       [0.0185277 , 0.98147225],\n",
       "       [0.01869525, 0.98130476],\n",
       "       [0.01933064, 0.9806693 ],\n",
       "       [0.01817363, 0.9818264 ],\n",
       "       [0.01808035, 0.9819196 ],\n",
       "       [0.0197829 , 0.9802171 ],\n",
       "       [0.01938037, 0.98061967],\n",
       "       [0.01973216, 0.9802679 ],\n",
       "       [0.01953037, 0.98046964],\n",
       "       [0.01884003, 0.98116   ],\n",
       "       [0.01958064, 0.98041934],\n",
       "       [0.01970684, 0.9802932 ],\n",
       "       [0.01928104, 0.980719  ],\n",
       "       [0.01905928, 0.98094076],\n",
       "       [0.01996156, 0.98003846],\n",
       "       [0.01970684, 0.9802932 ],\n",
       "       [0.01958064, 0.98041934],\n",
       "       [0.01975749, 0.98024255],\n",
       "       [0.01893715, 0.9810628 ],\n",
       "       [0.01996156, 0.98003846],\n",
       "       [0.02006438, 0.97993565],\n",
       "       [0.01998722, 0.98001283],\n",
       "       [0.01943028, 0.9805697 ],\n",
       "       [0.0185754 , 0.98142457],\n",
       "       [0.01859933, 0.9814007 ],\n",
       "       [0.01905928, 0.98094076],\n",
       "       [0.02006438, 0.97993565],\n",
       "       [0.02014181, 0.97985816],\n",
       "       [0.01810361, 0.9818964 ],\n",
       "       [0.01848011, 0.98151994],\n",
       "       [0.01836162, 0.9816383 ],\n",
       "       [0.02003863, 0.97996134],\n",
       "       [0.01884003, 0.98116   ],\n",
       "       [0.01859933, 0.9814007 ],\n",
       "       [0.02009016, 0.9799098 ],\n",
       "       [0.01943028, 0.9805697 ],\n",
       "       [0.01955549, 0.98044455],\n",
       "       [0.01891283, 0.98108715],\n",
       "       [0.01970684, 0.9802932 ],\n",
       "       [0.01983381, 0.98016614],\n",
       "       [0.01826739, 0.98173267],\n",
       "       [0.01879163, 0.9812083 ],\n",
       "       [0.01862326, 0.9813767 ],\n",
       "       [0.01998722, 0.98001283],\n",
       "       [0.01884003, 0.98116   ],\n",
       "       [0.01948027, 0.9805197 ],\n",
       "       [0.01810361, 0.9818964 ],\n",
       "       [0.01928104, 0.980719  ],\n",
       "       [0.01843265, 0.9815673 ],\n",
       "       [0.01874337, 0.98125666],\n",
       "       [0.01933064, 0.9806693 ],\n",
       "       [0.01928104, 0.980719  ],\n",
       "       [0.0197829 , 0.9802171 ],\n",
       "       [0.0185277 , 0.98147225],\n",
       "       [0.01955549, 0.98044455],\n",
       "       [0.02011596, 0.979884  ],\n",
       "       [0.0198848 , 0.9801152 ],\n",
       "       [0.01993595, 0.98006403],\n",
       "       [0.01975749, 0.98024255],\n",
       "       [0.01903478, 0.9809652 ],\n",
       "       [0.01908382, 0.9809162 ],\n",
       "       [0.01930584, 0.9806942 ],\n",
       "       [0.01940532, 0.9805947 ],\n",
       "       [0.01864721, 0.98135287],\n",
       "       [0.01920685, 0.9807931 ],\n",
       "       [0.01903478, 0.9809652 ],\n",
       "       [0.02011596, 0.979884  ],\n",
       "       [0.01886427, 0.98113567],\n",
       "       [0.02003863, 0.97996134],\n",
       "       [0.01884003, 0.98116   ],\n",
       "       [0.01935551, 0.9806444 ],\n",
       "       [0.0180571 , 0.98194295],\n",
       "       [0.01996156, 0.98003846],\n",
       "       [0.01991033, 0.98008966],\n",
       "       [0.01812692, 0.9818731 ],\n",
       "       [0.01879163, 0.9812083 ],\n",
       "       [0.02009016, 0.9799098 ],\n",
       "       [0.01953037, 0.98046964],\n",
       "       [0.01983381, 0.98016614],\n",
       "       [0.01831444, 0.9816855 ],\n",
       "       [0.02003863, 0.97996134],\n",
       "       [0.0197829 , 0.9802171 ],\n",
       "       [0.01983381, 0.98016614],\n",
       "       [0.01884003, 0.98116   ],\n",
       "       [0.0191329 , 0.9808671 ],\n",
       "       [0.0185754 , 0.98142457],\n",
       "       [0.01998722, 0.98001283],\n",
       "       [0.01908382, 0.9809162 ],\n",
       "       [0.0198848 , 0.9801152 ],\n",
       "       [0.01803416, 0.98196584],\n",
       "       [0.01874337, 0.98125666],\n",
       "       [0.01864721, 0.98135287],\n",
       "       [0.0198593 , 0.98014075],\n",
       "       [0.02006438, 0.97993565],\n",
       "       [0.02011596, 0.979884  ],\n",
       "       [0.01836162, 0.9816383 ],\n",
       "       [0.01881581, 0.98118424],\n",
       "       [0.01848011, 0.98151994],\n",
       "       [0.01901035, 0.98098963],\n",
       "       [0.0198593 , 0.98014075],\n",
       "       [0.01910835, 0.98089164],\n",
       "       [0.01869525, 0.98130476],\n",
       "       [0.01829088, 0.9817091 ],\n",
       "       [0.01940532, 0.9805947 ],\n",
       "       [0.0197829 , 0.9802171 ],\n",
       "       [0.02006438, 0.97993565],\n",
       "       [0.01893715, 0.9810628 ],\n",
       "       [0.01983381, 0.98016614],\n",
       "       [0.0200129 , 0.9799871 ],\n",
       "       [0.02014181, 0.97985816],\n",
       "       [0.01915753, 0.9808425 ],\n",
       "       [0.01938037, 0.98061967],\n",
       "       [0.01829088, 0.9817091 ],\n",
       "       [0.01898594, 0.9810141 ],\n",
       "       [0.01938037, 0.98061967],\n",
       "       [0.01933064, 0.9806693 ],\n",
       "       [0.01855153, 0.9814485 ],\n",
       "       [0.01833804, 0.981662  ],\n",
       "       [0.01831444, 0.9816855 ],\n",
       "       [0.01881581, 0.98118424],\n",
       "       [0.01910835, 0.98089164],\n",
       "       [0.01850388, 0.98149616],\n",
       "       [0.01808035, 0.9819196 ],\n",
       "       [0.01933064, 0.9806693 ],\n",
       "       [0.0200129 , 0.9799871 ],\n",
       "       [0.01836162, 0.9816383 ],\n",
       "       [0.01836162, 0.9816383 ],\n",
       "       [0.01874337, 0.98125666],\n",
       "       [0.01812692, 0.9818731 ],\n",
       "       [0.0198848 , 0.9801152 ],\n",
       "       [0.01850388, 0.98149616],\n",
       "       [0.01910835, 0.98089164],\n",
       "       [0.01930584, 0.9806942 ],\n",
       "       [0.01930584, 0.9806942 ],\n",
       "       [0.02014181, 0.97985816],\n",
       "       [0.01965627, 0.9803437 ],\n",
       "       [0.02006438, 0.97993565],\n",
       "       [0.01960583, 0.9803941 ],\n",
       "       [0.01843265, 0.9815673 ],\n",
       "       [0.0197829 , 0.9802171 ],\n",
       "       [0.01973216, 0.9802679 ],\n",
       "       [0.01905928, 0.98094076],\n",
       "       [0.01920685, 0.9807931 ],\n",
       "       [0.01935551, 0.9806444 ],\n",
       "       [0.01920685, 0.9807931 ],\n",
       "       [0.01940532, 0.9805947 ],\n",
       "       [0.0191329 , 0.9808671 ],\n",
       "       [0.01953037, 0.98046964],\n",
       "       [0.01928104, 0.980719  ],\n",
       "       [0.01958064, 0.98041934],\n",
       "       [0.01940532, 0.9805947 ],\n",
       "       [0.01955549, 0.98044455],\n",
       "       [0.01910835, 0.98089164],\n",
       "       [0.01963102, 0.98036903],\n",
       "       [0.01918215, 0.9808178 ],\n",
       "       [0.01980834, 0.9801917 ],\n",
       "       [0.01975749, 0.98024255],\n",
       "       [0.01862326, 0.9813767 ],\n",
       "       [0.0198848 , 0.9801152 ],\n",
       "       [0.01955549, 0.98044455],\n",
       "       [0.0191329 , 0.9808671 ],\n",
       "       [0.01874337, 0.98125666],\n",
       "       [0.01905928, 0.98094076],\n",
       "       [0.01879163, 0.9812083 ],\n",
       "       [0.01871932, 0.9812806 ],\n",
       "       [0.01935551, 0.9806444 ],\n",
       "       [0.01812692, 0.9818731 ],\n",
       "       [0.01965627, 0.9803437 ],\n",
       "       [0.01928104, 0.980719  ],\n",
       "       [0.01991033, 0.98008966],\n",
       "       [0.0198593 , 0.98014075],\n",
       "       [0.01862326, 0.9813767 ],\n",
       "       [0.01928104, 0.980719  ],\n",
       "       [0.01948027, 0.9805197 ],\n",
       "       [0.02009016, 0.9799098 ],\n",
       "       [0.01850388, 0.98149616],\n",
       "       [0.01968152, 0.9803185 ],\n",
       "       [0.01948027, 0.9805197 ],\n",
       "       [0.01965627, 0.9803437 ],\n",
       "       [0.01884003, 0.98116   ],\n",
       "       [0.01910835, 0.98089164],\n",
       "       [0.01886427, 0.98113567],\n",
       "       [0.01824389, 0.9817561 ],\n",
       "       [0.0180571 , 0.98194295],\n",
       "       [0.01836162, 0.9816383 ],\n",
       "       [0.01948027, 0.9805197 ],\n",
       "       [0.01879163, 0.9812083 ],\n",
       "       [0.01884003, 0.98116   ],\n",
       "       [0.01945525, 0.9805447 ],\n",
       "       [0.01843265, 0.9815673 ],\n",
       "       [0.0185277 , 0.98147225],\n",
       "       [0.01808035, 0.9819196 ],\n",
       "       [0.01996156, 0.98003846],\n",
       "       [0.01893715, 0.9810628 ],\n",
       "       [0.01848011, 0.98151994],\n",
       "       [0.01975749, 0.98024255],\n",
       "       [0.0191329 , 0.9808671 ],\n",
       "       [0.01945525, 0.9805447 ],\n",
       "       [0.01998722, 0.98001283],\n",
       "       [0.01838526, 0.98161477],\n",
       "       [0.01819703, 0.98180294],\n",
       "       [0.01970684, 0.9802932 ],\n",
       "       [0.01943028, 0.9805697 ],\n",
       "       [0.01923152, 0.9807685 ],\n",
       "       [0.01970684, 0.9802932 ],\n",
       "       [0.01980834, 0.9801917 ],\n",
       "       [0.01940532, 0.9805947 ],\n",
       "       [0.01945525, 0.9805447 ],\n",
       "       [0.01948027, 0.9805197 ],\n",
       "       [0.01905928, 0.98094076],\n",
       "       [0.01980834, 0.9801917 ],\n",
       "       [0.01862326, 0.9813767 ],\n",
       "       [0.02006438, 0.97993565],\n",
       "       [0.01829088, 0.9817091 ],\n",
       "       [0.01930584, 0.9806942 ],\n",
       "       [0.01938037, 0.98061967],\n",
       "       [0.01940532, 0.9805947 ],\n",
       "       [0.01980834, 0.9801917 ],\n",
       "       [0.01833804, 0.981662  ],\n",
       "       [0.0191329 , 0.9808671 ],\n",
       "       [0.01955549, 0.98044455],\n",
       "       [0.01874337, 0.98125666],\n",
       "       [0.0198593 , 0.98014075],\n",
       "       [0.01935551, 0.9806444 ],\n",
       "       [0.0200129 , 0.9799871 ],\n",
       "       [0.0198593 , 0.98014075],\n",
       "       [0.01808035, 0.9819196 ],\n",
       "       [0.0180571 , 0.98194295],\n",
       "       [0.01943028, 0.9805697 ],\n",
       "       [0.01893715, 0.9810628 ],\n",
       "       [0.01905928, 0.98094076],\n",
       "       [0.01838526, 0.98161477],\n",
       "       [0.01803416, 0.98196584],\n",
       "       [0.01810361, 0.9818964 ],\n",
       "       [0.01983381, 0.98016614],\n",
       "       [0.01905928, 0.98094076]], dtype=float32)"
      ]
     },
     "execution_count": 17,
     "metadata": {},
     "output_type": "execute_result"
    }
   ],
   "source": [
    "predictions = model.predict(test_samples_scaled,batch_size=10,verbose=0)\n",
    "predictions"
   ]
  },
  {
   "cell_type": "code",
   "execution_count": 18,
   "metadata": {
    "collapsed": false,
    "pycharm": {
     "name": "#%%\n"
    }
   },
   "outputs": [
    {
     "data": {
      "text/plain": [
       "array([1, 1, 1, 1, 1, 1, 1, 1, 1, 1, 1, 1, 1, 1, 1, 1, 1, 1, 1, 1, 1, 1,\n",
       "       1, 1, 1, 1, 1, 1, 1, 1, 1, 1, 1, 1, 1, 1, 1, 1, 1, 1, 1, 1, 1, 1,\n",
       "       1, 1, 1, 1, 1, 1, 1, 1, 1, 1, 1, 1, 1, 1, 1, 1, 1, 1, 1, 1, 1, 1,\n",
       "       1, 1, 1, 1, 1, 1, 1, 1, 1, 1, 1, 1, 1, 1, 1, 1, 1, 1, 1, 1, 1, 1,\n",
       "       1, 1, 1, 1, 1, 1, 1, 1, 1, 1, 1, 1, 1, 1, 1, 1, 1, 1, 1, 1, 1, 1,\n",
       "       1, 1, 1, 1, 1, 1, 1, 1, 1, 1, 1, 1, 1, 1, 1, 1, 1, 1, 1, 1, 1, 1,\n",
       "       1, 1, 1, 1, 1, 1, 1, 1, 1, 1, 1, 1, 1, 1, 1, 1, 1, 1, 1, 1, 1, 1,\n",
       "       1, 1, 1, 1, 1, 1, 1, 1, 1, 1, 1, 1, 1, 1, 1, 1, 1, 1, 1, 1, 1, 1,\n",
       "       1, 1, 1, 1, 1, 1, 1, 1, 1, 1, 1, 1, 1, 1, 1, 1, 1, 1, 1, 1, 1, 1,\n",
       "       1, 1, 1, 1, 1, 1, 1, 1, 1, 1, 1, 1, 1, 1, 1, 1, 1, 1, 1, 1, 1, 1,\n",
       "       1, 1, 1, 1, 1, 1, 1, 1, 1, 1, 1, 1, 1, 1, 1, 1, 1, 1, 1, 1, 1, 1,\n",
       "       1, 1, 1, 1, 1, 1, 1, 1, 1, 1, 1, 1, 1, 1, 1, 1, 1, 1, 1, 1, 1, 1,\n",
       "       1, 1, 1, 1, 1, 1, 1, 1, 1, 1, 1, 1, 1, 1, 1, 1, 1, 1, 1, 1, 1, 1,\n",
       "       1, 1, 1, 1, 1, 1, 1, 1, 1, 1, 1, 1, 1, 1, 1, 1, 1, 1, 1, 1, 1, 1,\n",
       "       1, 1, 1, 1, 1, 1, 1, 1, 1, 1, 1, 1, 1, 1, 1, 1, 1, 1, 1, 1, 1, 1,\n",
       "       1, 1, 1, 1, 1, 1, 1, 1, 1, 1, 1, 1, 1, 1, 1, 1, 1, 1, 1, 1, 1, 1,\n",
       "       1, 1, 1, 1, 1, 1, 1, 1, 1, 1, 1, 1, 1, 1, 1, 1, 1, 1, 1, 1, 1, 1,\n",
       "       1, 1, 1, 1, 1, 1, 1, 1, 1, 1, 1, 1, 1, 1, 1, 1, 1, 1, 1, 1, 1, 1,\n",
       "       1, 1, 1, 1, 1, 1, 1, 1, 1, 1, 1, 1, 1, 1, 1, 1, 1, 1, 1, 1, 1, 1,\n",
       "       1, 1], dtype=int64)"
      ]
     },
     "execution_count": 18,
     "metadata": {},
     "output_type": "execute_result"
    }
   ],
   "source": [
    "predict_labels = np.argmax(predictions,axis=1)\n",
    "predict_labels"
   ]
  },
  {
   "cell_type": "code",
   "execution_count": 19,
   "metadata": {
    "collapsed": false,
    "pycharm": {
     "name": "#%%\n"
    }
   },
   "outputs": [
    {
     "name": "stdout",
     "output_type": "stream",
     "text": [
      "210\n",
      "True  0.5\n"
     ]
    }
   ],
   "source": [
    "true_labels = np.where(test_labels==predict_labels)\n",
    "print(len(true_labels[0]))\n",
    "print(\"True \",(len(true_labels[0])/len(test_samples)))"
   ]
  },
  {
   "cell_type": "code",
   "execution_count": 20,
   "metadata": {
    "collapsed": false,
    "pycharm": {
     "name": "#%%\n"
    }
   },
   "outputs": [],
   "source": [
    "## Confusion matrix"
   ]
  },
  {
   "cell_type": "code",
   "execution_count": 21,
   "metadata": {
    "collapsed": false,
    "pycharm": {
     "name": "#%%\n"
    }
   },
   "outputs": [],
   "source": [
    "from matplotlib import pyplot as plt\n",
    "from sklearn.metrics import confusion_matrix\n",
    "import itertools"
   ]
  },
  {
   "cell_type": "code",
   "execution_count": 22,
   "metadata": {
    "collapsed": false,
    "pycharm": {
     "name": "#%%\n"
    }
   },
   "outputs": [],
   "source": [
    "cm = confusion_matrix(test_labels,predict_labels)"
   ]
  },
  {
   "cell_type": "code",
   "execution_count": 23,
   "metadata": {
    "collapsed": false,
    "pycharm": {
     "name": "#%%\n"
    }
   },
   "outputs": [],
   "source": [
    "def plot_confusion_matrix(cm,classes,normalize=False,title=\"Confusion matrix\",cmap=plt.cm.Blues):\n",
    "\n",
    "    plt.imshow(cm,interpolation=\"nearest\",cmap=cmap)\n",
    "    plt.title(title)\n",
    "    plt.colorbar()\n",
    "    tick_marks = np.arange(len(classes))\n",
    "    plt.xticks(tick_marks,classes,rotation=45)\n",
    "    plt.yticks(tick_marks,classes)\n",
    "\n",
    "    if normalize:\n",
    "        cm = cm.astype(\"float\") / cm.sum(axis=1)[:,np.newaxis]\n",
    "\n",
    "    print(cm)\n",
    "\n",
    "    thresh = cm.max() / 2.\n",
    "    for i,j in itertools.product(range(cm.shape[0]),range(cm.shape[1])):\n",
    "        plt.text(j,i,cm[i,j],horizontalalignment=\"center\",color=\"white\" if cm[i,j]>thresh else \"black\")\n",
    "\n",
    "    plt.tight_layout()\n",
    "    plt.ylabel(\"True Label\")\n",
    "    plt.xlabel(\"Predicted Label\")"
   ]
  },
  {
   "cell_type": "code",
   "execution_count": 24,
   "metadata": {
    "collapsed": false,
    "pycharm": {
     "name": "#%%\n"
    }
   },
   "outputs": [
    {
     "name": "stdout",
     "output_type": "stream",
     "text": [
      "[[  0 210]\n",
      " [  0 210]]\n"
     ]
    },
    {
     "data": {
      "image/png": "[encoded data removed]",
      "text/plain": [
       "<Figure size 640x480 with 2 Axes>"
      ]
     },
     "metadata": {},
     "output_type": "display_data"
    }
   ],
   "source": [
    "cm_plot_labels = [\"no_side_effects\",\"had_side_effects\"]\n",
    "plot_confusion_matrix(cm,cm_plot_labels)"
   ]
  },
  {
   "cell_type": "code",
   "execution_count": 25,
   "metadata": {
    "collapsed": false,
    "pycharm": {
     "name": "#%%\n"
    }
   },
   "outputs": [],
   "source": [
    "## Save and Load Model"
   ]
  },
  {
   "cell_type": "code",
   "execution_count": 26,
   "metadata": {
    "collapsed": false,
    "pycharm": {
     "name": "#%%\n"
    }
   },
   "outputs": [],
   "source": [
    "import os\n",
    "\n",
    "if os.path.isfile(\"model/modelh5\") is False:\n",
    "    model.save(\"model/model.h5\")\n"
   ]
  },
  {
   "cell_type": "code",
   "execution_count": 27,
   "metadata": {
    "collapsed": false,
    "pycharm": {
     "name": "#%%\n"
    }
   },
   "outputs": [],
   "source": [
    "del model"
   ]
  },
  {
   "cell_type": "code",
   "execution_count": 28,
   "metadata": {
    "collapsed": false,
    "pycharm": {
     "name": "#%%\n"
    }
   },
   "outputs": [],
   "source": [
    "model = keras.models.load_model(\"model/model.h5\")"
   ]
  },
  {
   "cell_type": "code",
   "execution_count": 29,
   "metadata": {
    "collapsed": false,
    "pycharm": {
     "name": "#%%\n"
    }
   },
   "outputs": [
    {
     "name": "stdout",
     "output_type": "stream",
     "text": [
      "Model: \"sequential\"\n",
      "_________________________________________________________________\n",
      " Layer (type)                Output Shape              Param #   \n",
      "=================================================================\n",
      " dense (Dense)               (None, 16)                32        \n",
      "                                                                 \n",
      " batch_normalization (BatchN  (None, 16)               64        \n",
      " ormalization)                                                   \n",
      "                                                                 \n",
      " dense_1 (Dense)             (None, 32)                544       \n",
      "                                                                 \n",
      " batch_normalization_1 (Batc  (None, 32)               128       \n",
      " hNormalization)                                                 \n",
      "                                                                 \n",
      " dense_2 (Dense)             (None, 16)                528       \n",
      "                                                                 \n",
      " batch_normalization_2 (Batc  (None, 16)               64        \n",
      " hNormalization)                                                 \n",
      "                                                                 \n",
      " dense_3 (Dense)             (None, 2)                 34        \n",
      "                                                                 \n",
      "=================================================================\n",
      "Total params: 1,394\n",
      "Trainable params: 1,266\n",
      "Non-trainable params: 128\n",
      "_________________________________________________________________\n"
     ]
    }
   ],
   "source": [
    "model.summary()"
   ]
  },
  {
   "cell_type": "code",
   "execution_count": 30,
   "metadata": {
    "collapsed": false,
    "pycharm": {
     "name": "#%%\n"
    }
   },
   "outputs": [
    {
     "data": {
      "text/plain": [
       "[array([[-0.5055242 ,  0.3393997 , -0.22281903,  0.03284917,  0.49408308,\n",
       "         -0.12570265, -0.4894517 , -0.2666332 ,  0.14630051, -0.03870928,\n",
       "          0.5989086 , -0.15784827, -0.5267318 , -0.5640683 , -0.13477793,\n",
       "         -0.14032674]], dtype=float32),\n",
       " array([ 0.0000000e+00, -4.6270502e-06,  0.0000000e+00, -1.1601323e-05,\n",
       "         9.6027543e-07,  0.0000000e+00,  0.0000000e+00,  0.0000000e+00,\n",
       "         7.2524049e-06,  0.0000000e+00, -6.5038267e-07,  0.0000000e+00,\n",
       "         0.0000000e+00,  0.0000000e+00,  0.0000000e+00,  0.0000000e+00],\n",
       "       dtype=float32),\n",
       " array([1.        , 0.99424535, 1.        , 0.993701  , 0.9964766 ,\n",
       "        1.        , 1.        , 1.        , 1.0050586 , 1.        ,\n",
       "        1.00871   , 1.        , 1.        , 1.        , 1.        ,\n",
       "        1.        ], dtype=float32),\n",
       " array([-0.00726679,  0.00121751, -0.00366713, -0.00334344, -0.00045763,\n",
       "         0.00296569,  0.00365287, -0.0034626 ,  0.00165142, -0.00456403,\n",
       "         0.00313764,  0.00091684,  0.00506839, -0.00560556,  0.00678731,\n",
       "         0.00627789], dtype=float32),\n",
       " array([ 0.       , 20.357676 ,  0.       ,  2.0143142, 29.54009  ,\n",
       "         0.       ,  0.       ,  0.       ,  8.724586 ,  0.       ,\n",
       "        35.75684  ,  0.       ,  0.       ,  0.       ,  0.       ,\n",
       "         0.       ], dtype=float32),\n",
       " array([3.2222227e-04, 7.4259834e+01, 3.2222227e-04, 7.2782892e-01,\n",
       "        1.5635590e+02, 3.2222227e-04, 3.2222227e-04, 3.2222227e-04,\n",
       "        1.3639314e+01, 3.2222227e-04, 2.2909171e+02, 3.2222227e-04,\n",
       "        3.2222227e-04, 3.2222227e-04, 3.2222227e-04, 3.2222227e-04],\n",
       "       dtype=float32),\n",
       " array([[ 2.20318154e-01,  9.86371636e-02, -8.64948332e-02,\n",
       "         -2.03483492e-01,  3.50407958e-01,  2.54851192e-01,\n",
       "          1.83204964e-01,  1.15264513e-01,  2.03538194e-01,\n",
       "          5.41512407e-02,  2.35463649e-01, -3.09784323e-01,\n",
       "         -1.02237120e-01, -1.15244411e-01,  2.79516190e-01,\n",
       "         -3.55722398e-01, -2.19266247e-02,  3.22035223e-01,\n",
       "         -9.50392261e-02,  8.65903571e-02, -3.43387514e-01,\n",
       "          2.89845794e-01,  2.91862190e-02,  2.57400066e-01,\n",
       "         -7.12275878e-02,  1.27278361e-02, -9.41383168e-02,\n",
       "          1.36702256e-02,  2.08844513e-01,  3.37291628e-01,\n",
       "          1.18958980e-01,  2.95048535e-01],\n",
       "        [ 1.66360587e-01,  1.67025924e-01, -1.67686090e-01,\n",
       "          6.81257099e-02, -2.04702653e-02, -4.68463972e-02,\n",
       "          3.39097649e-01, -1.43729359e-01,  2.23002553e-01,\n",
       "         -1.40768528e-01, -3.14247906e-01, -1.34269923e-01,\n",
       "         -3.11580688e-01, -2.12610647e-01,  1.97368376e-02,\n",
       "          2.39786118e-01,  1.94064632e-01, -2.03932643e-01,\n",
       "         -4.82078176e-03, -2.52916098e-01,  1.95850134e-01,\n",
       "          4.63974364e-02,  1.83354780e-01, -2.79385388e-01,\n",
       "          5.31772524e-02,  1.71086773e-01,  7.37278862e-03,\n",
       "          7.28002414e-02, -2.33531883e-03,  2.56412506e-01,\n",
       "         -2.69265436e-02, -2.92671084e-01],\n",
       "        [ 1.78758368e-01,  3.22528243e-01, -2.05148444e-01,\n",
       "         -4.48698029e-02, -2.08384514e-01,  2.27962155e-02,\n",
       "         -1.09723620e-01,  1.10377677e-01,  2.16392353e-01,\n",
       "         -3.19954038e-01,  5.76446252e-03, -7.56225288e-02,\n",
       "          3.83424945e-02, -2.36723974e-01, -2.83115417e-01,\n",
       "         -2.91527480e-01, -1.03863358e-01,  1.29909515e-01,\n",
       "          2.53174871e-01, -1.18834406e-01, -1.64727151e-01,\n",
       "          2.74293482e-01, -1.89366177e-01,  8.72657970e-02,\n",
       "          3.37410569e-01,  2.30952308e-01, -1.72785729e-01,\n",
       "          2.40460172e-01, -2.79898107e-01,  5.57720065e-02,\n",
       "          8.57917443e-02, -5.88837527e-02],\n",
       "        [ 3.10016870e-01, -4.63280901e-02, -2.96121776e-01,\n",
       "          9.17697325e-02, -1.76749319e-01, -1.37093604e-01,\n",
       "         -6.43319264e-02, -1.07925057e-01,  1.89416930e-01,\n",
       "          2.91491449e-01,  2.72112280e-01,  1.35557070e-01,\n",
       "          1.62615195e-01, -6.06057979e-03,  1.54622570e-01,\n",
       "          3.54968458e-01, -1.10141434e-01, -1.47437826e-01,\n",
       "         -1.04932755e-01,  3.68319787e-02,  3.30706745e-01,\n",
       "         -7.78816938e-02,  3.50742489e-01,  1.26703486e-01,\n",
       "         -9.22097191e-02, -2.69548506e-01, -1.29164770e-01,\n",
       "          1.45324081e-01,  1.37592211e-01,  4.60652858e-02,\n",
       "          3.97733077e-02, -2.28168949e-01],\n",
       "        [-3.16051126e-01,  3.70502621e-02, -1.39232561e-01,\n",
       "         -3.04565817e-01,  2.12432072e-01,  2.97327131e-01,\n",
       "         -1.80641621e-01,  1.30872473e-01,  1.90200359e-01,\n",
       "          1.48161158e-01, -2.26624817e-01,  1.67577624e-01,\n",
       "         -3.58050525e-01,  1.59435108e-01,  2.42747188e-01,\n",
       "         -2.81228244e-01,  1.72542021e-01, -1.20576777e-01,\n",
       "          2.05520511e-01,  6.47571385e-02, -2.76157498e-01,\n",
       "         -2.87161022e-01,  1.80833787e-01, -2.85132706e-01,\n",
       "          2.16321170e-01, -1.07549228e-01,  7.97737837e-02,\n",
       "          1.42620742e-01,  2.33805180e-01, -1.52087331e-01,\n",
       "          1.50670677e-01,  2.15976015e-01],\n",
       "        [ 1.77271813e-01, -6.50574416e-02,  3.26723784e-01,\n",
       "         -2.15754006e-02, -2.45661020e-01,  2.82830507e-01,\n",
       "          2.91941971e-01,  2.87069380e-01, -1.75208911e-01,\n",
       "         -3.29321325e-01, -3.18585038e-01, -5.45886233e-02,\n",
       "          3.32416236e-01, -2.46281207e-01,  1.90563232e-01,\n",
       "         -9.41993818e-02,  2.10361347e-01, -9.94152725e-02,\n",
       "         -9.30936038e-02, -1.41862541e-01, -1.34850487e-01,\n",
       "          3.15692663e-01, -3.21996242e-01, -2.53550351e-01,\n",
       "         -2.86282629e-01,  1.66030556e-01,  3.58514071e-01,\n",
       "         -5.67607805e-02,  2.30700195e-01, -6.93658963e-02,\n",
       "          1.87738445e-02,  1.90165251e-01],\n",
       "        [ 1.11894477e-02,  2.10987926e-01,  2.99693316e-01,\n",
       "          1.32187679e-01,  3.59549560e-02, -1.81617625e-02,\n",
       "          1.70728192e-01, -1.60842538e-02, -6.28612749e-03,\n",
       "          1.68763727e-01, -3.32110256e-01,  1.63886800e-01,\n",
       "          1.62116244e-01,  1.26553997e-02,  3.38234872e-01,\n",
       "          1.30082756e-01,  3.60093355e-01,  1.00722127e-02,\n",
       "         -2.07856715e-01, -3.18533778e-01, -1.05345078e-01,\n",
       "          1.10401206e-01, -1.23702094e-01, -1.26158640e-01,\n",
       "         -2.14877371e-02,  5.47475629e-02, -7.79187009e-02,\n",
       "         -1.73277959e-01, -3.35551836e-02,  7.05535412e-02,\n",
       "         -1.09765142e-01,  7.61140510e-02],\n",
       "        [ 6.58482760e-02,  2.49549940e-01,  3.23633999e-01,\n",
       "          2.58717179e-01,  2.22817138e-01, -8.97111222e-02,\n",
       "          3.49668711e-01, -2.99178451e-01,  5.14669903e-03,\n",
       "          2.02674299e-01, -1.40569165e-01, -1.92620847e-02,\n",
       "          2.35957220e-01, -8.19389671e-02,  9.55040976e-02,\n",
       "         -1.85549989e-01, -3.92502286e-02, -2.02218533e-01,\n",
       "         -2.60142863e-01,  1.60749912e-01,  1.92218676e-01,\n",
       "         -2.30896771e-01,  5.89127094e-02, -1.15523875e-01,\n",
       "          2.81987727e-01, -4.48051840e-02,  5.93292266e-02,\n",
       "          1.78581521e-01,  3.29774380e-01, -1.88758060e-01,\n",
       "         -2.22466201e-01, -3.05568814e-01],\n",
       "        [-8.42032582e-02, -3.21270451e-02,  1.60606116e-01,\n",
       "         -2.01914757e-01,  1.09642074e-01, -2.87369162e-01,\n",
       "          2.81949848e-01,  3.44632030e-01, -4.93220501e-02,\n",
       "          2.59553701e-01, -2.52620995e-01,  2.35266358e-01,\n",
       "         -2.80731350e-01,  2.80630261e-01, -2.96122909e-01,\n",
       "         -2.13412985e-01,  3.44113648e-01, -2.66439408e-01,\n",
       "          1.43265367e-01,  2.31953502e-01, -3.17671210e-01,\n",
       "          2.45057434e-01, -1.05153657e-01,  2.03443617e-01,\n",
       "         -2.45122850e-01,  1.82829633e-01,  2.34369840e-02,\n",
       "         -2.74963647e-01,  3.26151937e-01, -5.14952131e-02,\n",
       "         -1.74322754e-01, -1.05429150e-01],\n",
       "        [ 2.19515309e-01,  1.89334840e-01, -1.20307133e-01,\n",
       "         -3.08634132e-01, -1.37459800e-01,  1.47882327e-01,\n",
       "         -2.55846441e-01, -1.10996254e-01, -2.66540885e-01,\n",
       "         -1.62736908e-01,  2.78545409e-01, -1.31941259e-01,\n",
       "         -3.01154435e-01,  3.01287115e-01,  1.24514736e-01,\n",
       "         -7.85794482e-02, -2.10333422e-01, -1.40190735e-01,\n",
       "          1.40157223e-01,  6.82631060e-02, -1.13139868e-01,\n",
       "         -1.95681393e-01, -1.74974874e-01,  2.27016985e-01,\n",
       "         -2.47066915e-01, -2.84323633e-01, -2.38519698e-01,\n",
       "         -1.25679225e-01,  2.48348013e-01,  1.93368141e-02,\n",
       "          1.37233868e-01,  2.78569043e-01],\n",
       "        [-3.19335520e-01, -2.65615642e-01,  1.88445643e-01,\n",
       "         -3.07775110e-01,  9.83922277e-04, -2.22004429e-02,\n",
       "         -2.49965653e-01,  1.56577811e-01,  2.01606020e-01,\n",
       "          1.93459615e-01,  8.91746730e-02,  2.96200756e-02,\n",
       "          2.57112652e-01,  2.07765698e-01,  1.13535680e-01,\n",
       "          4.03881520e-02, -1.75468385e-01, -9.67173558e-03,\n",
       "          1.40629485e-01,  2.78820217e-01, -1.58289865e-01,\n",
       "         -2.34944686e-01, -3.13607275e-01,  7.40310252e-02,\n",
       "          7.24631250e-02,  7.46008009e-02,  2.58713841e-01,\n",
       "          1.31820694e-01, -1.80242896e-01, -7.64752701e-02,\n",
       "          6.83889985e-02,  1.71653837e-01],\n",
       "        [-1.11783721e-01,  2.68075794e-01,  3.20707589e-01,\n",
       "         -3.04237455e-01, -1.18441358e-01,  1.82562731e-02,\n",
       "          1.87938243e-01,  3.29483300e-01,  1.76134929e-01,\n",
       "         -2.08396483e-02,  1.42329961e-01, -2.43127257e-01,\n",
       "          8.35752115e-02, -6.50766632e-03, -1.52734980e-01,\n",
       "         -3.65203358e-02,  8.04758221e-02,  3.89031433e-02,\n",
       "          3.42117757e-01, -9.54297185e-02, -3.01330596e-01,\n",
       "          2.50532210e-01, -3.06479156e-01, -6.43403903e-02,\n",
       "         -2.74088681e-01, -5.07275239e-02, -1.67474434e-01,\n",
       "         -3.39129388e-01,  7.65976459e-02, -1.71541750e-01,\n",
       "          2.73655623e-01,  1.86414644e-01],\n",
       "        [-1.51389077e-01,  1.27301246e-01,  2.27224112e-01,\n",
       "         -1.35573791e-02,  2.93261521e-02,  3.25032562e-01,\n",
       "          2.95890123e-01, -1.82581708e-01,  8.27934444e-02,\n",
       "          2.38504246e-01, -9.51229110e-02,  2.83542126e-01,\n",
       "         -2.84482121e-01, -6.66554570e-02,  2.83339649e-01,\n",
       "          2.22593341e-02,  1.28730357e-01, -6.24479689e-02,\n",
       "          6.11739568e-02,  4.65916656e-02,  2.39262968e-01,\n",
       "          5.06940298e-02,  2.19222382e-01,  2.91385293e-01,\n",
       "         -1.95388243e-01,  8.09942484e-02,  3.59810352e-01,\n",
       "          3.14364195e-01, -6.33588582e-02,  1.54073045e-01,\n",
       "          7.21419081e-02,  2.34640852e-01],\n",
       "        [-3.65608931e-02,  1.33910909e-01, -2.69682676e-01,\n",
       "         -3.41726631e-01,  4.16390486e-02, -7.06771240e-02,\n",
       "         -2.20214531e-01, -8.01053494e-02,  1.87158167e-01,\n",
       "         -1.81615297e-02, -1.61404848e-01, -3.28495279e-02,\n",
       "          1.68084949e-01,  1.85100257e-01, -1.96927994e-01,\n",
       "         -3.58621448e-01, -1.35691077e-01, -1.62147164e-01,\n",
       "         -5.61384074e-02,  3.25491041e-01, -1.42336220e-01,\n",
       "          1.16670623e-01, -3.23410809e-01, -3.01238030e-01,\n",
       "          3.04832049e-02, -2.32721746e-01, -2.08801217e-02,\n",
       "         -1.89916924e-01, -2.77093977e-01,  1.98260054e-01,\n",
       "         -7.18837827e-02,  1.53528675e-01],\n",
       "        [ 2.09160283e-01,  2.95850426e-01, -2.51628220e-01,\n",
       "          1.02897093e-01,  3.48431617e-01,  1.98980998e-02,\n",
       "          5.62357455e-02, -1.85326993e-01, -3.07414025e-01,\n",
       "          1.97571740e-01,  2.06521362e-01, -3.38908553e-01,\n",
       "          3.31138164e-01, -3.58100981e-01,  1.32204458e-01,\n",
       "          3.64637300e-02, -3.32609750e-02,  3.14951688e-01,\n",
       "         -2.10373834e-01, -5.25292717e-02,  3.37527931e-01,\n",
       "         -2.96245515e-01,  1.79339200e-01,  2.68042326e-01,\n",
       "         -8.60606972e-03,  4.15935740e-02,  2.18488544e-01,\n",
       "         -2.89564151e-02,  2.33940646e-01, -3.63376051e-01,\n",
       "          2.98673809e-01, -2.78512269e-01],\n",
       "        [-8.26116353e-02, -1.40050113e-01,  3.53380814e-02,\n",
       "          3.03991675e-01,  2.76513815e-01, -3.92635688e-02,\n",
       "         -1.11697949e-01,  5.76007254e-02, -2.66065896e-01,\n",
       "         -1.05313472e-02, -2.53875911e-01, -2.70282403e-02,\n",
       "          2.02032849e-01, -3.27153862e-01,  9.31652486e-02,\n",
       "         -3.36853266e-01,  2.24429145e-01, -1.61503777e-01,\n",
       "         -3.36184204e-01, -2.59243306e-02,  3.38700086e-01,\n",
       "         -2.15592846e-01,  2.16811344e-01,  7.84786418e-02,\n",
       "          5.90606630e-02,  2.08112746e-04,  2.22579226e-01,\n",
       "         -2.90329099e-01, -1.90173626e-01, -5.67979626e-02,\n",
       "          2.58454978e-01, -1.11025408e-01]], dtype=float32),\n",
       " array([-0.00800048,  0.00781062, -0.00072329, -0.00707607,  0.00063639,\n",
       "         0.00768691, -0.00854019, -0.00687852,  0.00689533,  0.00461923,\n",
       "         0.00680252,  0.00607648, -0.00815334, -0.00341894, -0.00565492,\n",
       "         0.00577353,  0.0060654 ,  0.00813127, -0.00604053, -0.00560316,\n",
       "         0.00586533, -0.00730128,  0.00512125,  0.00790565, -0.00316311,\n",
       "         0.00499583,  0.00583192, -0.00173133,  0.00549116, -0.00789898,\n",
       "         0.00516705,  0.0011701 ], dtype=float32),\n",
       " array([0.99986464, 1.0073152 , 1.0062639 , 1.0062155 , 1.0072451 ,\n",
       "        0.993979  , 0.9913119 , 1.0034772 , 0.99073607, 0.99238324,\n",
       "        0.9931899 , 1.0062644 , 1.0086939 , 0.9931249 , 0.992748  ,\n",
       "        1.0105016 , 1.0049403 , 1.0043255 , 0.9923426 , 1.0082204 ,\n",
       "        0.99115425, 1.0043    , 1.0059392 , 1.0073516 , 0.99799174,\n",
       "        1.0080498 , 0.99262   , 1.0081547 , 0.99948275, 0.9942325 ,\n",
       "        0.9926687 , 0.9940181 ], dtype=float32),\n",
       " array([ 0.0005113 , -0.00148836, -0.00326064,  0.00502032, -0.00417813,\n",
       "        -0.00146073, -0.00684269, -0.00161614, -0.0048862 , -0.00220209,\n",
       "        -0.00476705, -0.00576143, -0.00417179,  0.00614353,  0.00213085,\n",
       "         0.00683069,  0.00227399, -0.00665528, -0.00388775, -0.0040697 ,\n",
       "         0.00520962,  0.00235108, -0.00699433,  0.00826127, -0.00200045,\n",
       "        -0.00660724,  0.00398842, -0.00510149,  0.00326108, -0.00678936,\n",
       "         0.00169723, -0.00660345], dtype=float32),\n",
       " array([1.04625076e-01, 6.36145771e-02, 1.10214286e-01, 2.85464972e-01,\n",
       "        5.55026494e-02, 9.15654898e-02, 5.58009744e-02, 1.64614931e-01,\n",
       "        3.31460744e-01, 3.33443224e-01, 1.90439194e-01, 1.92510113e-01,\n",
       "        2.27366492e-01, 1.85663834e-01, 1.01862118e-01, 6.31732196e-02,\n",
       "        1.93346724e-01, 3.31278503e-01, 1.64364502e-01, 1.53797314e-01,\n",
       "        1.08828500e-01, 1.31982014e-01, 1.29321083e-01, 7.26887807e-02,\n",
       "        2.02101310e-05, 2.76635978e-02, 1.15140133e-01, 9.00393426e-02,\n",
       "        2.26178333e-01, 6.02559512e-03, 3.11468132e-02, 1.03803806e-01],\n",
       "       dtype=float32),\n",
       " array([0.02124928, 0.00759621, 0.02233871, 0.15111126, 0.00457327,\n",
       "        0.01540483, 0.00479123, 0.03865544, 0.1538092 , 0.15442972,\n",
       "        0.06729443, 0.05130128, 0.09643771, 0.04940581, 0.01489509,\n",
       "        0.0055831 , 0.05121465, 0.20164879, 0.03884088, 0.03418301,\n",
       "        0.02138523, 0.03324829, 0.02316253, 0.00969224, 0.00032236,\n",
       "        0.0012396 , 0.01797931, 0.01188434, 0.07137103, 0.00041809,\n",
       "        0.00154714, 0.02035756], dtype=float32),\n",
       " array([[-0.22386973, -0.26135308, -0.02544638, -0.34482098,  0.00748399,\n",
       "          0.09047705, -0.27211937,  0.04943137,  0.3095698 , -0.06811587,\n",
       "          0.15513946, -0.02513133,  0.06771775, -0.08875932, -0.02512847,\n",
       "          0.15821631],\n",
       "        [ 0.27291462,  0.02666844,  0.33717373,  0.2361718 , -0.3376065 ,\n",
       "          0.12429039, -0.18092978, -0.21664433,  0.28757527, -0.24157222,\n",
       "         -0.25933853, -0.1055052 , -0.31937253, -0.17889553, -0.05797709,\n",
       "          0.22208263],\n",
       "        [-0.25602755,  0.14209266,  0.31248736,  0.0113023 ,  0.05210635,\n",
       "          0.10265329, -0.10130175,  0.0187865 , -0.33894435, -0.21615978,\n",
       "         -0.17452171,  0.285198  , -0.3177257 , -0.11607116, -0.03585112,\n",
       "          0.32014203],\n",
       "        [-0.24179804,  0.3154539 ,  0.10780971, -0.3466035 , -0.22710802,\n",
       "          0.0820912 ,  0.1118115 , -0.03389233, -0.08555278,  0.15313108,\n",
       "          0.16012175,  0.09104788,  0.20358516, -0.20887402, -0.088075  ,\n",
       "          0.1950167 ],\n",
       "        [-0.17315131, -0.04067463,  0.00089194, -0.21782307, -0.12243775,\n",
       "         -0.32141662,  0.17066254, -0.10961219,  0.1934991 ,  0.14345998,\n",
       "          0.01930229,  0.14428093, -0.12270506,  0.0255554 , -0.34413585,\n",
       "          0.01143423],\n",
       "        [ 0.23992774, -0.29758874, -0.04961991,  0.33545455, -0.06878978,\n",
       "         -0.04875557, -0.323875  ,  0.07406774, -0.14372359, -0.0280948 ,\n",
       "         -0.06718878, -0.33331457, -0.13094226,  0.00721211,  0.06034449,\n",
       "          0.29778814],\n",
       "        [ 0.00042383, -0.25536656,  0.32204193,  0.03758749, -0.01109461,\n",
       "          0.00350504,  0.15673275, -0.18896633,  0.19665405,  0.26502252,\n",
       "          0.09828543, -0.20712963,  0.1053021 ,  0.29222894,  0.11297653,\n",
       "          0.17707308],\n",
       "        [-0.13863023, -0.3294375 , -0.15460914,  0.1232917 ,  0.21590954,\n",
       "          0.11077675, -0.0572509 ,  0.34093168,  0.0005558 , -0.02673395,\n",
       "          0.26964208,  0.15434165, -0.21359405,  0.05532815, -0.06181698,\n",
       "          0.2619113 ],\n",
       "        [ 0.07814562, -0.12901646,  0.31427464, -0.04362375, -0.06655505,\n",
       "          0.31274784,  0.02777178, -0.20194857, -0.32511523, -0.22278586,\n",
       "         -0.29203922,  0.2523885 , -0.29803565, -0.13344601,  0.22021893,\n",
       "          0.10484353],\n",
       "        [ 0.2052969 , -0.29058644,  0.0543723 , -0.1842266 , -0.08694359,\n",
       "         -0.29664564, -0.12824647, -0.24680714,  0.11390984, -0.14489117,\n",
       "         -0.1604304 , -0.05905225,  0.34086806,  0.03436639,  0.27456245,\n",
       "          0.28339335],\n",
       "        [ 0.14143746, -0.16410203, -0.2587443 ,  0.00589766,  0.3528976 ,\n",
       "         -0.10649499, -0.01624076,  0.3005911 , -0.03662269,  0.29155824,\n",
       "          0.095566  ,  0.2586232 , -0.20422328,  0.05902215,  0.2504584 ,\n",
       "         -0.21136379],\n",
       "        [ 0.22731116, -0.3231816 , -0.17022833, -0.22951019, -0.2751287 ,\n",
       "         -0.31789336, -0.28095663, -0.19708602,  0.14721471,  0.26183525,\n",
       "         -0.31553504, -0.11188341, -0.10696953,  0.07744025,  0.2875571 ,\n",
       "         -0.22702605],\n",
       "        [-0.25039336, -0.20290875,  0.25439632,  0.18574697, -0.14676104,\n",
       "          0.35538104, -0.18283546, -0.19819494, -0.17552353, -0.252238  ,\n",
       "         -0.10019941,  0.33819702,  0.12117001,  0.26184678, -0.10434294,\n",
       "          0.21483415],\n",
       "        [-0.22282504,  0.3427367 ,  0.18059382,  0.30180624, -0.05869696,\n",
       "         -0.31436044, -0.15185262, -0.29477102, -0.12014033,  0.29485458,\n",
       "          0.33096927,  0.33527705,  0.12045188, -0.2833961 , -0.31073782,\n",
       "         -0.2741572 ],\n",
       "        [ 0.27104002,  0.10683307, -0.034451  ,  0.30265754,  0.30377764,\n",
       "         -0.25699374, -0.11479685, -0.10546359,  0.2218905 , -0.01030293,\n",
       "         -0.10635057,  0.1468587 ,  0.23189032,  0.16736968,  0.25656447,\n",
       "         -0.13432267],\n",
       "        [-0.16587271, -0.14081354, -0.08931762,  0.01408442,  0.01096973,\n",
       "          0.10390401, -0.18905824,  0.18038823, -0.2197148 , -0.27058396,\n",
       "         -0.16242167,  0.17779163,  0.12270503, -0.17773329,  0.29457328,\n",
       "          0.13012762],\n",
       "        [ 0.34446827, -0.04658549, -0.02165576, -0.07677566, -0.24066094,\n",
       "          0.2927411 , -0.07570366, -0.09276625, -0.32460237,  0.13964894,\n",
       "         -0.32807973,  0.06294288,  0.13654388, -0.16455257, -0.20942788,\n",
       "         -0.19340867],\n",
       "        [ 0.21891749,  0.32425693, -0.00071162, -0.15139465,  0.08783919,\n",
       "         -0.33778876, -0.13106054, -0.15778229, -0.2928626 , -0.00438261,\n",
       "          0.0312391 , -0.03700482, -0.11424179,  0.1900106 ,  0.22500072,\n",
       "          0.263872  ],\n",
       "        [-0.2847847 ,  0.00684866,  0.29619342,  0.23929901,  0.28498155,\n",
       "         -0.19893584,  0.3429248 ,  0.03798973, -0.02286314, -0.26140997,\n",
       "          0.33946905,  0.18170267, -0.28160888,  0.295051  ,  0.29148063,\n",
       "          0.2331553 ],\n",
       "        [-0.26056916, -0.17321722, -0.11288624, -0.31617624,  0.02193515,\n",
       "         -0.2931614 ,  0.10328251, -0.12172332, -0.06105463, -0.34411705,\n",
       "          0.16832124, -0.0029627 , -0.3478715 ,  0.08761922,  0.13195062,\n",
       "          0.18928833],\n",
       "        [-0.01120401,  0.12926199,  0.10694706,  0.26651055, -0.3059391 ,\n",
       "         -0.09582873, -0.09238352,  0.00234348,  0.08860213, -0.34337538,\n",
       "         -0.33148894,  0.20308633,  0.20078474, -0.15978271, -0.03079348,\n",
       "          0.16342516],\n",
       "        [ 0.09763745,  0.20302197, -0.09985019, -0.06948648, -0.25385392,\n",
       "          0.29058337, -0.193574  ,  0.3329055 ,  0.07739329, -0.30200633,\n",
       "         -0.22378983, -0.07495981,  0.23654014, -0.03477596, -0.12392938,\n",
       "          0.3441587 ],\n",
       "        [ 0.02414808, -0.26441887,  0.0152018 , -0.07059497, -0.12885202,\n",
       "         -0.24382707, -0.00074066, -0.2022624 , -0.13118014, -0.17386813,\n",
       "         -0.35375193, -0.03684466,  0.16209567,  0.23147875, -0.09595317,\n",
       "          0.07553773],\n",
       "        [-0.06375788, -0.17092168,  0.31921953,  0.19355619, -0.21533377,\n",
       "         -0.19178675, -0.13092095, -0.28870615, -0.2251399 , -0.07717405,\n",
       "         -0.0136354 , -0.30566493, -0.26062512, -0.34306735,  0.17508787,\n",
       "          0.01266701],\n",
       "        [-0.22927223,  0.20191589,  0.20397964, -0.12139958,  0.15011957,\n",
       "          0.07035129, -0.03278839, -0.28926802, -0.11176845, -0.34001192,\n",
       "         -0.09036767, -0.30665544,  0.20549762,  0.23062813, -0.08910984,\n",
       "          0.29808533],\n",
       "        [ 0.06382533, -0.18331538, -0.18291025, -0.27015784, -0.3509451 ,\n",
       "          0.26780593,  0.26674208,  0.12811552, -0.28241584, -0.23687223,\n",
       "         -0.04799796, -0.08869084, -0.09198415,  0.17366661, -0.01427785,\n",
       "         -0.32945573],\n",
       "        [ 0.07451706,  0.06822322,  0.27216622, -0.1446236 ,  0.04378631,\n",
       "          0.00925594,  0.33840108,  0.21920903,  0.3166429 ,  0.18882914,\n",
       "         -0.33202535, -0.21336624,  0.34698766, -0.2510253 , -0.21639979,\n",
       "          0.19914006],\n",
       "        [-0.08121728, -0.07533351, -0.23933157, -0.14349052, -0.34904543,\n",
       "          0.24130312, -0.02950321, -0.24833319, -0.10446394, -0.29239205,\n",
       "         -0.09744561,  0.2498553 , -0.28687552,  0.09009172,  0.22520441,\n",
       "          0.04954033],\n",
       "        [-0.30515447,  0.28553805,  0.11491256, -0.10986011, -0.23517422,\n",
       "         -0.19818985,  0.27839285, -0.33843523, -0.19112088, -0.29905212,\n",
       "         -0.27033705,  0.0774641 ,  0.24865514,  0.00062114,  0.00446638,\n",
       "          0.03270828],\n",
       "        [ 0.19546692,  0.31631175,  0.13465895,  0.20010877,  0.09271485,\n",
       "          0.09353188,  0.33426562, -0.03371751, -0.34380478,  0.26511353,\n",
       "         -0.3004098 , -0.1769187 ,  0.03477485,  0.21940601, -0.34617177,\n",
       "          0.22814678],\n",
       "        [ 0.19085649, -0.00816923,  0.22369824, -0.00696578, -0.32865095,\n",
       "          0.20240493, -0.23005386,  0.0937647 , -0.2016855 , -0.11068201,\n",
       "         -0.27068743,  0.2247048 ,  0.07038713, -0.1307104 , -0.02995016,\n",
       "          0.3072391 ],\n",
       "        [-0.14955284, -0.29985526,  0.01932722,  0.12995544, -0.20507254,\n",
       "         -0.13641271, -0.04716923,  0.08066499,  0.0044398 ,  0.31853634,\n",
       "         -0.2407527 ,  0.27436236,  0.28945613,  0.3028001 , -0.3295919 ,\n",
       "          0.27642655]], dtype=float32),\n",
       " array([-0.00143368,  0.00223173,  0.00117165,  0.00655981,  0.0062264 ,\n",
       "         0.00048795, -0.00272109, -0.00732607, -0.00454649, -0.00639792,\n",
       "         0.00712704, -0.00631409,  0.00430831, -0.00712217, -0.00566883,\n",
       "        -0.00278492], dtype=float32),\n",
       " array([0.9953003 , 1.0073478 , 0.9949811 , 1.0072734 , 1.0083323 ,\n",
       "        0.993207  , 1.0069971 , 1.0069728 , 0.9956334 , 0.9933161 ,\n",
       "        1.0072552 , 0.9935739 , 1.0071893 , 0.99319655, 0.99324995,\n",
       "        1.0080869 ], dtype=float32),\n",
       " array([ 0.00223166,  0.0023127 ,  0.00228392,  0.00232069,  0.00238445,\n",
       "        -0.00228683, -0.0023238 ,  0.00231309, -0.00155941, -0.00223595,\n",
       "         0.00230829,  0.0021363 , -0.00230936,  0.00228192,  0.00225262,\n",
       "         0.00230894], dtype=float32),\n",
       " array([0.08798872, 0.5021152 , 0.33615944, 0.44733292, 0.42399552,\n",
       "        0.474927  , 0.7960795 , 0.5945229 , 0.24898997, 0.3085598 ,\n",
       "        0.47216105, 0.38597327, 0.15320644, 0.2580649 , 0.343455  ,\n",
       "        0.70661473], dtype=float32),\n",
       " array([0.01209586, 0.21531567, 0.21263985, 0.28517273, 0.30646926,\n",
       "        0.20228307, 0.579281  , 0.28497306, 0.09804785, 0.16545181,\n",
       "        0.3506782 , 0.380745  , 0.02458053, 0.12170886, 0.24491875,\n",
       "        1.5751677 ], dtype=float32),\n",
       " array([[-0.18597816, -0.10141147],\n",
       "        [-0.3804057 ,  0.02240599],\n",
       "        [-0.50626653, -0.01337467],\n",
       "        [-0.47297442, -0.19906884],\n",
       "        [ 0.25950542,  0.35794255],\n",
       "        [ 0.47887257, -0.35639244],\n",
       "        [ 0.30195683,  0.06347799],\n",
       "        [-0.33673784,  0.03645353],\n",
       "        [-0.1500847 , -0.15162474],\n",
       "        [-0.22998933, -0.33560458],\n",
       "        [-0.57681584, -0.0482709 ],\n",
       "        [-0.0085239 ,  0.02663233],\n",
       "        [-0.01820836, -0.502593  ],\n",
       "        [-0.282053  ,  0.23456062],\n",
       "        [ 0.06505991,  0.21751754],\n",
       "        [-0.11301202,  0.44090745]], dtype=float32),\n",
       " array([-0.0022947,  0.0022947], dtype=float32)]"
      ]
     },
     "execution_count": 30,
     "metadata": {},
     "output_type": "execute_result"
    }
   ],
   "source": [
    "model.get_weights()"
   ]
  }
 ],
 "metadata": {
  "kernelspec": {
   "display_name": "Python 3.9.13 ('machineLearning')",
   "language": "python",
   "name": "python3"
  },
  "language_info": {
   "codemirror_mode": {
    "name": "ipython",
    "version": 3
   },
   "file_extension": ".py",
   "mimetype": "text/x-python",
   "name": "python",
   "nbconvert_exporter": "python",
   "pygments_lexer": "ipython3",
   "version": "3.9.13"
  },
  "vscode": {
   "interpreter": {
    "hash": "ba0bac22d9eb68f7f5a06ef2e353ac664856aa0e4acc18841217d9d0b0f1928e"
   }
  }
 },
 "nbformat": 4,
 "nbformat_minor": 0
}
