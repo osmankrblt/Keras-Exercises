{
 "cells": [
  {
   "cell_type": "code",
   "execution_count": 1,
   "metadata": {
    "collapsed": true,
    "pycharm": {
     "name": "#%%\n"
    }
   },
   "outputs": [],
   "source": [
    "import itertools\n",
    "\n",
    "import numpy as np"
   ]
  },
  {
   "cell_type": "code",
   "execution_count": 2,
   "metadata": {
    "collapsed": false,
    "pycharm": {
     "name": "#%%\n"
    }
   },
   "outputs": [],
   "source": [
    "train_samples = []\n",
    "train_labels = []\n",
    "\n",
    "for i in range(100):\n",
    "    train_samples.append(np.random.randint(13,64))\n",
    "    train_labels.append(0)\n",
    "\n",
    "    train_samples.append(np.random.randint(65,100))\n",
    "    train_labels.append(1)\n",
    "\n",
    "\n",
    "for i in range(2000):\n",
    "    train_samples.append(np.random.randint(13,64))\n",
    "    train_labels.append(1)\n",
    "\n",
    "    train_samples.append(np.random.randint(65,100))\n",
    "    train_labels.append(0)"
   ]
  },
  {
   "cell_type": "code",
   "execution_count": 3,
   "metadata": {
    "collapsed": false,
    "pycharm": {
     "name": "#%%\n"
    }
   },
   "outputs": [
    {
     "data": {
      "text/plain": [
       "4200"
      ]
     },
     "execution_count": 3,
     "metadata": {},
     "output_type": "execute_result"
    }
   ],
   "source": [
    "len(train_samples)"
   ]
  },
  {
   "cell_type": "code",
   "execution_count": 4,
   "metadata": {
    "collapsed": false,
    "pycharm": {
     "name": "#%%\n"
    }
   },
   "outputs": [],
   "source": [
    "def shuffle(x,y):\n",
    "    temp_x=[]\n",
    "    temp_y=[]\n",
    "    if len(x) == len(y):\n",
    "        for i in range(len(x)):\n",
    "            k = np.random.randint(0,len(x))\n",
    "            temp_x.append(x[k])\n",
    "            temp_y.append(y[k])\n",
    "            x = np.delete(x, k)\n",
    "            y = np.delete(y, k)\n",
    "\n",
    "        return np.array(temp_x),np.array(temp_y)\n",
    "    else:\n",
    "        raise Exception(\"Arrays length didnt equal\")"
   ]
  },
  {
   "cell_type": "code",
   "execution_count": 5,
   "metadata": {
    "collapsed": false,
    "pycharm": {
     "name": "#%%\n"
    }
   },
   "outputs": [],
   "source": [
    "train_samples = np.array(train_samples)\n",
    "train_labels = np.array(train_labels)\n",
    "\n",
    "train_samples,train_labels = shuffle(train_samples,train_labels)"
   ]
  },
  {
   "cell_type": "code",
   "execution_count": 6,
   "metadata": {
    "collapsed": false,
    "pycharm": {
     "name": "#%%\n"
    }
   },
   "outputs": [
    {
     "data": {
      "text/plain": [
       "array([90, 65, 87, 84, 19])"
      ]
     },
     "execution_count": 6,
     "metadata": {},
     "output_type": "execute_result"
    }
   ],
   "source": [
    "train_samples[0:5]"
   ]
  },
  {
   "cell_type": "code",
   "execution_count": 7,
   "metadata": {
    "collapsed": false,
    "pycharm": {
     "name": "#%%\n"
    }
   },
   "outputs": [
    {
     "data": {
      "text/plain": [
       "array([0, 0, 0, 0, 1])"
      ]
     },
     "execution_count": 7,
     "metadata": {},
     "output_type": "execute_result"
    }
   ],
   "source": [
    "train_labels[0:5]"
   ]
  },
  {
   "cell_type": "code",
   "execution_count": 8,
   "metadata": {
    "collapsed": false,
    "pycharm": {
     "name": "#%%\n"
    }
   },
   "outputs": [
    {
     "data": {
      "text/plain": [
       "array([[0.89534884],\n",
       "       [0.60465116],\n",
       "       [0.86046512],\n",
       "       [0.8255814 ],\n",
       "       [0.06976744]])"
      ]
     },
     "execution_count": 8,
     "metadata": {},
     "output_type": "execute_result"
    }
   ],
   "source": [
    "from sklearn.preprocessing import MinMaxScaler\n",
    "\n",
    "scaler = MinMaxScaler(feature_range=(0,1))\n",
    "\n",
    "train_samples_scaled = scaler.fit_transform(train_samples.reshape(-1,1))\n",
    "train_samples_scaled[0:5]"
   ]
  },
  {
   "cell_type": "code",
   "execution_count": 9,
   "metadata": {
    "collapsed": false,
    "pycharm": {
     "name": "#%%\n"
    }
   },
   "outputs": [],
   "source": [
    "import keras\n",
    "from keras import Sequential\n",
    "from keras.layers import Dense,Dropout,BatchNormalization"
   ]
  },
  {
   "cell_type": "code",
   "execution_count": 10,
   "metadata": {
    "collapsed": false,
    "pycharm": {
     "name": "#%%\n"
    }
   },
   "outputs": [
    {
     "name": "stdout",
     "output_type": "stream",
     "text": [
      "[PhysicalDevice(name='/physical_device:CPU:0', device_type='CPU'), PhysicalDevice(name='/physical_device:GPU:0', device_type='GPU')]\n",
      "Num Gpu Devices 2\n"
     ]
    }
   ],
   "source": [
    "import tensorflow as tf\n",
    "\n",
    "devices  = tf.config.experimental.list_physical_devices()\n",
    "print(devices)\n",
    "print(\"Num Gpu Devices\",len(devices))\n",
    "tf.config.experimental.set_memory_growth(devices[1],True)"
   ]
  },
  {
   "cell_type": "code",
   "execution_count": 11,
   "metadata": {
    "collapsed": false,
    "pycharm": {
     "name": "#%%\n"
    }
   },
   "outputs": [],
   "source": [
    "model = Sequential()\n",
    "model.add(Dense(units=16,input_shape=(1,),activation=\"relu\"))\n",
    "model.add(BatchNormalization())\n",
    "model.add(Dense(units=32,activation=\"relu\"))\n",
    "model.add(BatchNormalization())\n",
    "model.add(Dense(units=16,activation=\"relu\"))\n",
    "model.add(BatchNormalization())\n",
    "model.add(Dense(units=2,activation=\"softmax\"))"
   ]
  },
  {
   "cell_type": "code",
   "execution_count": 12,
   "metadata": {
    "collapsed": false,
    "pycharm": {
     "name": "#%%\n"
    }
   },
   "outputs": [
    {
     "name": "stdout",
     "output_type": "stream",
     "text": [
      "Model: \"sequential\"\n",
      "_________________________________________________________________\n",
      " Layer (type)                Output Shape              Param #   \n",
      "=================================================================\n",
      " dense (Dense)               (None, 16)                32        \n",
      "                                                                 \n",
      " batch_normalization (BatchN  (None, 16)               64        \n",
      " ormalization)                                                   \n",
      "                                                                 \n",
      " dense_1 (Dense)             (None, 32)                544       \n",
      "                                                                 \n",
      " batch_normalization_1 (Batc  (None, 32)               128       \n",
      " hNormalization)                                                 \n",
      "                                                                 \n",
      " dense_2 (Dense)             (None, 16)                528       \n",
      "                                                                 \n",
      " batch_normalization_2 (Batc  (None, 16)               64        \n",
      " hNormalization)                                                 \n",
      "                                                                 \n",
      " dense_3 (Dense)             (None, 2)                 34        \n",
      "                                                                 \n",
      "=================================================================\n",
      "Total params: 1,394\n",
      "Trainable params: 1,266\n",
      "Non-trainable params: 128\n",
      "_________________________________________________________________\n"
     ]
    }
   ],
   "source": [
    "model.summary()"
   ]
  },
  {
   "cell_type": "code",
   "execution_count": 13,
   "metadata": {
    "collapsed": false,
    "pycharm": {
     "name": "#%%\n"
    }
   },
   "outputs": [],
   "source": [
    "from keras.optimizers import Adam\n",
    "\n",
    "model.compile(optimizer=Adam(learning_rate=0.00001),loss=\"sparse_categorical_crossentropy\",metrics=[\"accuracy\"])"
   ]
  },
  {
   "cell_type": "code",
   "execution_count": 14,
   "metadata": {
    "collapsed": false,
    "pycharm": {
     "name": "#%%\n"
    }
   },
   "outputs": [
    {
     "name": "stdout",
     "output_type": "stream",
     "text": [
      "Epoch 1/100\n",
      "8/8 - 7s - loss: 0.6903 - accuracy: 0.6114 - val_loss: 1.0628 - val_accuracy: 0.5214 - 7s/epoch - 839ms/step\n",
      "Epoch 2/100\n",
      "8/8 - 0s - loss: 0.6836 - accuracy: 0.6183 - val_loss: 0.9079 - val_accuracy: 0.3833 - 218ms/epoch - 27ms/step\n",
      "Epoch 3/100\n",
      "8/8 - 0s - loss: 0.6772 - accuracy: 0.6270 - val_loss: 0.8602 - val_accuracy: 0.2571 - 210ms/epoch - 26ms/step\n",
      "Epoch 4/100\n",
      "8/8 - 0s - loss: 0.6711 - accuracy: 0.6241 - val_loss: 0.8319 - val_accuracy: 0.1310 - 213ms/epoch - 27ms/step\n",
      "Epoch 5/100\n",
      "8/8 - 0s - loss: 0.6646 - accuracy: 0.6365 - val_loss: 0.8185 - val_accuracy: 0.0524 - 211ms/epoch - 26ms/step\n",
      "Epoch 6/100\n",
      "8/8 - 0s - loss: 0.6603 - accuracy: 0.6413 - val_loss: 0.8081 - val_accuracy: 0.1619 - 223ms/epoch - 28ms/step\n",
      "Epoch 7/100\n",
      "8/8 - 0s - loss: 0.6546 - accuracy: 0.6442 - val_loss: 0.7993 - val_accuracy: 0.3262 - 207ms/epoch - 26ms/step\n",
      "Epoch 8/100\n",
      "8/8 - 0s - loss: 0.6514 - accuracy: 0.6471 - val_loss: 0.7911 - val_accuracy: 0.4500 - 212ms/epoch - 27ms/step\n",
      "Epoch 9/100\n",
      "8/8 - 0s - loss: 0.6453 - accuracy: 0.6534 - val_loss: 0.7842 - val_accuracy: 0.4786 - 233ms/epoch - 29ms/step\n",
      "Epoch 10/100\n",
      "8/8 - 0s - loss: 0.6407 - accuracy: 0.6595 - val_loss: 0.7770 - val_accuracy: 0.4786 - 230ms/epoch - 29ms/step\n",
      "Epoch 11/100\n",
      "8/8 - 0s - loss: 0.6356 - accuracy: 0.6651 - val_loss: 0.7693 - val_accuracy: 0.4786 - 220ms/epoch - 28ms/step\n",
      "Epoch 12/100\n",
      "8/8 - 0s - loss: 0.6313 - accuracy: 0.6651 - val_loss: 0.7620 - val_accuracy: 0.4786 - 188ms/epoch - 24ms/step\n",
      "Epoch 13/100\n",
      "8/8 - 0s - loss: 0.6273 - accuracy: 0.6722 - val_loss: 0.7572 - val_accuracy: 0.4786 - 177ms/epoch - 22ms/step\n",
      "Epoch 14/100\n",
      "8/8 - 0s - loss: 0.6222 - accuracy: 0.6725 - val_loss: 0.7534 - val_accuracy: 0.4786 - 236ms/epoch - 29ms/step\n",
      "Epoch 15/100\n",
      "8/8 - 0s - loss: 0.6193 - accuracy: 0.6770 - val_loss: 0.7504 - val_accuracy: 0.4786 - 225ms/epoch - 28ms/step\n",
      "Epoch 16/100\n",
      "8/8 - 0s - loss: 0.6128 - accuracy: 0.6860 - val_loss: 0.7474 - val_accuracy: 0.4786 - 209ms/epoch - 26ms/step\n",
      "Epoch 17/100\n",
      "8/8 - 0s - loss: 0.6093 - accuracy: 0.6899 - val_loss: 0.7447 - val_accuracy: 0.4786 - 192ms/epoch - 24ms/step\n",
      "Epoch 18/100\n",
      "8/8 - 0s - loss: 0.6048 - accuracy: 0.6989 - val_loss: 0.7426 - val_accuracy: 0.4786 - 255ms/epoch - 32ms/step\n",
      "Epoch 19/100\n",
      "8/8 - 0s - loss: 0.6022 - accuracy: 0.7040 - val_loss: 0.7407 - val_accuracy: 0.4786 - 234ms/epoch - 29ms/step\n",
      "Epoch 20/100\n",
      "8/8 - 0s - loss: 0.5988 - accuracy: 0.7053 - val_loss: 0.7378 - val_accuracy: 0.4929 - 247ms/epoch - 31ms/step\n",
      "Epoch 21/100\n",
      "8/8 - 0s - loss: 0.5936 - accuracy: 0.7151 - val_loss: 0.7341 - val_accuracy: 0.5119 - 202ms/epoch - 25ms/step\n",
      "Epoch 22/100\n",
      "8/8 - 0s - loss: 0.5895 - accuracy: 0.7220 - val_loss: 0.7300 - val_accuracy: 0.5333 - 216ms/epoch - 27ms/step\n",
      "Epoch 23/100\n",
      "8/8 - 0s - loss: 0.5850 - accuracy: 0.7291 - val_loss: 0.7244 - val_accuracy: 0.5452 - 279ms/epoch - 35ms/step\n",
      "Epoch 24/100\n",
      "8/8 - 0s - loss: 0.5809 - accuracy: 0.7381 - val_loss: 0.7183 - val_accuracy: 0.5619 - 233ms/epoch - 29ms/step\n",
      "Epoch 25/100\n",
      "8/8 - 0s - loss: 0.5776 - accuracy: 0.7413 - val_loss: 0.7118 - val_accuracy: 0.5857 - 217ms/epoch - 27ms/step\n",
      "Epoch 26/100\n",
      "8/8 - 0s - loss: 0.5736 - accuracy: 0.7460 - val_loss: 0.7048 - val_accuracy: 0.5881 - 232ms/epoch - 29ms/step\n",
      "Epoch 27/100\n",
      "8/8 - 0s - loss: 0.5687 - accuracy: 0.7455 - val_loss: 0.6970 - val_accuracy: 0.5952 - 169ms/epoch - 21ms/step\n",
      "Epoch 28/100\n",
      "8/8 - 0s - loss: 0.5655 - accuracy: 0.7431 - val_loss: 0.6888 - val_accuracy: 0.6000 - 227ms/epoch - 28ms/step\n",
      "Epoch 29/100\n",
      "8/8 - 0s - loss: 0.5620 - accuracy: 0.7463 - val_loss: 0.6797 - val_accuracy: 0.6167 - 248ms/epoch - 31ms/step\n",
      "Epoch 30/100\n",
      "8/8 - 0s - loss: 0.5569 - accuracy: 0.7468 - val_loss: 0.6705 - val_accuracy: 0.6262 - 274ms/epoch - 34ms/step\n",
      "Epoch 31/100\n",
      "8/8 - 0s - loss: 0.5538 - accuracy: 0.7455 - val_loss: 0.6613 - val_accuracy: 0.6262 - 253ms/epoch - 32ms/step\n",
      "Epoch 32/100\n",
      "8/8 - 0s - loss: 0.5488 - accuracy: 0.7452 - val_loss: 0.6518 - val_accuracy: 0.6310 - 233ms/epoch - 29ms/step\n",
      "Epoch 33/100\n",
      "8/8 - 0s - loss: 0.5449 - accuracy: 0.7466 - val_loss: 0.6420 - val_accuracy: 0.6524 - 227ms/epoch - 28ms/step\n",
      "Epoch 34/100\n",
      "8/8 - 0s - loss: 0.5412 - accuracy: 0.7476 - val_loss: 0.6324 - val_accuracy: 0.6667 - 202ms/epoch - 25ms/step\n",
      "Epoch 35/100\n",
      "8/8 - 0s - loss: 0.5385 - accuracy: 0.7484 - val_loss: 0.6226 - val_accuracy: 0.6667 - 196ms/epoch - 24ms/step\n",
      "Epoch 36/100\n",
      "8/8 - 0s - loss: 0.5347 - accuracy: 0.7516 - val_loss: 0.6126 - val_accuracy: 0.6690 - 212ms/epoch - 26ms/step\n",
      "Epoch 37/100\n",
      "8/8 - 0s - loss: 0.5307 - accuracy: 0.7495 - val_loss: 0.6029 - val_accuracy: 0.6690 - 208ms/epoch - 26ms/step\n",
      "Epoch 38/100\n",
      "8/8 - 0s - loss: 0.5291 - accuracy: 0.7495 - val_loss: 0.5933 - val_accuracy: 0.6690 - 221ms/epoch - 28ms/step\n",
      "Epoch 39/100\n",
      "8/8 - 0s - loss: 0.5242 - accuracy: 0.7513 - val_loss: 0.5841 - val_accuracy: 0.6690 - 192ms/epoch - 24ms/step\n",
      "Epoch 40/100\n",
      "8/8 - 0s - loss: 0.5210 - accuracy: 0.7542 - val_loss: 0.5751 - val_accuracy: 0.6881 - 203ms/epoch - 25ms/step\n",
      "Epoch 41/100\n",
      "8/8 - 0s - loss: 0.5172 - accuracy: 0.7511 - val_loss: 0.5665 - val_accuracy: 0.6881 - 200ms/epoch - 25ms/step\n",
      "Epoch 42/100\n",
      "8/8 - 0s - loss: 0.5143 - accuracy: 0.7548 - val_loss: 0.5583 - val_accuracy: 0.7071 - 218ms/epoch - 27ms/step\n",
      "Epoch 43/100\n",
      "8/8 - 0s - loss: 0.5092 - accuracy: 0.7537 - val_loss: 0.5504 - val_accuracy: 0.7071 - 217ms/epoch - 27ms/step\n",
      "Epoch 44/100\n",
      "8/8 - 0s - loss: 0.5069 - accuracy: 0.7500 - val_loss: 0.5428 - val_accuracy: 0.7119 - 210ms/epoch - 26ms/step\n",
      "Epoch 45/100\n",
      "8/8 - 0s - loss: 0.5051 - accuracy: 0.7524 - val_loss: 0.5358 - val_accuracy: 0.7119 - 236ms/epoch - 29ms/step\n",
      "Epoch 46/100\n",
      "8/8 - 0s - loss: 0.5011 - accuracy: 0.7550 - val_loss: 0.5289 - val_accuracy: 0.7262 - 241ms/epoch - 30ms/step\n",
      "Epoch 47/100\n",
      "8/8 - 0s - loss: 0.4991 - accuracy: 0.7537 - val_loss: 0.5218 - val_accuracy: 0.7262 - 220ms/epoch - 28ms/step\n",
      "Epoch 48/100\n",
      "8/8 - 0s - loss: 0.4956 - accuracy: 0.7526 - val_loss: 0.5153 - val_accuracy: 0.7262 - 214ms/epoch - 27ms/step\n",
      "Epoch 49/100\n",
      "8/8 - 0s - loss: 0.4909 - accuracy: 0.7542 - val_loss: 0.5089 - val_accuracy: 0.7405 - 228ms/epoch - 29ms/step\n",
      "Epoch 50/100\n",
      "8/8 - 0s - loss: 0.4883 - accuracy: 0.7566 - val_loss: 0.5028 - val_accuracy: 0.7405 - 207ms/epoch - 26ms/step\n",
      "Epoch 51/100\n",
      "8/8 - 0s - loss: 0.4846 - accuracy: 0.7582 - val_loss: 0.4971 - val_accuracy: 0.7429 - 210ms/epoch - 26ms/step\n",
      "Epoch 52/100\n",
      "8/8 - 0s - loss: 0.4834 - accuracy: 0.7553 - val_loss: 0.4911 - val_accuracy: 0.7429 - 231ms/epoch - 29ms/step\n",
      "Epoch 53/100\n",
      "8/8 - 0s - loss: 0.4790 - accuracy: 0.7585 - val_loss: 0.4850 - val_accuracy: 0.7429 - 207ms/epoch - 26ms/step\n",
      "Epoch 54/100\n",
      "8/8 - 0s - loss: 0.4761 - accuracy: 0.7579 - val_loss: 0.4787 - val_accuracy: 0.7524 - 206ms/epoch - 26ms/step\n",
      "Epoch 55/100\n",
      "8/8 - 0s - loss: 0.4730 - accuracy: 0.7585 - val_loss: 0.4727 - val_accuracy: 0.7524 - 207ms/epoch - 26ms/step\n",
      "Epoch 56/100\n",
      "8/8 - 0s - loss: 0.4701 - accuracy: 0.7590 - val_loss: 0.4668 - val_accuracy: 0.7524 - 202ms/epoch - 25ms/step\n",
      "Epoch 57/100\n",
      "8/8 - 0s - loss: 0.4667 - accuracy: 0.7608 - val_loss: 0.4611 - val_accuracy: 0.7714 - 223ms/epoch - 28ms/step\n",
      "Epoch 58/100\n",
      "8/8 - 0s - loss: 0.4645 - accuracy: 0.7608 - val_loss: 0.4555 - val_accuracy: 0.7714 - 205ms/epoch - 26ms/step\n",
      "Epoch 59/100\n",
      "8/8 - 0s - loss: 0.4612 - accuracy: 0.7593 - val_loss: 0.4497 - val_accuracy: 0.7714 - 201ms/epoch - 25ms/step\n",
      "Epoch 60/100\n",
      "8/8 - 0s - loss: 0.4591 - accuracy: 0.7638 - val_loss: 0.4443 - val_accuracy: 0.7714 - 188ms/epoch - 24ms/step\n",
      "Epoch 61/100\n",
      "8/8 - 0s - loss: 0.4559 - accuracy: 0.7614 - val_loss: 0.4388 - val_accuracy: 0.7810 - 249ms/epoch - 31ms/step\n",
      "Epoch 62/100\n",
      "8/8 - 0s - loss: 0.4543 - accuracy: 0.7627 - val_loss: 0.4335 - val_accuracy: 0.7810 - 225ms/epoch - 28ms/step\n",
      "Epoch 63/100\n",
      "8/8 - 0s - loss: 0.4515 - accuracy: 0.7648 - val_loss: 0.4287 - val_accuracy: 0.7810 - 196ms/epoch - 24ms/step\n",
      "Epoch 64/100\n",
      "8/8 - 0s - loss: 0.4485 - accuracy: 0.7714 - val_loss: 0.4240 - val_accuracy: 0.7810 - 194ms/epoch - 24ms/step\n",
      "Epoch 65/100\n",
      "8/8 - 0s - loss: 0.4466 - accuracy: 0.7775 - val_loss: 0.4192 - val_accuracy: 0.7952 - 223ms/epoch - 28ms/step\n",
      "Epoch 66/100\n",
      "8/8 - 0s - loss: 0.4435 - accuracy: 0.7852 - val_loss: 0.4147 - val_accuracy: 0.7952 - 199ms/epoch - 25ms/step\n",
      "Epoch 67/100\n",
      "8/8 - 0s - loss: 0.4421 - accuracy: 0.7884 - val_loss: 0.4103 - val_accuracy: 0.7952 - 197ms/epoch - 25ms/step\n",
      "Epoch 68/100\n",
      "8/8 - 0s - loss: 0.4373 - accuracy: 0.7915 - val_loss: 0.4062 - val_accuracy: 0.7952 - 226ms/epoch - 28ms/step\n",
      "Epoch 69/100\n",
      "8/8 - 0s - loss: 0.4356 - accuracy: 0.7947 - val_loss: 0.4023 - val_accuracy: 0.7952 - 224ms/epoch - 28ms/step\n",
      "Epoch 70/100\n",
      "8/8 - 0s - loss: 0.4334 - accuracy: 0.7989 - val_loss: 0.3986 - val_accuracy: 0.7952 - 234ms/epoch - 29ms/step\n",
      "Epoch 71/100\n",
      "8/8 - 0s - loss: 0.4312 - accuracy: 0.7995 - val_loss: 0.3950 - val_accuracy: 0.8000 - 217ms/epoch - 27ms/step\n",
      "Epoch 72/100\n",
      "8/8 - 0s - loss: 0.4283 - accuracy: 0.8034 - val_loss: 0.3919 - val_accuracy: 0.8000 - 223ms/epoch - 28ms/step\n",
      "Epoch 73/100\n",
      "8/8 - 0s - loss: 0.4261 - accuracy: 0.8114 - val_loss: 0.3888 - val_accuracy: 0.8000 - 199ms/epoch - 25ms/step\n",
      "Epoch 74/100\n",
      "8/8 - 0s - loss: 0.4227 - accuracy: 0.8114 - val_loss: 0.3860 - val_accuracy: 0.8000 - 204ms/epoch - 26ms/step\n",
      "Epoch 75/100\n",
      "8/8 - 0s - loss: 0.4217 - accuracy: 0.8143 - val_loss: 0.3831 - val_accuracy: 0.8000 - 231ms/epoch - 29ms/step\n",
      "Epoch 76/100\n",
      "8/8 - 0s - loss: 0.4173 - accuracy: 0.8188 - val_loss: 0.3804 - val_accuracy: 0.8000 - 247ms/epoch - 31ms/step\n",
      "Epoch 77/100\n",
      "8/8 - 0s - loss: 0.4174 - accuracy: 0.8228 - val_loss: 0.3776 - val_accuracy: 0.8000 - 225ms/epoch - 28ms/step\n",
      "Epoch 78/100\n",
      "8/8 - 0s - loss: 0.4146 - accuracy: 0.8262 - val_loss: 0.3749 - val_accuracy: 0.8071 - 230ms/epoch - 29ms/step\n",
      "Epoch 79/100\n",
      "8/8 - 0s - loss: 0.4128 - accuracy: 0.8243 - val_loss: 0.3723 - val_accuracy: 0.8071 - 205ms/epoch - 26ms/step\n",
      "Epoch 80/100\n",
      "8/8 - 0s - loss: 0.4102 - accuracy: 0.8259 - val_loss: 0.3700 - val_accuracy: 0.8071 - 242ms/epoch - 30ms/step\n",
      "Epoch 81/100\n",
      "8/8 - 0s - loss: 0.4074 - accuracy: 0.8310 - val_loss: 0.3677 - val_accuracy: 0.8071 - 178ms/epoch - 22ms/step\n",
      "Epoch 82/100\n",
      "8/8 - 0s - loss: 0.4054 - accuracy: 0.8360 - val_loss: 0.3656 - val_accuracy: 0.8071 - 203ms/epoch - 25ms/step\n",
      "Epoch 83/100\n",
      "8/8 - 0s - loss: 0.4037 - accuracy: 0.8373 - val_loss: 0.3633 - val_accuracy: 0.8071 - 198ms/epoch - 25ms/step\n",
      "Epoch 84/100\n",
      "8/8 - 0s - loss: 0.4018 - accuracy: 0.8434 - val_loss: 0.3612 - val_accuracy: 0.8071 - 212ms/epoch - 27ms/step\n",
      "Epoch 85/100\n",
      "8/8 - 0s - loss: 0.4007 - accuracy: 0.8466 - val_loss: 0.3593 - val_accuracy: 0.8071 - 193ms/epoch - 24ms/step\n",
      "Epoch 86/100\n",
      "8/8 - 0s - loss: 0.3964 - accuracy: 0.8442 - val_loss: 0.3576 - val_accuracy: 0.8071 - 220ms/epoch - 28ms/step\n",
      "Epoch 87/100\n",
      "8/8 - 0s - loss: 0.3966 - accuracy: 0.8529 - val_loss: 0.3559 - val_accuracy: 0.8167 - 207ms/epoch - 26ms/step\n",
      "Epoch 88/100\n",
      "8/8 - 0s - loss: 0.3933 - accuracy: 0.8646 - val_loss: 0.3542 - val_accuracy: 0.8167 - 204ms/epoch - 26ms/step\n",
      "Epoch 89/100\n",
      "8/8 - 0s - loss: 0.3911 - accuracy: 0.8677 - val_loss: 0.3524 - val_accuracy: 0.8167 - 209ms/epoch - 26ms/step\n",
      "Epoch 90/100\n",
      "8/8 - 0s - loss: 0.3886 - accuracy: 0.8772 - val_loss: 0.3509 - val_accuracy: 0.8167 - 221ms/epoch - 28ms/step\n",
      "Epoch 91/100\n",
      "8/8 - 0s - loss: 0.3881 - accuracy: 0.8873 - val_loss: 0.3494 - val_accuracy: 0.8238 - 201ms/epoch - 25ms/step\n",
      "Epoch 92/100\n",
      "8/8 - 0s - loss: 0.3850 - accuracy: 0.8929 - val_loss: 0.3478 - val_accuracy: 0.8238 - 220ms/epoch - 28ms/step\n",
      "Epoch 93/100\n",
      "8/8 - 0s - loss: 0.3817 - accuracy: 0.9061 - val_loss: 0.3463 - val_accuracy: 0.8333 - 228ms/epoch - 29ms/step\n",
      "Epoch 94/100\n",
      "8/8 - 0s - loss: 0.3803 - accuracy: 0.9095 - val_loss: 0.3449 - val_accuracy: 0.8333 - 173ms/epoch - 22ms/step\n",
      "Epoch 95/100\n",
      "8/8 - 0s - loss: 0.3775 - accuracy: 0.9138 - val_loss: 0.3433 - val_accuracy: 0.8333 - 207ms/epoch - 26ms/step\n",
      "Epoch 96/100\n",
      "8/8 - 0s - loss: 0.3825 - accuracy: 0.9082 - val_loss: 0.3417 - val_accuracy: 0.8429 - 210ms/epoch - 26ms/step\n",
      "Epoch 97/100\n",
      "8/8 - 0s - loss: 0.3762 - accuracy: 0.9153 - val_loss: 0.3404 - val_accuracy: 0.8429 - 211ms/epoch - 26ms/step\n",
      "Epoch 98/100\n",
      "8/8 - 1s - loss: 0.3723 - accuracy: 0.9212 - val_loss: 0.3387 - val_accuracy: 0.8429 - 1s/epoch - 127ms/step\n",
      "Epoch 99/100\n",
      "8/8 - 0s - loss: 0.3710 - accuracy: 0.9204 - val_loss: 0.3373 - val_accuracy: 0.8429 - 230ms/epoch - 29ms/step\n",
      "Epoch 100/100\n",
      "8/8 - 0s - loss: 0.3675 - accuracy: 0.9257 - val_loss: 0.3358 - val_accuracy: 0.8548 - 193ms/epoch - 24ms/step\n"
     ]
    },
    {
     "data": {
      "text/plain": [
       "<keras.callbacks.History at 0x1a542a6fe20>"
      ]
     },
     "execution_count": 14,
     "metadata": {},
     "output_type": "execute_result"
    }
   ],
   "source": [
    "model.fit(x=train_samples,y=train_labels,batch_size=500,epochs=100,validation_split=0.1,shuffle=True,verbose=2)"
   ]
  },
  {
   "cell_type": "code",
   "execution_count": 15,
   "metadata": {
    "collapsed": false,
    "pycharm": {
     "name": "#%%\n"
    }
   },
   "outputs": [],
   "source": [
    " ## Predict"
   ]
  },
  {
   "cell_type": "code",
   "execution_count": 16,
   "metadata": {
    "collapsed": false,
    "pycharm": {
     "name": "#%%\n"
    }
   },
   "outputs": [
    {
     "data": {
      "text/plain": [
       "array([[0.70930233],\n",
       "       [0.01162791],\n",
       "       [0.93023256],\n",
       "       [0.12790698],\n",
       "       [0.79069767]])"
      ]
     },
     "execution_count": 16,
     "metadata": {},
     "output_type": "execute_result"
    }
   ],
   "source": [
    "test_samples = []\n",
    "test_labels = []\n",
    "\n",
    "for i in range(10):\n",
    "    test_samples.append(np.random.randint(13, 64))\n",
    "    test_labels.append(0)\n",
    "\n",
    "    test_samples.append(np.random.randint(65, 100))\n",
    "    test_labels.append(1)\n",
    "\n",
    "for i in range(200):\n",
    "    test_samples.append(np.random.randint(13, 64))\n",
    "    test_labels.append(1)\n",
    "\n",
    "    test_samples.append(np.random.randint(65, 100))\n",
    "    test_labels.append(0)\n",
    "\n",
    "\n",
    "def shuffle(x, y):\n",
    "    temp_x = []\n",
    "    temp_y = []\n",
    "    if len(x) == len(y):\n",
    "        for i in range(len(x)):\n",
    "            k = np.random.randint(0, len(x))\n",
    "            temp_x.append(x[k])\n",
    "            temp_y.append(y[k])\n",
    "            x = np.delete(x, k)\n",
    "            y = np.delete(y, k)\n",
    "\n",
    "        return np.array(temp_x), np.array(temp_y)\n",
    "    else:\n",
    "        raise Exception(\"Arrays length didnt equal\")\n",
    "\n",
    "\n",
    "test_samples = np.array(test_samples)\n",
    "test_labels = np.array(test_labels)\n",
    "\n",
    "test_samples, test_labels = shuffle(test_samples, test_labels)\n",
    "from sklearn.preprocessing import MinMaxScaler\n",
    "\n",
    "scaler = MinMaxScaler(feature_range=(0, 1))\n",
    "\n",
    "test_samples_scaled = scaler.fit_transform(test_samples.reshape(-1, 1))\n",
    "test_samples_scaled[0:5]"
   ]
  },
  {
   "cell_type": "code",
   "execution_count": 17,
   "metadata": {
    "collapsed": false,
    "pycharm": {
     "name": "#%%\n"
    }
   },
   "outputs": [
    {
     "data": {
      "text/plain": [
       "array([[0.00189196, 0.998108  ],\n",
       "       [0.00170502, 0.998295  ],\n",
       "       [0.00195532, 0.9980446 ],\n",
       "       [0.00173485, 0.9982652 ],\n",
       "       [0.00191506, 0.9980849 ],\n",
       "       [0.00188214, 0.9981179 ],\n",
       "       [0.00186914, 0.99813086],\n",
       "       [0.00176825, 0.9982318 ],\n",
       "       [0.00189196, 0.998108  ],\n",
       "       [0.00175299, 0.998247  ],\n",
       "       [0.00193844, 0.9980616 ],\n",
       "       [0.00189524, 0.9981047 ],\n",
       "       [0.00188214, 0.9981179 ],\n",
       "       [0.00197234, 0.9980276 ],\n",
       "       [0.00175299, 0.998247  ],\n",
       "       [0.00189524, 0.9981047 ],\n",
       "       [0.00171689, 0.99828315],\n",
       "       [0.00180543, 0.99819463],\n",
       "       [0.00173485, 0.9982652 ],\n",
       "       [0.00179918, 0.9982008 ],\n",
       "       [0.00194855, 0.9980514 ],\n",
       "       [0.00184339, 0.9981566 ],\n",
       "       [0.00188214, 0.9981179 ],\n",
       "       [0.00189853, 0.99810153],\n",
       "       [0.00195871, 0.9980413 ],\n",
       "       [0.00192171, 0.9980782 ],\n",
       "       [0.00192171, 0.9980782 ],\n",
       "       [0.00192839, 0.9980716 ],\n",
       "       [0.00192171, 0.9980782 ],\n",
       "       [0.00194518, 0.99805486],\n",
       "       [0.00184979, 0.9981502 ],\n",
       "       [0.00176519, 0.99823475],\n",
       "       [0.00195193, 0.99804807],\n",
       "       [0.00177132, 0.9982287 ],\n",
       "       [0.00194518, 0.99805486],\n",
       "       [0.00179607, 0.9982039 ],\n",
       "       [0.00183065, 0.9981693 ],\n",
       "       [0.00193844, 0.9980616 ],\n",
       "       [0.00179918, 0.9982008 ],\n",
       "       [0.00171987, 0.99828017],\n",
       "       [0.00183065, 0.9981693 ],\n",
       "       [0.00173786, 0.9982621 ],\n",
       "       [0.0018659 , 0.9981341 ],\n",
       "       [0.00178365, 0.99821633],\n",
       "       [0.00184979, 0.9981502 ],\n",
       "       [0.00187238, 0.99812764],\n",
       "       [0.00196552, 0.99803454],\n",
       "       [0.00176825, 0.9982318 ],\n",
       "       [0.00196893, 0.9980311 ],\n",
       "       [0.0017439 , 0.99825615],\n",
       "       [0.00187238, 0.99812764],\n",
       "       [0.001818  , 0.99818206],\n",
       "       [0.00194518, 0.99805486],\n",
       "       [0.00187238, 0.99812764],\n",
       "       [0.00196552, 0.99803454],\n",
       "       [0.00196893, 0.9980311 ],\n",
       "       [0.0018659 , 0.9981341 ],\n",
       "       [0.00175603, 0.9982439 ],\n",
       "       [0.00180857, 0.9981914 ],\n",
       "       [0.00172585, 0.9982742 ],\n",
       "       [0.00178365, 0.99821633],\n",
       "       [0.00196893, 0.9980311 ],\n",
       "       [0.00193173, 0.9980683 ],\n",
       "       [0.00193173, 0.9980683 ],\n",
       "       [0.00195871, 0.9980413 ],\n",
       "       [0.00192839, 0.9980716 ],\n",
       "       [0.001818  , 0.99818206],\n",
       "       [0.00194518, 0.99805486],\n",
       "       [0.00177748, 0.99822253],\n",
       "       [0.00188541, 0.9981146 ],\n",
       "       [0.00172884, 0.9982711 ],\n",
       "       [0.00194855, 0.9980514 ],\n",
       "       [0.00197234, 0.9980276 ],\n",
       "       [0.00190182, 0.9980982 ],\n",
       "       [0.00179607, 0.9982039 ],\n",
       "       [0.00184659, 0.9981534 ],\n",
       "       [0.00197576, 0.9980242 ],\n",
       "       [0.00188214, 0.9981179 ],\n",
       "       [0.00187889, 0.9981211 ],\n",
       "       [0.00195871, 0.9980413 ],\n",
       "       [0.0018402 , 0.9981598 ],\n",
       "       [0.00173485, 0.9982652 ],\n",
       "       [0.00172585, 0.9982742 ],\n",
       "       [0.00182432, 0.99817574],\n",
       "       [0.00174087, 0.9982591 ],\n",
       "       [0.00191839, 0.99808156],\n",
       "       [0.00194855, 0.9980514 ],\n",
       "       [0.00171689, 0.99828315],\n",
       "       [0.00172585, 0.9982742 ],\n",
       "       [0.00193509, 0.99806494],\n",
       "       [0.00197576, 0.9980242 ],\n",
       "       [0.00179295, 0.9982071 ],\n",
       "       [0.00197234, 0.9980276 ],\n",
       "       [0.00187889, 0.9981211 ],\n",
       "       [0.00172285, 0.9982772 ],\n",
       "       [0.00188214, 0.9981179 ],\n",
       "       [0.00186267, 0.99813735],\n",
       "       [0.00184659, 0.9981534 ],\n",
       "       [0.00171095, 0.99828905],\n",
       "       [0.00188541, 0.9981146 ],\n",
       "       [0.00182748, 0.9981725 ],\n",
       "       [0.00171095, 0.99828905],\n",
       "       [0.00180857, 0.9981914 ],\n",
       "       [0.00175299, 0.998247  ],\n",
       "       [0.001818  , 0.99818206],\n",
       "       [0.00179918, 0.9982008 ],\n",
       "       [0.00175299, 0.998247  ],\n",
       "       [0.00193844, 0.9980616 ],\n",
       "       [0.00189853, 0.99810153],\n",
       "       [0.00191506, 0.9980849 ],\n",
       "       [0.00182432, 0.99817574],\n",
       "       [0.00185622, 0.9981438 ],\n",
       "       [0.00190182, 0.9980982 ],\n",
       "       [0.00190182, 0.9980982 ],\n",
       "       [0.00177132, 0.9982287 ],\n",
       "       [0.00178056, 0.99821943],\n",
       "       [0.00172285, 0.9982772 ],\n",
       "       [0.00170502, 0.998295  ],\n",
       "       [0.00193173, 0.9980683 ],\n",
       "       [0.00175299, 0.998247  ],\n",
       "       [0.00190843, 0.9980915 ],\n",
       "       [0.00194518, 0.99805486],\n",
       "       [0.00171391, 0.99828607],\n",
       "       [0.00190182, 0.9980982 ],\n",
       "       [0.00194181, 0.99805814],\n",
       "       [0.00171095, 0.99828905],\n",
       "       [0.00196893, 0.9980311 ],\n",
       "       [0.00189524, 0.9981047 ],\n",
       "       [0.00194181, 0.99805814],\n",
       "       [0.00173184, 0.9982681 ],\n",
       "       [0.00173485, 0.9982652 ],\n",
       "       [0.00197234, 0.9980276 ],\n",
       "       [0.00174995, 0.99825007],\n",
       "       [0.00184339, 0.9981566 ],\n",
       "       [0.00193844, 0.9980616 ],\n",
       "       [0.00176519, 0.99823475],\n",
       "       [0.00175603, 0.9982439 ],\n",
       "       [0.00189853, 0.99810153],\n",
       "       [0.001818  , 0.99818206],\n",
       "       [0.00187238, 0.99812764],\n",
       "       [0.00192505, 0.9980749 ],\n",
       "       [0.00184339, 0.9981566 ],\n",
       "       [0.00179918, 0.9982008 ],\n",
       "       [0.00182748, 0.9981725 ],\n",
       "       [0.00187238, 0.99812764],\n",
       "       [0.00193509, 0.99806494],\n",
       "       [0.00182115, 0.99817884],\n",
       "       [0.00183701, 0.99816304],\n",
       "       [0.00176519, 0.99823475],\n",
       "       [0.00184979, 0.9981502 ],\n",
       "       [0.00174692, 0.99825305],\n",
       "       [0.0018023 , 0.99819773],\n",
       "       [0.00195532, 0.9980446 ],\n",
       "       [0.00186914, 0.99813086],\n",
       "       [0.00195871, 0.9980413 ],\n",
       "       [0.00174087, 0.9982591 ],\n",
       "       [0.00188214, 0.9981179 ],\n",
       "       [0.00189524, 0.9981047 ],\n",
       "       [0.00184339, 0.9981566 ],\n",
       "       [0.00178056, 0.99821943],\n",
       "       [0.0017439 , 0.99825615],\n",
       "       [0.00192505, 0.9980749 ],\n",
       "       [0.00190182, 0.9980982 ],\n",
       "       [0.00197234, 0.9980276 ],\n",
       "       [0.00189196, 0.998108  ],\n",
       "       [0.00190182, 0.9980982 ],\n",
       "       [0.00175603, 0.9982439 ],\n",
       "       [0.00193509, 0.99806494],\n",
       "       [0.00195871, 0.9980413 ],\n",
       "       [0.00193173, 0.9980683 ],\n",
       "       [0.00194518, 0.99805486],\n",
       "       [0.00187563, 0.9981243 ],\n",
       "       [0.00192839, 0.9980716 ],\n",
       "       [0.00170207, 0.998298  ],\n",
       "       [0.0017439 , 0.99825615],\n",
       "       [0.001818  , 0.99818206],\n",
       "       [0.00197576, 0.9980242 ],\n",
       "       [0.00188868, 0.99811137],\n",
       "       [0.00172884, 0.9982711 ],\n",
       "       [0.00170798, 0.998292  ],\n",
       "       [0.00192171, 0.9980782 ],\n",
       "       [0.00193509, 0.99806494],\n",
       "       [0.00186914, 0.99813086],\n",
       "       [0.00188868, 0.99811137],\n",
       "       [0.00191506, 0.9980849 ],\n",
       "       [0.00192171, 0.9980782 ],\n",
       "       [0.00189524, 0.9981047 ],\n",
       "       [0.00191506, 0.9980849 ],\n",
       "       [0.00193509, 0.99806494],\n",
       "       [0.00196211, 0.9980379 ],\n",
       "       [0.00173485, 0.9982652 ],\n",
       "       [0.00178056, 0.99821943],\n",
       "       [0.00194855, 0.9980514 ],\n",
       "       [0.0018117 , 0.9981883 ],\n",
       "       [0.00193844, 0.9980616 ],\n",
       "       [0.00170798, 0.998292  ],\n",
       "       [0.00185622, 0.9981438 ],\n",
       "       [0.00191839, 0.99808156],\n",
       "       [0.0018023 , 0.99819773],\n",
       "       [0.00189853, 0.99810153],\n",
       "       [0.001853  , 0.998147  ],\n",
       "       [0.00183065, 0.9981693 ],\n",
       "       [0.00171391, 0.99828607],\n",
       "       [0.00195532, 0.9980446 ],\n",
       "       [0.00188868, 0.99811137],\n",
       "       [0.00190513, 0.99809486],\n",
       "       [0.00196552, 0.99803454],\n",
       "       [0.00170798, 0.998292  ],\n",
       "       [0.00177439, 0.9982256 ],\n",
       "       [0.00182748, 0.9981725 ],\n",
       "       [0.00175299, 0.998247  ],\n",
       "       [0.00193844, 0.9980616 ],\n",
       "       [0.00190513, 0.99809486],\n",
       "       [0.00175299, 0.998247  ],\n",
       "       [0.00171391, 0.99828607],\n",
       "       [0.00183383, 0.99816614],\n",
       "       [0.00186267, 0.99813735],\n",
       "       [0.001818  , 0.99818206],\n",
       "       [0.00172285, 0.9982772 ],\n",
       "       [0.00193844, 0.9980616 ],\n",
       "       [0.00194855, 0.9980514 ],\n",
       "       [0.00181485, 0.9981851 ],\n",
       "       [0.00197234, 0.9980276 ],\n",
       "       [0.00179607, 0.9982039 ],\n",
       "       [0.0018117 , 0.9981883 ],\n",
       "       [0.00173184, 0.9982681 ],\n",
       "       [0.00179607, 0.9982039 ],\n",
       "       [0.00195193, 0.99804807],\n",
       "       [0.00187563, 0.9981243 ],\n",
       "       [0.00172585, 0.9982742 ],\n",
       "       [0.00189196, 0.998108  ],\n",
       "       [0.00176825, 0.9982318 ],\n",
       "       [0.00190182, 0.9980982 ],\n",
       "       [0.00194855, 0.9980514 ],\n",
       "       [0.00177439, 0.9982256 ],\n",
       "       [0.00176825, 0.9982318 ],\n",
       "       [0.00170798, 0.998292  ],\n",
       "       [0.00184979, 0.9981502 ],\n",
       "       [0.00172884, 0.9982711 ],\n",
       "       [0.00194855, 0.9980514 ],\n",
       "       [0.00170207, 0.998298  ],\n",
       "       [0.00192171, 0.9980782 ],\n",
       "       [0.00173485, 0.9982652 ],\n",
       "       [0.00174087, 0.9982591 ],\n",
       "       [0.00196893, 0.9980311 ],\n",
       "       [0.00175908, 0.99824095],\n",
       "       [0.00194855, 0.9980514 ],\n",
       "       [0.00179607, 0.9982039 ],\n",
       "       [0.00197576, 0.9980242 ],\n",
       "       [0.00179607, 0.9982039 ],\n",
       "       [0.00188541, 0.9981146 ],\n",
       "       [0.00194518, 0.99805486],\n",
       "       [0.00188214, 0.9981179 ],\n",
       "       [0.00171689, 0.99828315],\n",
       "       [0.001853  , 0.998147  ],\n",
       "       [0.00189853, 0.99810153],\n",
       "       [0.0017439 , 0.99825615],\n",
       "       [0.00193509, 0.99806494],\n",
       "       [0.00197234, 0.9980276 ],\n",
       "       [0.00179607, 0.9982039 ],\n",
       "       [0.00174087, 0.9982591 ],\n",
       "       [0.00173786, 0.9982621 ],\n",
       "       [0.00194181, 0.99805814],\n",
       "       [0.00180543, 0.99819463],\n",
       "       [0.00178365, 0.99821633],\n",
       "       [0.00195532, 0.9980446 ],\n",
       "       [0.0017439 , 0.99825615],\n",
       "       [0.00190843, 0.9980915 ],\n",
       "       [0.00182748, 0.9981725 ],\n",
       "       [0.00177132, 0.9982287 ],\n",
       "       [0.00171689, 0.99828315],\n",
       "       [0.00190513, 0.99809486],\n",
       "       [0.00178675, 0.9982133 ],\n",
       "       [0.00193509, 0.99806494],\n",
       "       [0.00178675, 0.9982133 ],\n",
       "       [0.00192171, 0.9980782 ],\n",
       "       [0.00186267, 0.99813735],\n",
       "       [0.00193844, 0.9980616 ],\n",
       "       [0.00171095, 0.99828905],\n",
       "       [0.00187889, 0.9981211 ],\n",
       "       [0.00182748, 0.9981725 ],\n",
       "       [0.00179918, 0.9982008 ],\n",
       "       [0.00191506, 0.9980849 ],\n",
       "       [0.00176519, 0.99823475],\n",
       "       [0.00180543, 0.99819463],\n",
       "       [0.00189853, 0.99810153],\n",
       "       [0.00189524, 0.9981047 ],\n",
       "       [0.00180543, 0.99819463],\n",
       "       [0.00183383, 0.99816614],\n",
       "       [0.00183383, 0.99816614],\n",
       "       [0.00174692, 0.99825305],\n",
       "       [0.00193509, 0.99806494],\n",
       "       [0.00196211, 0.9980379 ],\n",
       "       [0.0017439 , 0.99825615],\n",
       "       [0.00172884, 0.9982711 ],\n",
       "       [0.00193509, 0.99806494],\n",
       "       [0.00190843, 0.9980915 ],\n",
       "       [0.00180543, 0.99819463],\n",
       "       [0.00170798, 0.998292  ],\n",
       "       [0.00186267, 0.99813735],\n",
       "       [0.00178985, 0.9982102 ],\n",
       "       [0.00184659, 0.9981534 ],\n",
       "       [0.00175299, 0.998247  ],\n",
       "       [0.00197234, 0.9980276 ],\n",
       "       [0.00173786, 0.9982621 ],\n",
       "       [0.00180543, 0.99819463],\n",
       "       [0.001818  , 0.99818206],\n",
       "       [0.00182432, 0.99817574],\n",
       "       [0.00175603, 0.9982439 ],\n",
       "       [0.00195532, 0.9980446 ],\n",
       "       [0.00189853, 0.99810153],\n",
       "       [0.00193509, 0.99806494],\n",
       "       [0.00172884, 0.9982711 ],\n",
       "       [0.00185622, 0.9981438 ],\n",
       "       [0.00190182, 0.9980982 ],\n",
       "       [0.00170798, 0.998292  ],\n",
       "       [0.00189524, 0.9981047 ],\n",
       "       [0.00173786, 0.9982621 ],\n",
       "       [0.00189196, 0.998108  ],\n",
       "       [0.00180543, 0.99819463],\n",
       "       [0.00190513, 0.99809486],\n",
       "       [0.00188868, 0.99811137],\n",
       "       [0.00195532, 0.9980446 ],\n",
       "       [0.00174692, 0.99825305],\n",
       "       [0.00172585, 0.9982742 ],\n",
       "       [0.00187889, 0.9981211 ],\n",
       "       [0.00191839, 0.99808156],\n",
       "       [0.00189853, 0.99810153],\n",
       "       [0.00193844, 0.9980616 ],\n",
       "       [0.00189196, 0.998108  ],\n",
       "       [0.00184979, 0.9981502 ],\n",
       "       [0.00184979, 0.9981502 ],\n",
       "       [0.00171095, 0.99828905],\n",
       "       [0.00170502, 0.998295  ],\n",
       "       [0.00195532, 0.9980446 ],\n",
       "       [0.00178056, 0.99821943],\n",
       "       [0.00178985, 0.9982102 ],\n",
       "       [0.00176519, 0.99823475],\n",
       "       [0.00197576, 0.9980242 ],\n",
       "       [0.00189853, 0.99810153],\n",
       "       [0.00195532, 0.9980446 ],\n",
       "       [0.00187889, 0.9981211 ],\n",
       "       [0.00191174, 0.9980882 ],\n",
       "       [0.00170798, 0.998292  ],\n",
       "       [0.00192171, 0.9980782 ],\n",
       "       [0.00194518, 0.99805486],\n",
       "       [0.00195193, 0.99804807],\n",
       "       [0.00193844, 0.9980616 ],\n",
       "       [0.00195871, 0.9980413 ],\n",
       "       [0.00176519, 0.99823475],\n",
       "       [0.00191174, 0.9980882 ],\n",
       "       [0.00190843, 0.9980915 ],\n",
       "       [0.00180543, 0.99819463],\n",
       "       [0.00170207, 0.998298  ],\n",
       "       [0.00190513, 0.99809486],\n",
       "       [0.0017439 , 0.99825615],\n",
       "       [0.00178985, 0.9982102 ],\n",
       "       [0.00193173, 0.9980683 ],\n",
       "       [0.00176519, 0.99823475],\n",
       "       [0.00191839, 0.99808156],\n",
       "       [0.00193509, 0.99806494],\n",
       "       [0.00178365, 0.99821633],\n",
       "       [0.00190182, 0.9980982 ],\n",
       "       [0.00183383, 0.99816614],\n",
       "       [0.00195193, 0.99804807],\n",
       "       [0.00187889, 0.9981211 ],\n",
       "       [0.00190843, 0.9980915 ],\n",
       "       [0.00191506, 0.9980849 ],\n",
       "       [0.00194518, 0.99805486],\n",
       "       [0.00170207, 0.998298  ],\n",
       "       [0.00194855, 0.9980514 ],\n",
       "       [0.00170502, 0.998295  ],\n",
       "       [0.00189524, 0.9981047 ],\n",
       "       [0.00176213, 0.99823785],\n",
       "       [0.0018023 , 0.99819773],\n",
       "       [0.00194855, 0.9980514 ],\n",
       "       [0.00181485, 0.9981851 ],\n",
       "       [0.00183065, 0.9981693 ],\n",
       "       [0.00175299, 0.998247  ],\n",
       "       [0.00188541, 0.9981146 ],\n",
       "       [0.00172285, 0.9982772 ],\n",
       "       [0.00172585, 0.9982742 ],\n",
       "       [0.00186914, 0.99813086],\n",
       "       [0.00175603, 0.9982439 ],\n",
       "       [0.00173786, 0.9982621 ],\n",
       "       [0.00191174, 0.9980882 ],\n",
       "       [0.00186914, 0.99813086],\n",
       "       [0.00194181, 0.99805814],\n",
       "       [0.00187563, 0.9981243 ],\n",
       "       [0.00178675, 0.9982133 ],\n",
       "       [0.00173485, 0.9982652 ],\n",
       "       [0.00184979, 0.9981502 ],\n",
       "       [0.00171689, 0.99828315],\n",
       "       [0.001818  , 0.99818206],\n",
       "       [0.00171391, 0.99828607],\n",
       "       [0.00188541, 0.9981146 ],\n",
       "       [0.00180543, 0.99819463],\n",
       "       [0.00179918, 0.9982008 ],\n",
       "       [0.00191839, 0.99808156],\n",
       "       [0.00193173, 0.9980683 ],\n",
       "       [0.00188541, 0.9981146 ],\n",
       "       [0.00195193, 0.99804807],\n",
       "       [0.00196211, 0.9980379 ],\n",
       "       [0.00184339, 0.9981566 ],\n",
       "       [0.00188541, 0.9981146 ],\n",
       "       [0.00171391, 0.99828607],\n",
       "       [0.00171391, 0.99828607],\n",
       "       [0.00177439, 0.9982256 ],\n",
       "       [0.00179918, 0.9982008 ],\n",
       "       [0.00177439, 0.9982256 ],\n",
       "       [0.00186914, 0.99813086],\n",
       "       [0.00195193, 0.99804807],\n",
       "       [0.00190843, 0.9980915 ],\n",
       "       [0.00191506, 0.9980849 ],\n",
       "       [0.001853  , 0.998147  ],\n",
       "       [0.00175908, 0.99824095],\n",
       "       [0.00173786, 0.9982621 ],\n",
       "       [0.00171689, 0.99828315],\n",
       "       [0.00194518, 0.99805486],\n",
       "       [0.0018117 , 0.9981883 ]], dtype=float32)"
      ]
     },
     "execution_count": 17,
     "metadata": {},
     "output_type": "execute_result"
    }
   ],
   "source": [
    "predictions = model.predict(test_samples_scaled,batch_size=10,verbose=0)\n",
    "predictions"
   ]
  },
  {
   "cell_type": "code",
   "execution_count": 18,
   "metadata": {
    "collapsed": false,
    "pycharm": {
     "name": "#%%\n"
    }
   },
   "outputs": [
    {
     "data": {
      "text/plain": [
       "array([1, 1, 1, 1, 1, 1, 1, 1, 1, 1, 1, 1, 1, 1, 1, 1, 1, 1, 1, 1, 1, 1,\n",
       "       1, 1, 1, 1, 1, 1, 1, 1, 1, 1, 1, 1, 1, 1, 1, 1, 1, 1, 1, 1, 1, 1,\n",
       "       1, 1, 1, 1, 1, 1, 1, 1, 1, 1, 1, 1, 1, 1, 1, 1, 1, 1, 1, 1, 1, 1,\n",
       "       1, 1, 1, 1, 1, 1, 1, 1, 1, 1, 1, 1, 1, 1, 1, 1, 1, 1, 1, 1, 1, 1,\n",
       "       1, 1, 1, 1, 1, 1, 1, 1, 1, 1, 1, 1, 1, 1, 1, 1, 1, 1, 1, 1, 1, 1,\n",
       "       1, 1, 1, 1, 1, 1, 1, 1, 1, 1, 1, 1, 1, 1, 1, 1, 1, 1, 1, 1, 1, 1,\n",
       "       1, 1, 1, 1, 1, 1, 1, 1, 1, 1, 1, 1, 1, 1, 1, 1, 1, 1, 1, 1, 1, 1,\n",
       "       1, 1, 1, 1, 1, 1, 1, 1, 1, 1, 1, 1, 1, 1, 1, 1, 1, 1, 1, 1, 1, 1,\n",
       "       1, 1, 1, 1, 1, 1, 1, 1, 1, 1, 1, 1, 1, 1, 1, 1, 1, 1, 1, 1, 1, 1,\n",
       "       1, 1, 1, 1, 1, 1, 1, 1, 1, 1, 1, 1, 1, 1, 1, 1, 1, 1, 1, 1, 1, 1,\n",
       "       1, 1, 1, 1, 1, 1, 1, 1, 1, 1, 1, 1, 1, 1, 1, 1, 1, 1, 1, 1, 1, 1,\n",
       "       1, 1, 1, 1, 1, 1, 1, 1, 1, 1, 1, 1, 1, 1, 1, 1, 1, 1, 1, 1, 1, 1,\n",
       "       1, 1, 1, 1, 1, 1, 1, 1, 1, 1, 1, 1, 1, 1, 1, 1, 1, 1, 1, 1, 1, 1,\n",
       "       1, 1, 1, 1, 1, 1, 1, 1, 1, 1, 1, 1, 1, 1, 1, 1, 1, 1, 1, 1, 1, 1,\n",
       "       1, 1, 1, 1, 1, 1, 1, 1, 1, 1, 1, 1, 1, 1, 1, 1, 1, 1, 1, 1, 1, 1,\n",
       "       1, 1, 1, 1, 1, 1, 1, 1, 1, 1, 1, 1, 1, 1, 1, 1, 1, 1, 1, 1, 1, 1,\n",
       "       1, 1, 1, 1, 1, 1, 1, 1, 1, 1, 1, 1, 1, 1, 1, 1, 1, 1, 1, 1, 1, 1,\n",
       "       1, 1, 1, 1, 1, 1, 1, 1, 1, 1, 1, 1, 1, 1, 1, 1, 1, 1, 1, 1, 1, 1,\n",
       "       1, 1, 1, 1, 1, 1, 1, 1, 1, 1, 1, 1, 1, 1, 1, 1, 1, 1, 1, 1, 1, 1,\n",
       "       1, 1], dtype=int64)"
      ]
     },
     "execution_count": 18,
     "metadata": {},
     "output_type": "execute_result"
    }
   ],
   "source": [
    "predict_labels = np.argmax(predictions,axis=1)\n",
    "predict_labels"
   ]
  },
  {
   "cell_type": "code",
   "execution_count": 19,
   "metadata": {
    "collapsed": false,
    "pycharm": {
     "name": "#%%\n"
    }
   },
   "outputs": [
    {
     "name": "stdout",
     "output_type": "stream",
     "text": [
      "210\n",
      "True  0.5\n"
     ]
    }
   ],
   "source": [
    "true_labels = np.where(test_labels==predict_labels)\n",
    "print(len(true_labels[0]))\n",
    "print(\"True \",(len(true_labels[0])/len(test_samples)))"
   ]
  },
  {
   "cell_type": "code",
   "execution_count": 20,
   "metadata": {
    "collapsed": false,
    "pycharm": {
     "name": "#%%\n"
    }
   },
   "outputs": [],
   "source": [
    "## Confusion matrix"
   ]
  },
  {
   "cell_type": "code",
   "execution_count": 21,
   "metadata": {
    "collapsed": false,
    "pycharm": {
     "name": "#%%\n"
    }
   },
   "outputs": [],
   "source": [
    "from matplotlib import pyplot as plt\n",
    "from sklearn.metrics import confusion_matrix\n",
    "import itertools"
   ]
  },
  {
   "cell_type": "code",
   "execution_count": 22,
   "metadata": {
    "collapsed": false,
    "pycharm": {
     "name": "#%%\n"
    }
   },
   "outputs": [],
   "source": [
    "cm = confusion_matrix(test_labels,predict_labels)"
   ]
  },
  {
   "cell_type": "code",
   "execution_count": 23,
   "metadata": {
    "collapsed": false,
    "pycharm": {
     "name": "#%%\n"
    }
   },
   "outputs": [],
   "source": [
    "def plot_confusion_matrix(cm,classes,normalize=False,title=\"Confusion matrix\",cmap=plt.cm.Blues):\n",
    "\n",
    "    plt.imshow(cm,interpolation=\"nearest\",cmap=cmap)\n",
    "    plt.title(title)\n",
    "    plt.colorbar()\n",
    "    tick_marks = np.arange(len(classes))\n",
    "    plt.xticks(tick_marks,classes,rotation=45)\n",
    "    plt.yticks(tick_marks,classes)\n",
    "\n",
    "    if normalize:\n",
    "        cm = cm.astype(\"float\") / cm.sum(axis=1)[:,np.newaxis]\n",
    "\n",
    "    print(cm)\n",
    "\n",
    "    thresh = cm.max() / 2.\n",
    "    for i,j in itertools.product(range(cm.shape[0]),range(cm.shape[1])):\n",
    "        plt.text(j,i,cm[i,j],horizontalalignment=\"center\",color=\"white\" if cm[i,j]>thresh else \"black\")\n",
    "\n",
    "    plt.tight_layout()\n",
    "    plt.ylabel(\"True Label\")\n",
    "    plt.xlabel(\"Predicted Label\")"
   ]
  },
  {
   "cell_type": "code",
   "execution_count": 24,
   "metadata": {
    "collapsed": false,
    "pycharm": {
     "name": "#%%\n"
    }
   },
   "outputs": [
    {
     "name": "stdout",
     "output_type": "stream",
     "text": [
      "[[  0 210]\n",
      " [  0 210]]\n"
     ]
    },
    {
     "data": {
      "image/png": "[encoded data removed]",
      "text/plain": [
       "<Figure size 640x480 with 2 Axes>"
      ]
     },
     "metadata": {},
     "output_type": "display_data"
    }
   ],
   "source": [
    "cm_plot_labels = [\"no_side_effects\",\"had_side_effects\"]\n",
    "plot_confusion_matrix(cm,cm_plot_labels)"
   ]
  },
  {
   "cell_type": "code",
   "execution_count": 25,
   "metadata": {
    "collapsed": false,
    "pycharm": {
     "name": "#%%\n"
    }
   },
   "outputs": [],
   "source": [
    "## Save and Load Model"
   ]
  },
  {
   "cell_type": "code",
   "execution_count": 27,
   "metadata": {
    "collapsed": false,
    "pycharm": {
     "name": "#%%\n"
    }
   },
   "outputs": [
    {
     "name": "stdout",
     "output_type": "stream",
     "text": [
      "INFO:tensorflow:Assets written to: ram://116e72f3-25d6-40a4-a361-2da7bad074d5/assets\n"
     ]
    }
   ],
   "source": [
    "import os,pickle\n",
    "\n",
    "if os.path.isfile(\"model/modelh5\") is False:\n",
    "    model.save(\"model/model.h5\")"
   ]
  },
  {
   "cell_type": "code",
   "execution_count": 28,
   "metadata": {
    "collapsed": false,
    "pycharm": {
     "name": "#%%\n"
    }
   },
   "outputs": [],
   "source": [
    "del model"
   ]
  },
  {
   "cell_type": "code",
   "execution_count": 29,
   "metadata": {
    "collapsed": false,
    "pycharm": {
     "name": "#%%\n"
    }
   },
   "outputs": [],
   "source": [
    "model = keras.models.load_model(\"model/model.h5\")"
   ]
  },
  {
   "cell_type": "code",
   "execution_count": 30,
   "metadata": {
    "collapsed": false,
    "pycharm": {
     "name": "#%%\n"
    }
   },
   "outputs": [
    {
     "name": "stdout",
     "output_type": "stream",
     "text": [
      "Model: \"sequential\"\n",
      "_________________________________________________________________\n",
      " Layer (type)                Output Shape              Param #   \n",
      "=================================================================\n",
      " dense (Dense)               (None, 16)                32        \n",
      "                                                                 \n",
      " batch_normalization (BatchN  (None, 16)               64        \n",
      " ormalization)                                                   \n",
      "                                                                 \n",
      " dense_1 (Dense)             (None, 32)                544       \n",
      "                                                                 \n",
      " batch_normalization_1 (Batc  (None, 32)               128       \n",
      " hNormalization)                                                 \n",
      "                                                                 \n",
      " dense_2 (Dense)             (None, 16)                528       \n",
      "                                                                 \n",
      " batch_normalization_2 (Batc  (None, 16)               64        \n",
      " hNormalization)                                                 \n",
      "                                                                 \n",
      " dense_3 (Dense)             (None, 2)                 34        \n",
      "                                                                 \n",
      "=================================================================\n",
      "Total params: 1,394\n",
      "Trainable params: 1,266\n",
      "Non-trainable params: 128\n",
      "_________________________________________________________________\n"
     ]
    }
   ],
   "source": [
    "model.summary()"
   ]
  },
  {
   "cell_type": "code",
   "execution_count": 31,
   "metadata": {
    "collapsed": false,
    "pycharm": {
     "name": "#%%\n"
    }
   },
   "outputs": [
    {
     "data": {
      "text/plain": [
       "[array([[-0.0277071 ,  0.45936134, -0.02212983, -0.51705825, -0.43856055,\n",
       "         -0.5680398 , -0.41166884, -0.09339571,  0.16192949,  0.01833492,\n",
       "          0.54991   ,  0.4322093 , -0.10356209, -0.0551421 ,  0.5637933 ,\n",
       "         -0.58667094]], dtype=float32),\n",
       " array([ 0.0000000e+00,  2.5714880e-06,  0.0000000e+00,  0.0000000e+00,\n",
       "         0.0000000e+00,  0.0000000e+00,  0.0000000e+00,  0.0000000e+00,\n",
       "        -6.2812042e-06, -2.8477622e-05, -8.3848835e-07, -1.3535195e-06,\n",
       "         0.0000000e+00,  0.0000000e+00,  1.4989823e-06,  0.0000000e+00],\n",
       "       dtype=float32),\n",
       " array([1.        , 0.9914893 , 1.        , 1.        , 1.        ,\n",
       "        1.        , 1.        , 1.        , 1.0036691 , 0.99280757,\n",
       "        1.007317  , 1.0059743 , 1.        , 1.        , 1.008593  ,\n",
       "        1.        ], dtype=float32),\n",
       " array([-0.00393036, -0.00696017,  0.0068939 , -0.00358353, -0.00344734,\n",
       "        -0.00824667, -0.00521082,  0.00834122, -0.00768545, -0.00379014,\n",
       "         0.00752641,  0.00545745, -0.00506527, -0.00173466, -0.00035323,\n",
       "        -0.00807808], dtype=float32),\n",
       " array([ 0.       , 27.765333 ,  0.       ,  0.       ,  0.       ,\n",
       "         0.       ,  0.       ,  0.       ,  9.772787 ,  1.1714046,\n",
       "        33.133846 , 26.044327 ,  0.       ,  0.       , 33.958824 ,\n",
       "         0.       ], dtype=float32),\n",
       " array([3.2222227e-04, 1.3407901e+02, 3.2222227e-04, 3.2222227e-04,\n",
       "        3.2222227e-04, 3.2222227e-04, 3.2222227e-04, 3.2222227e-04,\n",
       "        1.6611172e+01, 2.3971878e-01, 1.9094081e+02, 1.1797267e+02,\n",
       "        3.2222227e-04, 3.2222227e-04, 2.0056747e+02, 3.2222227e-04],\n",
       "       dtype=float32),\n",
       " array([[ 0.32893622,  0.14240913,  0.2677578 , -0.2973269 ,  0.19202334,\n",
       "          0.02312818, -0.04041648,  0.04013929, -0.15009367, -0.2071431 ,\n",
       "         -0.09977753,  0.26565394, -0.21333931,  0.17646357, -0.07902017,\n",
       "          0.15293732, -0.08092678, -0.275617  ,  0.13911426,  0.3393638 ,\n",
       "         -0.28705814,  0.31033352, -0.00859304,  0.05754993, -0.03038089,\n",
       "          0.3061483 , -0.23902558, -0.01327147, -0.10159442, -0.13583604,\n",
       "          0.17624098, -0.32518223],\n",
       "        [ 0.30996192,  0.3190011 , -0.04800231, -0.22900574,  0.2408065 ,\n",
       "         -0.23133573, -0.33385128,  0.05030469, -0.09959772, -0.23220338,\n",
       "          0.3336991 ,  0.06927245,  0.23526284, -0.26202732, -0.181529  ,\n",
       "         -0.27672377, -0.26272506,  0.042052  ,  0.08488602,  0.27238318,\n",
       "         -0.04634827,  0.17274158, -0.09492791,  0.03506912, -0.06619395,\n",
       "         -0.09310912,  0.07242914,  0.05340403,  0.26284504,  0.20049652,\n",
       "          0.3053704 ,  0.0203907 ],\n",
       "        [-0.1806678 ,  0.18135366,  0.22212414,  0.19069016, -0.2798479 ,\n",
       "          0.10869803, -0.13556702, -0.34373218, -0.05173273,  0.23158747,\n",
       "          0.19129942, -0.18658453, -0.03862785, -0.11688887,  0.28806043,\n",
       "          0.16480885,  0.19805399,  0.09589314, -0.18693602, -0.12520911,\n",
       "          0.236799  , -0.01876784, -0.07549868, -0.07395844,  0.13845935,\n",
       "          0.3081354 ,  0.18198317, -0.1269673 ,  0.04056967,  0.19714484,\n",
       "          0.29849228,  0.23063378],\n",
       "        [ 0.053113  , -0.00520011,  0.3106259 , -0.00136592,  0.213695  ,\n",
       "         -0.15682109,  0.1788659 , -0.00674701,  0.15095252, -0.178491  ,\n",
       "         -0.0506344 , -0.24099022,  0.09956756, -0.02416982,  0.12277395,\n",
       "         -0.07850088, -0.21925624, -0.04476994,  0.17422925, -0.1882827 ,\n",
       "          0.32220593, -0.14655389,  0.34121385,  0.28730908,  0.23749109,\n",
       "         -0.29793805,  0.27413997, -0.0945245 ,  0.32520446,  0.2124822 ,\n",
       "         -0.05518145, -0.26727983],\n",
       "        [ 0.16229509, -0.12511685, -0.23691304, -0.21707669, -0.28738353,\n",
       "          0.24017583,  0.10521393,  0.17805293, -0.15210864, -0.1881941 ,\n",
       "         -0.02504398, -0.08859231,  0.01325313,  0.285089  ,  0.2424858 ,\n",
       "         -0.21806265, -0.11924323, -0.28548136, -0.18889925, -0.09796193,\n",
       "         -0.16520783, -0.26274067,  0.26705164,  0.10734648,  0.33703455,\n",
       "         -0.2924691 , -0.05862784,  0.16198952,  0.24292147, -0.23511504,\n",
       "         -0.06131788, -0.09949591],\n",
       "        [ 0.3316468 , -0.3199209 , -0.19115202, -0.19199967,  0.35425678,\n",
       "         -0.2681024 ,  0.21156739,  0.21892974,  0.15114786,  0.2126747 ,\n",
       "          0.2824482 , -0.09163608, -0.2516756 ,  0.10387066, -0.15199625,\n",
       "         -0.06357161,  0.09460707, -0.30532712, -0.1555924 ,  0.05774241,\n",
       "         -0.13454574,  0.04583759, -0.15274116,  0.03645537, -0.28858563,\n",
       "         -0.17197521, -0.27694395,  0.2641321 , -0.17780907, -0.23104192,\n",
       "         -0.23110081, -0.33362958],\n",
       "        [-0.22001128,  0.13777876, -0.29030463, -0.25994366, -0.15745969,\n",
       "          0.2143669 , -0.23740275, -0.05409156,  0.28019986,  0.1472616 ,\n",
       "         -0.29416472,  0.21100105, -0.05988595, -0.07536419,  0.15005642,\n",
       "         -0.06428427, -0.20939648, -0.1943259 , -0.27310723, -0.34758124,\n",
       "         -0.05040836,  0.09085502, -0.1461515 , -0.11191089,  0.3449345 ,\n",
       "          0.02968595, -0.24386969, -0.20378162, -0.06840182,  0.05173919,\n",
       "          0.09531461, -0.11944855],\n",
       "        [ 0.03495103, -0.26051146,  0.01459041, -0.01154877, -0.06885709,\n",
       "          0.21204865, -0.07843524,  0.175367  ,  0.12143158,  0.06317433,\n",
       "          0.27134436,  0.13486475, -0.26240233, -0.12922657, -0.3585479 ,\n",
       "          0.22644511, -0.30923912, -0.3429929 , -0.12463815, -0.21488272,\n",
       "          0.20381871,  0.05057279,  0.08625348,  0.23070942,  0.3036292 ,\n",
       "          0.09513474,  0.22318232, -0.01975677, -0.04177104, -0.3445802 ,\n",
       "         -0.27086863, -0.11602006],\n",
       "        [ 0.29305658,  0.11486974, -0.2928796 ,  0.30993894,  0.19375433,\n",
       "         -0.15583043,  0.12523174,  0.14195314,  0.00799449,  0.31073204,\n",
       "         -0.24727635,  0.12667277,  0.31298605,  0.28031567, -0.230331  ,\n",
       "         -0.10717038,  0.25630602,  0.1053825 , -0.32037032, -0.25298902,\n",
       "          0.08493749,  0.35536546, -0.28124848, -0.28921387, -0.21910648,\n",
       "         -0.0486655 , -0.0636555 ,  0.1817257 ,  0.16387561,  0.10997766,\n",
       "          0.26473403, -0.23987184],\n",
       "        [ 0.23810491,  0.28176633, -0.2718947 ,  0.07976364,  0.0572865 ,\n",
       "         -0.22878768, -0.17378496,  0.29567754, -0.02105947, -0.00072242,\n",
       "         -0.30379468, -0.23488303,  0.32263455, -0.32519975,  0.13027193,\n",
       "          0.16274075, -0.22441587,  0.11030275,  0.10358845,  0.09472796,\n",
       "         -0.3323498 , -0.03683313, -0.247953  , -0.15040293, -0.19575916,\n",
       "         -0.07965644, -0.29814184, -0.29410577,  0.20159537, -0.32458964,\n",
       "          0.20565487,  0.23457094],\n",
       "        [-0.33671823, -0.21348332, -0.3489008 ,  0.32011694,  0.283924  ,\n",
       "         -0.19554523,  0.01139062, -0.33591154, -0.20008546, -0.11513405,\n",
       "          0.294394  , -0.13734297, -0.14894551,  0.13813153,  0.21646568,\n",
       "          0.08218738,  0.02335989,  0.24725844,  0.2371731 , -0.00717841,\n",
       "          0.14879847, -0.03450422,  0.02402999, -0.03628753, -0.12402521,\n",
       "          0.16657159, -0.28520238, -0.29141772,  0.31646484, -0.27139202,\n",
       "          0.03584663, -0.04289851],\n",
       "        [-0.14312698, -0.35657382,  0.10980251, -0.01728651, -0.18952788,\n",
       "          0.14203376, -0.24098222, -0.1058523 , -0.0404525 ,  0.17123713,\n",
       "         -0.3439805 , -0.03681407, -0.3482163 ,  0.12718987, -0.34239957,\n",
       "         -0.30163455, -0.14208691,  0.18326588,  0.10882125,  0.03157479,\n",
       "          0.14544183, -0.0665871 ,  0.14069752, -0.18634868, -0.24304214,\n",
       "          0.27019495,  0.20499328,  0.26914924, -0.02461482, -0.06895876,\n",
       "          0.02827008, -0.30485955],\n",
       "        [ 0.35753575, -0.23364092,  0.02059527, -0.01546928, -0.17784125,\n",
       "         -0.05627019,  0.3362137 ,  0.31780222, -0.1569464 , -0.25702655,\n",
       "         -0.19415268,  0.36046514,  0.00810211,  0.28315496, -0.15648791,\n",
       "         -0.1570018 , -0.06008797,  0.15693957,  0.28962708, -0.07808454,\n",
       "         -0.08698687, -0.06278773, -0.15108472,  0.06704111,  0.1079958 ,\n",
       "          0.0807785 , -0.28766945,  0.17425457,  0.05551966, -0.25581935,\n",
       "         -0.2684999 ,  0.2872944 ],\n",
       "        [ 0.29841766,  0.24468358, -0.16490643, -0.08084467, -0.22580756,\n",
       "         -0.27258298,  0.1642432 , -0.07313112, -0.3135924 ,  0.24531724,\n",
       "         -0.04093109, -0.16243349, -0.31115073,  0.06240591,  0.21194774,\n",
       "         -0.23025507,  0.23653564, -0.2862659 , -0.08576816,  0.0836316 ,\n",
       "          0.1084118 ,  0.30171177,  0.23995137, -0.1373664 , -0.08301461,\n",
       "          0.13108675,  0.06277147, -0.22261482,  0.28224576,  0.05710503,\n",
       "          0.19980986,  0.01541417],\n",
       "        [-0.2004128 ,  0.17993784,  0.14269625,  0.22393861,  0.21779494,\n",
       "          0.20276387, -0.07059351, -0.3125848 ,  0.25743976,  0.26013112,\n",
       "         -0.09906147, -0.29303834,  0.1631907 , -0.05538313,  0.00882063,\n",
       "          0.28718472,  0.2351443 ,  0.21256524, -0.31621775,  0.33174476,\n",
       "          0.07014049,  0.01070815, -0.1755828 , -0.25081939,  0.29234987,\n",
       "         -0.34232706,  0.146367  , -0.04575331,  0.1804601 ,  0.18742347,\n",
       "          0.04797267,  0.06943149],\n",
       "        [ 0.12301494,  0.334134  ,  0.12366966, -0.27409667, -0.3101616 ,\n",
       "         -0.20077951, -0.3565723 ,  0.3328829 ,  0.27766943, -0.33433792,\n",
       "          0.12110273,  0.08912282,  0.23989673, -0.2747966 ,  0.24588755,\n",
       "         -0.12892258,  0.0088032 , -0.22841625, -0.01386281, -0.06892086,\n",
       "         -0.31492373, -0.07388391, -0.04123218,  0.05362048,  0.32868782,\n",
       "          0.16061836,  0.11013345, -0.16357885, -0.32911408,  0.29305026,\n",
       "         -0.2652084 ,  0.31718013]], dtype=float32),\n",
       " array([-0.00747733,  0.00463444,  0.00477959,  0.00326703, -0.00392969,\n",
       "         0.00739072,  0.00604477, -0.00760031, -0.00492709,  0.00421064,\n",
       "         0.00698337, -0.00701074, -0.00487997,  0.00472833, -0.00229128,\n",
       "         0.00828755, -0.00856895, -0.00152244,  0.00683053, -0.00157221,\n",
       "         0.00221636,  0.00470659,  0.00450707, -0.00831697, -0.00735198,\n",
       "         0.00040005,  0.00299242, -0.00525923,  0.0036822 , -0.00648988,\n",
       "        -0.00362256,  0.00744612], dtype=float32),\n",
       " array([0.9933497 , 0.99400455, 1.0023413 , 0.9910403 , 0.9978912 ,\n",
       "        1.0056684 , 1.003693  , 1.0045952 , 0.9996735 , 0.99692774,\n",
       "        1.0041589 , 0.9946027 , 0.99448055, 0.9971661 , 0.99486506,\n",
       "        1.0080826 , 1.0022929 , 1.0070072 , 1.005055  , 1.0061535 ,\n",
       "        1.009672  , 1.0068865 , 1.0023067 , 0.9913588 , 0.9950276 ,\n",
       "        0.9971371 , 1.00402   , 0.998985  , 0.99429494, 0.99769056,\n",
       "        1.0011092 , 0.99603385], dtype=float32),\n",
       " array([-0.00244243,  0.00220528, -0.00139608,  0.00342726, -0.00364316,\n",
       "        -0.00307266, -0.00396862, -0.00371198,  0.00253312,  0.00385746,\n",
       "        -0.00295917,  0.00106664, -0.00201234, -0.00404105, -0.00079121,\n",
       "        -0.00051596, -0.00329031, -0.00775025,  0.00341166, -0.00519808,\n",
       "        -0.00170471,  0.00187676, -0.00289629, -0.00199028,  0.00601953,\n",
       "         0.00332474,  0.00143325,  0.00552592,  0.00397789,  0.00251319,\n",
       "        -0.00218241,  0.00466126], dtype=float32),\n",
       " array([0.06019757, 0.13877131, 0.3133959 , 0.3103206 , 0.34760278,\n",
       "        0.21189815, 0.29877472, 0.11356727, 0.03721162, 0.18000825,\n",
       "        0.16750975, 0.21935259, 0.22709106, 0.03951503, 0.17631735,\n",
       "        0.07182188, 0.0450504 , 0.39349848, 0.04869353, 0.20151003,\n",
       "        0.03762479, 0.17302503, 0.28081232, 0.38428923, 0.2417584 ,\n",
       "        0.0582884 , 0.0986094 , 0.05275833, 0.4832433 , 0.07006154,\n",
       "        0.38339853, 0.12245056], dtype=float32),\n",
       " array([0.00602647, 0.02742943, 0.18315084, 0.1326379 , 0.17007627,\n",
       "        0.08273499, 0.16697149, 0.0258377 , 0.00312675, 0.04475508,\n",
       "        0.05185049, 0.09216101, 0.07382058, 0.00316944, 0.0588981 ,\n",
       "        0.00932331, 0.0043415 , 0.21554014, 0.00448159, 0.05722518,\n",
       "        0.00206679, 0.04200695, 0.14665653, 0.27935398, 0.11128727,\n",
       "        0.00641183, 0.01799711, 0.00581508, 0.32485268, 0.01001131,\n",
       "        0.20598522, 0.02782581], dtype=float32),\n",
       " array([[ 3.34831774e-01, -3.10685098e-01,  6.74984530e-02,\n",
       "         -1.43970966e-01,  3.06838434e-02,  2.78031975e-01,\n",
       "          3.25947553e-01, -2.06974760e-01,  6.77839592e-02,\n",
       "          1.42035127e-01, -1.42873675e-01, -3.26574087e-01,\n",
       "          2.98489660e-01, -4.22929972e-02,  2.70120949e-02,\n",
       "          1.05096556e-01],\n",
       "        [ 7.08936453e-02,  2.32666537e-01,  2.58973032e-01,\n",
       "          2.21696168e-01, -6.17284290e-02,  3.64106782e-02,\n",
       "         -2.15963036e-01,  1.52188376e-01,  4.77932505e-02,\n",
       "         -1.21077746e-01, -1.04466654e-01, -6.10084739e-04,\n",
       "         -3.54079530e-04, -7.47525841e-02,  1.38791993e-01,\n",
       "         -1.74166366e-01],\n",
       "        [ 1.28855556e-01,  1.12891614e-01,  5.28996065e-02,\n",
       "         -2.30661005e-01, -1.16455853e-01, -1.33015364e-01,\n",
       "         -1.86818242e-01, -1.56470135e-01, -2.67655432e-01,\n",
       "          3.06858033e-01, -1.94093481e-01,  1.32230138e-02,\n",
       "         -3.05655271e-01, -3.18346918e-01,  1.74767897e-01,\n",
       "          3.31284732e-01],\n",
       "        [ 1.66658372e-01, -2.62912422e-01,  1.91466570e-01,\n",
       "          2.36738324e-01, -3.43825489e-01, -1.84811980e-01,\n",
       "          1.17362291e-01,  3.01917881e-01,  3.02898079e-01,\n",
       "          1.93828195e-01,  2.04808518e-01,  1.24292605e-01,\n",
       "          2.07327418e-02,  1.02744170e-01,  2.93594092e-01,\n",
       "          1.38819009e-01],\n",
       "        [-1.18138613e-02,  3.60433847e-01, -3.34102988e-01,\n",
       "          6.42808080e-02, -5.30357007e-03, -1.96464851e-01,\n",
       "         -2.10555166e-01, -1.77332208e-01,  9.90469009e-02,\n",
       "          5.85441999e-02,  1.90775618e-01,  6.43843561e-02,\n",
       "         -1.35352522e-01, -2.51727909e-01, -1.27183795e-01,\n",
       "         -1.30274937e-01],\n",
       "        [ 6.16868958e-02, -2.97149241e-01, -3.13597828e-01,\n",
       "         -2.89971709e-01, -1.98019907e-01, -6.96204007e-02,\n",
       "          1.41660959e-01, -1.68928698e-01,  3.41442674e-01,\n",
       "          2.19957083e-02,  3.58473480e-01, -3.41093987e-01,\n",
       "         -1.79139629e-01, -2.34693483e-01,  1.24197058e-01,\n",
       "         -2.12277040e-01],\n",
       "        [-5.53850010e-02, -3.30093801e-01, -7.25015178e-02,\n",
       "          1.77444234e-01,  3.32028456e-02,  2.52438933e-01,\n",
       "         -7.19927326e-02, -2.63970733e-01, -5.27432226e-02,\n",
       "         -2.88358629e-01, -2.73834467e-01,  1.27411515e-01,\n",
       "         -2.17747632e-02, -2.92126447e-01, -3.53662103e-01,\n",
       "          2.73718774e-01],\n",
       "        [ 3.33355218e-01,  8.09125453e-02, -3.36628914e-01,\n",
       "          2.66858667e-01, -5.79966307e-02, -2.70884395e-01,\n",
       "          3.03982764e-01, -1.15920216e-01, -3.30517560e-01,\n",
       "         -2.09095538e-01,  2.84291983e-01, -2.76565015e-01,\n",
       "         -1.60592139e-01,  1.90461189e-01,  3.10875446e-01,\n",
       "         -1.41904980e-01],\n",
       "        [ 2.60558844e-01,  1.63420543e-01, -1.91133022e-01,\n",
       "         -3.27216834e-01, -3.42742950e-01, -2.62580633e-01,\n",
       "         -1.11716896e-01,  2.96763629e-01,  3.70446034e-02,\n",
       "          1.09188594e-01, -6.43790886e-02,  4.72834939e-03,\n",
       "         -2.25312620e-01,  1.73227608e-01, -1.90096065e-01,\n",
       "          1.22751877e-01],\n",
       "        [-3.22936445e-01,  2.68722504e-01,  2.07891688e-01,\n",
       "         -1.44964293e-01,  1.91914037e-01,  2.00758100e-01,\n",
       "          1.66148052e-01,  2.72237986e-01,  2.50682235e-01,\n",
       "         -2.03106669e-03, -2.73721635e-01, -2.89670438e-01,\n",
       "         -1.69178639e-02, -6.40295893e-02,  1.88797101e-01,\n",
       "          2.52528757e-01],\n",
       "        [ 4.50703613e-02, -2.47830972e-01, -6.19857125e-02,\n",
       "         -2.46263593e-01, -1.93794444e-01, -2.51938790e-01,\n",
       "          2.27991283e-01, -2.66849309e-01, -5.77560663e-02,\n",
       "         -1.23174056e-01, -3.52917239e-02, -1.06579319e-01,\n",
       "          1.60534576e-01, -1.77084357e-01,  4.21815738e-03,\n",
       "          3.29745173e-01],\n",
       "        [-2.40515575e-01, -3.41956764e-02, -3.40077132e-01,\n",
       "         -1.92725927e-01, -1.80914178e-01,  2.92559505e-01,\n",
       "          3.15621525e-01,  7.36299306e-02, -3.32457460e-02,\n",
       "         -2.76637882e-01, -2.26165950e-01,  1.94062635e-01,\n",
       "         -2.33317912e-01,  9.90258455e-02, -1.95210710e-01,\n",
       "          2.04089448e-01],\n",
       "        [-8.31036717e-02, -2.91530997e-01,  1.62944540e-01,\n",
       "         -2.29250073e-01,  2.57164210e-01, -7.50378743e-02,\n",
       "         -1.48001254e-01, -2.23106042e-01, -8.97987112e-02,\n",
       "          1.02575548e-01,  1.69920534e-01,  2.17269570e-01,\n",
       "          2.15448931e-01, -3.44480008e-01,  2.41832286e-01,\n",
       "         -3.45637202e-01],\n",
       "        [-2.37436950e-01, -2.69084632e-01, -2.36005753e-01,\n",
       "          2.11827457e-01,  2.97015727e-01, -3.85632701e-02,\n",
       "         -1.98844988e-02,  3.12494859e-02,  3.46022427e-01,\n",
       "         -8.36304054e-02,  1.26267344e-01, -3.15914959e-01,\n",
       "         -4.52284561e-03,  3.20242792e-02, -3.43793124e-01,\n",
       "         -2.42820621e-01],\n",
       "        [-2.64849454e-01,  3.35458994e-01, -2.52125740e-01,\n",
       "         -3.29502881e-01,  3.15611996e-02,  1.64763480e-01,\n",
       "          5.88477068e-02, -2.18396530e-01, -2.16246337e-01,\n",
       "          1.50705412e-01,  2.69839436e-01,  2.37217396e-01,\n",
       "         -8.18482600e-03, -2.50651509e-01,  1.08776279e-01,\n",
       "          4.43947688e-03],\n",
       "        [ 2.76824147e-01, -1.07853130e-01,  1.76335081e-01,\n",
       "         -1.93216577e-01, -3.10155153e-01,  3.04982215e-01,\n",
       "         -1.91969961e-01,  1.05897479e-01,  2.04978779e-01,\n",
       "         -2.90498525e-01,  4.93580801e-03,  1.78373441e-01,\n",
       "          3.27312768e-01,  3.76815833e-02, -6.37331158e-02,\n",
       "         -2.30401650e-01],\n",
       "        [ 7.20029622e-02,  2.07996681e-01, -3.32795382e-01,\n",
       "         -2.94706345e-01, -2.94137657e-01, -2.08674148e-01,\n",
       "         -2.91758984e-01, -1.76159859e-01, -2.07031503e-01,\n",
       "          1.47401929e-01, -5.02207838e-02,  2.35245362e-01,\n",
       "          3.02372485e-01, -7.90595785e-02, -1.21820822e-01,\n",
       "          2.34781623e-01],\n",
       "        [ 3.04044008e-01, -9.19655636e-02, -2.50372618e-01,\n",
       "          2.37393498e-01, -2.36026555e-01,  1.78571329e-01,\n",
       "         -3.19189757e-01,  4.61870991e-02, -1.82945058e-01,\n",
       "         -3.57678056e-01, -2.36258939e-01,  1.24741621e-01,\n",
       "         -2.16298282e-01,  3.42398994e-02, -1.79568589e-01,\n",
       "         -1.71721011e-01],\n",
       "        [ 3.54984343e-01, -1.66759327e-01,  2.28802547e-01,\n",
       "          2.82603621e-01, -1.24817446e-01, -1.12891331e-01,\n",
       "          7.08521605e-02,  2.50329286e-01,  2.43242130e-01,\n",
       "          2.90358633e-01,  1.64511368e-01, -3.59874457e-01,\n",
       "         -1.57504231e-01, -2.13948846e-01, -1.78718671e-01,\n",
       "         -2.31247544e-02],\n",
       "        [-1.47270381e-01, -2.43496537e-01, -3.12487036e-01,\n",
       "          3.55093181e-01, -1.99698254e-01,  5.31246550e-02,\n",
       "          2.21168157e-02, -3.53186764e-02,  8.84146467e-02,\n",
       "          2.26678401e-01, -1.58055499e-01,  3.15291345e-01,\n",
       "          2.21604463e-02,  1.16052039e-01, -2.04502523e-01,\n",
       "          9.51712281e-02],\n",
       "        [-2.64663249e-01,  2.99025953e-01, -1.56612173e-02,\n",
       "         -1.74053133e-01, -3.11686277e-01, -7.99749140e-03,\n",
       "         -1.15644455e-01, -1.65134802e-01, -3.56815279e-01,\n",
       "         -2.74736822e-01,  3.44266474e-01, -2.35925525e-01,\n",
       "          2.75797457e-01,  2.82779545e-01,  1.79421306e-01,\n",
       "          3.12947094e-01],\n",
       "        [ 2.55765706e-01,  1.77929997e-01, -1.27026200e-01,\n",
       "         -1.08890563e-01, -2.15463296e-01,  2.53455222e-01,\n",
       "         -3.41235161e-01,  2.14367718e-01, -1.97532281e-01,\n",
       "         -2.02948511e-01,  9.91114676e-02,  1.39320984e-01,\n",
       "         -2.20673755e-01, -7.89030734e-03,  5.41473143e-02,\n",
       "         -1.18125744e-01],\n",
       "        [ 2.82245944e-03,  1.46668866e-01,  1.58237681e-01,\n",
       "          1.87560290e-01,  1.04856141e-01,  1.79510310e-01,\n",
       "          3.38193029e-01, -2.54628032e-01, -2.24453434e-01,\n",
       "         -1.67745307e-01,  1.24908075e-01, -1.61212683e-01,\n",
       "          1.55021446e-02,  7.92501867e-03, -3.32594126e-01,\n",
       "         -2.27745220e-01],\n",
       "        [-2.78870791e-01,  2.94396847e-01, -3.35899025e-01,\n",
       "          6.66434988e-02, -7.59566948e-02, -3.15086246e-01,\n",
       "         -1.27659619e-01, -8.55184421e-02, -3.37122649e-01,\n",
       "          1.35453627e-01, -7.26717785e-02,  2.80677646e-01,\n",
       "          2.43847743e-01, -1.89918876e-01, -1.31861925e-01,\n",
       "          3.21185738e-01],\n",
       "        [ 1.02274455e-01, -1.10747918e-01,  2.11744130e-01,\n",
       "          2.05462560e-01, -1.30654112e-01, -1.33232949e-02,\n",
       "          5.79996146e-02,  4.16958705e-02, -2.88814634e-01,\n",
       "          1.41272485e-01,  3.60516608e-01, -2.89253563e-01,\n",
       "         -2.13361248e-01,  1.95014954e-01, -2.13565931e-01,\n",
       "         -7.69019127e-02],\n",
       "        [-1.31610781e-01, -3.27767372e-01,  1.05027873e-02,\n",
       "          7.04666674e-02,  7.49640018e-02,  2.06842616e-01,\n",
       "          1.86641328e-02,  2.40611285e-01,  1.33786753e-01,\n",
       "         -1.50342494e-01,  1.01438932e-01, -1.47700369e-01,\n",
       "         -1.95368662e-01, -3.12646478e-01, -1.52296439e-01,\n",
       "          3.61973196e-01],\n",
       "        [ 1.31382391e-01, -2.56072551e-01, -3.23157102e-01,\n",
       "         -2.48792037e-01,  9.28233340e-02,  9.58425179e-02,\n",
       "         -2.99031764e-01,  1.88404098e-01,  1.88129276e-01,\n",
       "         -1.82864726e-01,  1.19868226e-01, -3.41107160e-01,\n",
       "          6.10985421e-02, -2.80478090e-01, -3.17792594e-01,\n",
       "          1.80566967e-01],\n",
       "        [ 2.55528122e-01,  6.16724975e-02,  3.49827886e-01,\n",
       "         -1.49726674e-01, -5.28291538e-02,  2.99468338e-01,\n",
       "          2.75461704e-01,  8.94338563e-02, -1.96903661e-01,\n",
       "          2.84845710e-01,  1.81307420e-01,  1.10449374e-01,\n",
       "         -5.56463636e-02,  9.69432667e-02,  7.30091333e-02,\n",
       "          3.09569873e-02],\n",
       "        [ 2.38755360e-01, -3.27708185e-01, -3.99849936e-02,\n",
       "         -5.14418073e-02,  2.27155894e-01, -1.98285222e-01,\n",
       "          2.81354159e-01,  1.83145627e-01, -9.91455689e-02,\n",
       "          1.35119990e-01,  2.79011697e-01, -1.75230965e-01,\n",
       "          2.30283082e-01, -8.96653235e-02, -2.32541651e-01,\n",
       "         -5.47384396e-02],\n",
       "        [ 1.20071642e-01, -1.18015394e-01, -2.80442238e-02,\n",
       "          6.80388734e-02,  7.52374679e-02, -3.37926060e-01,\n",
       "          1.76281154e-01,  2.90884465e-01, -2.29951829e-01,\n",
       "         -2.56340295e-01, -1.07427828e-01,  2.08969899e-02,\n",
       "          1.65465511e-02,  1.10161029e-01, -2.14037418e-01,\n",
       "          3.43220562e-01],\n",
       "        [-1.02432512e-01, -1.53107330e-01,  1.21162511e-01,\n",
       "         -2.81559497e-01,  3.38417858e-01, -8.35249498e-02,\n",
       "          2.83710212e-01, -3.36296201e-01, -2.22378105e-01,\n",
       "          2.71789253e-01, -2.62760282e-01, -1.35981143e-01,\n",
       "         -1.04105547e-01,  2.57182091e-01, -1.64476767e-01,\n",
       "          2.22678393e-01],\n",
       "        [-1.89744249e-01, -2.23234579e-01,  5.57038300e-02,\n",
       "         -1.21971227e-01,  1.42542552e-02, -1.74999222e-01,\n",
       "          8.46691877e-02,  8.74890015e-02,  1.74223721e-01,\n",
       "          1.64170995e-01,  1.18402928e-01, -3.25055957e-01,\n",
       "         -1.93752706e-01, -2.09451959e-01, -1.92005143e-01,\n",
       "          1.31983951e-01]], dtype=float32),\n",
       " array([-0.0064191 ,  0.00625051,  0.00670359, -0.00692459,  0.00531138,\n",
       "         0.00512896,  0.00766986,  0.00318342, -0.00212882,  0.00763444,\n",
       "         0.00680973, -0.00780586,  0.00472802, -0.00379437,  0.00639898,\n",
       "         0.00686264], dtype=float32),\n",
       " array([0.99503934, 0.99778354, 0.9936706 , 1.0067432 , 1.006569  ,\n",
       "        1.0065866 , 1.0054206 , 1.0068412 , 0.9959942 , 1.0066806 ,\n",
       "        1.0045303 , 1.0070835 , 0.99362355, 1.0077976 , 0.9934261 ,\n",
       "        1.0044385 ], dtype=float32),\n",
       " array([ 0.00700757, -0.00699514,  0.00701073, -0.00712916, -0.00721768,\n",
       "        -0.00715258,  0.00709149, -0.0070693 ,  0.00700538, -0.00710712,\n",
       "         0.00707002, -0.00715991,  0.00691272, -0.00708187,  0.00700253,\n",
       "         0.00707808], dtype=float32),\n",
       " array([0.23030229, 0.34773728, 0.6533026 , 0.45225918, 0.46678683,\n",
       "        0.21509147, 0.40236294, 0.07989321, 0.29706052, 0.20380934,\n",
       "        0.46450746, 0.47311082, 0.43557036, 0.6522345 , 0.94600797,\n",
       "        0.68139786], dtype=float32),\n",
       " array([0.11311346, 0.13761029, 0.26248387, 0.13311082, 0.14374374,\n",
       "        0.06161275, 0.4137816 , 0.00645543, 0.06714753, 0.06157284,\n",
       "        0.61235553, 0.14754096, 0.18064575, 0.2849188 , 0.632695  ,\n",
       "        1.3344622 ], dtype=float32),\n",
       " array([[-0.5613954 , -0.11443972],\n",
       "        [-0.16224234, -0.34784624],\n",
       "        [-0.11634996,  0.50850904],\n",
       "        [ 0.16086385, -0.0470616 ],\n",
       "        [-0.32367304, -0.4261036 ],\n",
       "        [ 0.28585333,  0.12212279],\n",
       "        [-0.5287144 , -0.24713826],\n",
       "        [ 0.28256434, -0.3362916 ],\n",
       "        [-0.07167452,  0.29205808],\n",
       "        [-0.1094954 , -0.38233334],\n",
       "        [ 0.01682258,  0.41857588],\n",
       "        [ 0.28830728,  0.12504175],\n",
       "        [-0.38220903, -0.24510506],\n",
       "        [ 0.38822678, -0.11684533],\n",
       "        [-0.29876292,  0.20115024],\n",
       "        [ 0.21443063,  0.5288991 ]], dtype=float32),\n",
       " array([-0.00703856,  0.00703856], dtype=float32)]"
      ]
     },
     "execution_count": 31,
     "metadata": {},
     "output_type": "execute_result"
    }
   ],
   "source": [
    "model.get_weights()"
   ]
  }
 ],
 "metadata": {
  "kernelspec": {
   "display_name": "Python 3.9.13 ('machineLearning')",
   "language": "python",
   "name": "python3"
  },
  "language_info": {
   "codemirror_mode": {
    "name": "ipython",
    "version": 3
   },
   "file_extension": ".py",
   "mimetype": "text/x-python",
   "name": "python",
   "nbconvert_exporter": "python",
   "pygments_lexer": "ipython3",
   "version": "3.9.13"
  },
  "vscode": {
   "interpreter": {
    "hash": "ba0bac22d9eb68f7f5a06ef2e353ac664856aa0e4acc18841217d9d0b0f1928e"
   }
  }
 },
 "nbformat": 4,
 "nbformat_minor": 0
}
